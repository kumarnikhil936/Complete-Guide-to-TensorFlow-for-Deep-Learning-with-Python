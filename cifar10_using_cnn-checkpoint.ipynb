{
 "cells": [
  {
   "cell_type": "markdown",
   "metadata": {},
   "source": [
    "The CIFAR-10 dataset consists of 60000 32x32 colour images in 10 classes, with 6000 images per class. There are 50000 training images and 10000 test images. \n",
    "\n",
    "The dataset is divided into five training batches and one test batch, each with 10000 images. The test batch contains exactly 1000 randomly-selected images from each class. The training batches contain the remaining images in random order, but some training batches may contain more images from one class than another. \n"
   ]
  },
  {
   "cell_type": "code",
   "execution_count": 82,
   "metadata": {},
   "outputs": [],
   "source": [
    "# directory containing the cifar10 batch files\n",
    "cifar_dir = \"/Users/nikhilkumarjha/pythonWorkspace/tensorflow_basics/cifar-10-batches-py/\""
   ]
  },
  {
   "cell_type": "markdown",
   "metadata": {},
   "source": [
    "The archive contains the files data_batch_1, data_batch_2, ..., data_batch_5, as well as test_batch. Each of these files is a Python \"pickled\" object produced with cPickle."
   ]
  },
  {
   "cell_type": "code",
   "execution_count": 83,
   "metadata": {},
   "outputs": [],
   "source": [
    "import _pickle as cPickle"
   ]
  },
  {
   "cell_type": "code",
   "execution_count": 84,
   "metadata": {},
   "outputs": [],
   "source": [
    "def unpickle(file):\n",
    "    with open(file, 'rb') as fo:\n",
    "        cifar_dict = cPickle.load(fo, encoding=\"bytes\")\n",
    "    return cifar_dict"
   ]
  },
  {
   "cell_type": "code",
   "execution_count": 85,
   "metadata": {},
   "outputs": [],
   "source": [
    "dirs = ['batches.meta', 'data_batch_1', 'data_batch_2', 'data_batch_3', 'data_batch_4', 'data_batch_5', 'test_batch']"
   ]
  },
  {
   "cell_type": "code",
   "execution_count": 86,
   "metadata": {},
   "outputs": [],
   "source": [
    "all_data = [0, 1, 2, 3, 4, 5, 6]"
   ]
  },
  {
   "cell_type": "code",
   "execution_count": 87,
   "metadata": {},
   "outputs": [],
   "source": [
    "for i, direc in zip(all_data, dirs):\n",
    "    all_data[i] = unpickle(cifar_dir+direc)"
   ]
  },
  {
   "cell_type": "code",
   "execution_count": 88,
   "metadata": {},
   "outputs": [],
   "source": [
    "batch_meta = all_data[0]\n",
    "data_batch_1 = all_data[1]\n",
    "data_batch_2 = all_data[2]\n",
    "data_batch_3 = all_data[3]\n",
    "data_batch_4 = all_data[4]\n",
    "data_batch_5 = all_data[5]\n",
    "test_batch = all_data[6]"
   ]
  },
  {
   "cell_type": "code",
   "execution_count": 89,
   "metadata": {},
   "outputs": [
    {
     "data": {
      "text/plain": [
       "{b'num_cases_per_batch': 10000,\n",
       " b'label_names': [b'airplane',\n",
       "  b'automobile',\n",
       "  b'bird',\n",
       "  b'cat',\n",
       "  b'deer',\n",
       "  b'dog',\n",
       "  b'frog',\n",
       "  b'horse',\n",
       "  b'ship',\n",
       "  b'truck'],\n",
       " b'num_vis': 3072}"
      ]
     },
     "execution_count": 89,
     "metadata": {},
     "output_type": "execute_result"
    }
   ],
   "source": [
    "batch_meta"
   ]
  },
  {
   "cell_type": "code",
   "execution_count": 90,
   "metadata": {},
   "outputs": [
    {
     "data": {
      "text/plain": [
       "dict_keys([b'num_cases_per_batch', b'label_names', b'num_vis'])"
      ]
     },
     "execution_count": 90,
     "metadata": {},
     "output_type": "execute_result"
    }
   ],
   "source": [
    "batch_meta.keys()"
   ]
  },
  {
   "cell_type": "code",
   "execution_count": 91,
   "metadata": {},
   "outputs": [
    {
     "data": {
      "text/plain": [
       "dict_keys([b'batch_label', b'labels', b'data', b'filenames'])"
      ]
     },
     "execution_count": 91,
     "metadata": {},
     "output_type": "execute_result"
    }
   ],
   "source": [
    "data_batch_1.keys()"
   ]
  },
  {
   "cell_type": "markdown",
   "metadata": {},
   "source": [
    "Each of the batch files contains a dictionary with the following elements:\n",
    "\n",
    ":: data -- a 10000x3072 numpy array of uint8s. Each row of the array stores a 32x32 colour image. The first 1024 entries contain the red channel values, the next 1024 the green, and the final 1024 the blue. The image is stored in row-major order, so that the first 32 entries of the array are the red channel values of the first row of the image.\n",
    "\n",
    ":: labels -- a list of 10000 numbers in the range 0-9. The number at index i indicates the label of the ith image in the array data.\n",
    "\n",
    "The dataset contains another file, called batches.meta. It too contains a Python dictionary object. It has the following entries:\n",
    "label_names -- a 10-element list which gives meaningful names to the numeric labels in the labels array described above. For example, label_names[0] == \"airplane\", label_names[1] == \"automobile\", etc."
   ]
  },
  {
   "cell_type": "markdown",
   "metadata": {},
   "source": [
    "Display a random image from any of the batch.\n",
    "    "
   ]
  },
  {
   "cell_type": "code",
   "execution_count": 92,
   "metadata": {},
   "outputs": [],
   "source": [
    "import matplotlib.pyplot as plt \n",
    "%matplotlib inline\n",
    "import numpy as np"
   ]
  },
  {
   "cell_type": "markdown",
   "metadata": {},
   "source": [
    "Arrays must be reshaped like this for viewing :\n",
    "\n",
    "x = x.reshape(10000, 3, 32, 32).transpose(0, 2, 3, 1).astype(\"uint8\")"
   ]
  },
  {
   "cell_type": "code",
   "execution_count": 110,
   "metadata": {},
   "outputs": [],
   "source": [
    "x = data_batch_1[b'data']\n",
    "y = data_batch_1[b'labels'] \n",
    "label_name = batch_meta[b'label_names']"
   ]
  },
  {
   "cell_type": "code",
   "execution_count": 111,
   "metadata": {},
   "outputs": [
    {
     "data": {
      "text/plain": [
       "(10000, 3072)"
      ]
     },
     "execution_count": 111,
     "metadata": {},
     "output_type": "execute_result"
    }
   ],
   "source": [
    "x.shape"
   ]
  },
  {
   "cell_type": "code",
   "execution_count": 112,
   "metadata": {},
   "outputs": [],
   "source": [
    "x = x.reshape(10000, 3, 32, 32).transpose(0, 2, 3, 1).astype('uint8') # imshow wants it in the shape (32, 32 ,3)"
   ]
  },
  {
   "cell_type": "code",
   "execution_count": 113,
   "metadata": {},
   "outputs": [
    {
     "data": {
      "text/plain": [
       "(32, 32, 3)"
      ]
     },
     "execution_count": 113,
     "metadata": {},
     "output_type": "execute_result"
    }
   ],
   "source": [
    "x[0].shape"
   ]
  },
  {
   "cell_type": "code",
   "execution_count": 114,
   "metadata": {},
   "outputs": [
    {
     "name": "stdout",
     "output_type": "stream",
     "text": [
      "b'truck'\n"
     ]
    },
    {
     "data": {
      "image/png": "[encoded data removed]",
      "text/plain": [
       "<Figure size 432x288 with 1 Axes>"
      ]
     },
     "metadata": {},
     "output_type": "display_data"
    }
   ],
   "source": [
    "plt.imshow(x[14])\n",
    "print(label_name[y[14]])"
   ]
  },
  {
   "cell_type": "markdown",
   "metadata": {},
   "source": [
    "Helper Functions "
   ]
  },
  {
   "cell_type": "code",
   "execution_count": 117,
   "metadata": {},
   "outputs": [],
   "source": [
    "# one hot encoding \n",
    "def one_hot_encode( vec, vals=10):   # 10 possible labels\n",
    "    n = len(vec)\n",
    "    out = np.zeros((n, vals))\n",
    "    out[range(n), vec] = 1\n",
    "    return out\n",
    "    "
   ]
  },
  {
   "cell_type": "code",
   "execution_count": 120,
   "metadata": {},
   "outputs": [],
   "source": [
    "class cifar:\n",
    "    \n",
    "    def __init__(self):\n",
    "        self.i = 0\n",
    "        \n",
    "        # Grabs a list of all training and test batches \n",
    "        self.train_batch = [data_batch_1, data_batch_2, data_batch_3, data_batch_4, data_batch_5]\n",
    "        self.test_batch = [test_batch]\n",
    "        \n",
    "        self.training_images = None\n",
    "        self.trainig_labels = None\n",
    "        \n",
    "        self.test_images = None\n",
    "        self.test_labels = None\n",
    "        \n",
    "    \n",
    "    def setup_images(self):\n",
    "        print(\"Setting up training images and labels \")\n",
    "        \n",
    "        self.training_images = np.vstack([d[b'data'] for d in self.train_batch])\n",
    "        len_train = len(self.training_images)\n",
    "        \n",
    "        self.training_images = self.training_images.reshape(len_train, 3, 32, 32).transpose(0, 2, 3, 1)/255  # divide by 255 to normalize\n",
    "        self.training_labels = one_hot_encode(np.hstack([d[b'labels'] for d in self.train_batch]))\n",
    "\n",
    "        print(\"Setting up training images and labels \")\n",
    "        self.test_images = np.vstack([d[b'data'] for d in self.test_batch])\n",
    "        len_test = len(self.test_images)\n",
    "        \n",
    "        self.test_images = self.test_images.reshape(len_test, 3, 32, 32).transpose(0, 2, 3, 1)/255  # divide by 255 to normalize\n",
    "        self.test_labels = one_hot_encode(np.hstack([d[b'labels'] for d in self.test_batch]))\n",
    "    \n",
    "    \n",
    "    def next_batch(self, batch_size):\n",
    "        x = self.training_images[self.i : self.i + batch_size].reshape(batch_size, 32, 32, 3)\n",
    "        y = self.training_labels[self.i : self.i + batch_size]\n",
    "        self.i = (self.i + batch_size) % len(self.training_images)\n",
    "        return x, y\n",
    "    "
   ]
  },
  {
   "cell_type": "code",
   "execution_count": 144,
   "metadata": {},
   "outputs": [],
   "source": [
    "cobj = cifar()"
   ]
  },
  {
   "cell_type": "code",
   "execution_count": 145,
   "metadata": {},
   "outputs": [
    {
     "name": "stdout",
     "output_type": "stream",
     "text": [
      "Setting up training images and labels \n",
      "Setting up training images and labels \n"
     ]
    }
   ],
   "source": [
    "cobj.setup_images()"
   ]
  },
  {
   "cell_type": "code",
   "execution_count": 146,
   "metadata": {},
   "outputs": [
    {
     "data": {
      "text/plain": [
       "<matplotlib.image.AxesImage at 0x1217b9c88>"
      ]
     },
     "execution_count": 146,
     "metadata": {},
     "output_type": "execute_result"
    },
    {
     "data": {
      "image/png": "[encoded data removed]",
      "text/plain": [
       "<Figure size 432x288 with 1 Axes>"
      ]
     },
     "metadata": {},
     "output_type": "display_data"
    }
   ],
   "source": [
    "plt.imshow(cobj.training_images[0])"
   ]
  },
  {
   "cell_type": "code",
   "execution_count": 147,
   "metadata": {},
   "outputs": [],
   "source": [
    "import tensorflow as tf "
   ]
  },
  {
   "cell_type": "code",
   "execution_count": 148,
   "metadata": {},
   "outputs": [],
   "source": [
    "# create placeholders \n",
    "x = tf.placeholder(dtype=tf.float32, shape=[None, 32, 32, 3])\n",
    "y_true = tf.placeholder(dtype=tf.float32, shape=[None, 10])\n",
    "hold_prob = tf.placeholder(dtype=tf.float32)\n"
   ]
  },
  {
   "cell_type": "code",
   "execution_count": 149,
   "metadata": {},
   "outputs": [],
   "source": [
    "# helper functions from the \"mnist_using_cnn\" example for conv network\n",
    "\n",
    "# init weights\n",
    "def init_weights(shape):\n",
    "    init_random_distribution = tf.truncated_normal(shape, stddev=0.1)\n",
    "    return tf.Variable(init_random_distribution)\n",
    "\n",
    "# init bias \n",
    "def init_bias(shape):\n",
    "    init_bias_values = tf.constant(0.1, shape=shape)\n",
    "    return tf.Variable(init_bias_values)\n",
    "\n",
    "# conv2d \n",
    "def conv2d(x, w):\n",
    "    # x : input tensor [batch, height, width, channels]\n",
    "    # w : filter (kernel) [filter H, filter W, Channels IN, Channels OUT]\n",
    "    return tf.nn.conv2d(x, w, strides=[1, 1, 1, 1], padding='SAME')\n",
    "    \n",
    "\n",
    "# pooling\n",
    "def max_pool_2by2(x):\n",
    "    # x : [batch, h, w, channels]\n",
    "    # ksize is the size of the window for each dimension of the input tensor\n",
    "    # stride is the size of the strides for each dimension of the input tensor\n",
    "    return tf.nn.max_pool(x, ksize=[1, 2, 2, 1], strides=[1, 2, 2, 1], padding='SAME') \n",
    "\n",
    "# convolutional layer \n",
    "def conv_layer(x, shape):\n",
    "    w = init_weights(shape)\n",
    "    b = init_bias([shape[3]]) \n",
    "    return tf.nn.relu(conv2d(x, w)+b)\n",
    "\n",
    "\n",
    "# fully connected \n",
    "def fc_layer(input_layer, size):  # size of the fc layer \n",
    "    input_size = int(input_layer.get_shape()[1])\n",
    "    w = init_weights([input_size, size])\n",
    "    b = init_bias([size])\n",
    "    return tf.matmul(input_layer, w) + b"
   ]
  },
  {
   "cell_type": "code",
   "execution_count": 150,
   "metadata": {},
   "outputs": [],
   "source": [
    "conv1 = conv_layer(x, shape=[4, 4, 3, 32])\n",
    "pool1 = max_pool_2by2(conv1)"
   ]
  },
  {
   "cell_type": "code",
   "execution_count": 151,
   "metadata": {},
   "outputs": [],
   "source": [
    "conv2 = conv_layer(pool1, shape=[4, 4, 32, 64])\n",
    "pool2 = max_pool_2by2(conv2)"
   ]
  },
  {
   "cell_type": "code",
   "execution_count": 152,
   "metadata": {},
   "outputs": [],
   "source": [
    "# flattened layer of [-1, 8*8*64]\n",
    "conv2flat = tf.reshape(pool2, [-1, 8*8*64])"
   ]
  },
  {
   "cell_type": "code",
   "execution_count": 153,
   "metadata": {},
   "outputs": [],
   "source": [
    "fc1 = tf.nn.relu(fc_layer(conv2flat, 1024))"
   ]
  },
  {
   "cell_type": "code",
   "execution_count": 154,
   "metadata": {},
   "outputs": [],
   "source": [
    "drop1 = tf.nn.dropout(fc1, hold_prob)"
   ]
  },
  {
   "cell_type": "code",
   "execution_count": 155,
   "metadata": {},
   "outputs": [],
   "source": [
    "y_pred = fc_layer(drop1, 10)"
   ]
  },
  {
   "cell_type": "code",
   "execution_count": 156,
   "metadata": {},
   "outputs": [],
   "source": [
    "# loss \n",
    "cross_entropy = tf.reduce_sum(tf.nn.softmax_cross_entropy_with_logits_v2(labels=y_true, logits=y_pred))"
   ]
  },
  {
   "cell_type": "code",
   "execution_count": 157,
   "metadata": {},
   "outputs": [],
   "source": [
    "# optimizer \n",
    "opt = tf.train.AdamOptimizer(learning_rate=0.03)"
   ]
  },
  {
   "cell_type": "code",
   "execution_count": 158,
   "metadata": {},
   "outputs": [],
   "source": [
    "# train \n",
    "train = opt.minimize(cross_entropy)"
   ]
  },
  {
   "cell_type": "code",
   "execution_count": 159,
   "metadata": {},
   "outputs": [],
   "source": [
    "init = tf.global_variables_initializer()"
   ]
  },
  {
   "cell_type": "code",
   "execution_count": 165,
   "metadata": {},
   "outputs": [
    {
     "ename": "SyntaxError",
     "evalue": "invalid syntax (<ipython-input-165-783dcad9308a>, line 13)",
     "output_type": "error",
     "traceback": [
      "\u001b[0;36m  File \u001b[0;32m\"<ipython-input-165-783dcad9308a>\"\u001b[0;36m, line \u001b[0;32m13\u001b[0m\n\u001b[0;31m    sess.run(train, feed_dict={x: batch_x, y_true: batch_y, hold_prob=0.5})\u001b[0m\n\u001b[0m                                                                     ^\u001b[0m\n\u001b[0;31mSyntaxError\u001b[0m\u001b[0;31m:\u001b[0m invalid syntax\n"
     ]
    }
   ],
   "source": [
    "with tf.Session() as sess:\n",
    "    \n",
    "    sess.run(init)\n",
    "    \n",
    "    for steps in range(500):\n",
    "    \n",
    "        batch_x, batch_y = cobj.next_batch(100)\n",
    "    \n",
    "        correct_prediction = tf.equal(tf.argmax(y_pred, 1), tf.argmax(y_true, 1))\n",
    "    \n",
    "        accuracy = tf.reduce_mean(tf.cast(correct_prediction), tf.float32)\n",
    "    \n",
    "        sess.run(train, feed_dict={x: batch_x, y_true: batch_y, hold_prob=0.5})\n",
    "    \n",
    "        if (steps%100 == 0):\n",
    "            print(\"Step \", steps, \" :: Train accuracy \", sess.run(accuracy, feed_dict={x:batch_x, y_true:batch_y,hold_prob: 0.5}))\n",
    "            \n",
    "    \n",
    "    print(\"Test accuracy \", sess.run(accuracy, feed_dict={x:cobj.test_images, y_true: cobj.test_labels, hold_prob: 1.0}))"
   ]
  },
  {
   "cell_type": "code",
   "execution_count": null,
   "metadata": {},
   "outputs": [],
   "source": []
  }
 ],
 "metadata": {
  "kernelspec": {
   "display_name": "Python 3",
   "language": "python",
   "name": "python3"
  },
  "language_info": {
   "codemirror_mode": {
    "name": "ipython",
    "version": 3
   },
   "file_extension": ".py",
   "mimetype": "text/x-python",
   "name": "python",
   "nbconvert_exporter": "python",
   "pygments_lexer": "ipython3",
   "version": "3.6.3"
  }
 },
 "nbformat": 4,
 "nbformat_minor": 2
}
