{
 "cells": [
  {
   "cell_type": "code",
   "execution_count": 1,
   "metadata": {},
   "outputs": [],
   "source": [
    "import tensorflow as tf "
   ]
  },
  {
   "cell_type": "code",
   "execution_count": 2,
   "metadata": {},
   "outputs": [],
   "source": [
    "n1 = tf.constant(2)"
   ]
  },
  {
   "cell_type": "code",
   "execution_count": 3,
   "metadata": {},
   "outputs": [],
   "source": [
    "n2 = tf.constant(3)"
   ]
  },
  {
   "cell_type": "code",
   "execution_count": 4,
   "metadata": {},
   "outputs": [],
   "source": [
    "n3 = n1 + n2"
   ]
  },
  {
   "cell_type": "code",
   "execution_count": 5,
   "metadata": {},
   "outputs": [],
   "source": [
    "sess = tf.InteractiveSession()"
   ]
  },
  {
   "cell_type": "code",
   "execution_count": 6,
   "metadata": {},
   "outputs": [
    {
     "name": "stdout",
     "output_type": "stream",
     "text": [
      "5\n"
     ]
    }
   ],
   "source": [
    "print(sess.run(n3))"
   ]
  },
  {
   "cell_type": "code",
   "execution_count": 7,
   "metadata": {},
   "outputs": [
    {
     "name": "stdout",
     "output_type": "stream",
     "text": [
      "1.9.0\n"
     ]
    }
   ],
   "source": [
    "print(tf.__version__)"
   ]
  },
  {
   "cell_type": "code",
   "execution_count": 8,
   "metadata": {},
   "outputs": [],
   "source": [
    "hello = tf.constant(\"hello \")"
   ]
  },
  {
   "cell_type": "code",
   "execution_count": 9,
   "metadata": {},
   "outputs": [],
   "source": [
    "world = tf.constant(\"world\")"
   ]
  },
  {
   "cell_type": "code",
   "execution_count": 10,
   "metadata": {},
   "outputs": [
    {
     "data": {
      "text/plain": [
       "<tf.Tensor 'Const_2:0' shape=() dtype=string>"
      ]
     },
     "execution_count": 10,
     "metadata": {},
     "output_type": "execute_result"
    }
   ],
   "source": [
    "hello\n"
   ]
  },
  {
   "cell_type": "code",
   "execution_count": 13,
   "metadata": {},
   "outputs": [
    {
     "name": "stdout",
     "output_type": "stream",
     "text": [
      "b'hello world'\n"
     ]
    }
   ],
   "source": [
    "with tf.Session() as sess:\n",
    "    print(sess.run(hello + world))"
   ]
  },
  {
   "cell_type": "code",
   "execution_count": 15,
   "metadata": {},
   "outputs": [
    {
     "data": {
      "text/plain": [
       "<tf.Tensor 'add_3:0' shape=() dtype=string>"
      ]
     },
     "execution_count": 15,
     "metadata": {},
     "output_type": "execute_result"
    }
   ],
   "source": [
    "hello + world"
   ]
  },
  {
   "cell_type": "code",
   "execution_count": null,
   "metadata": {},
   "outputs": [],
   "source": []
  },
  {
   "cell_type": "code",
   "execution_count": 19,
   "metadata": {},
   "outputs": [],
   "source": [
    "fill_mat = tf.fill((3,3), 3)"
   ]
  },
  {
   "cell_type": "code",
   "execution_count": 21,
   "metadata": {},
   "outputs": [
    {
     "data": {
      "text/plain": [
       "<tf.Tensor 'Fill_1:0' shape=(3, 3) dtype=int32>"
      ]
     },
     "execution_count": 21,
     "metadata": {},
     "output_type": "execute_result"
    }
   ],
   "source": [
    "fill_mat"
   ]
  },
  {
   "cell_type": "code",
   "execution_count": 22,
   "metadata": {},
   "outputs": [],
   "source": [
    "myzeros = tf.zeros((2,2))"
   ]
  },
  {
   "cell_type": "code",
   "execution_count": 23,
   "metadata": {},
   "outputs": [],
   "source": [
    "myones = tf.ones((2,2))"
   ]
  },
  {
   "cell_type": "code",
   "execution_count": 24,
   "metadata": {},
   "outputs": [],
   "source": [
    "myrandn = tf.random_normal((3,3), 0, 1)"
   ]
  },
  {
   "cell_type": "code",
   "execution_count": 25,
   "metadata": {},
   "outputs": [],
   "source": [
    "myrandu = tf.random_uniform((2,2), 1, 10)"
   ]
  },
  {
   "cell_type": "code",
   "execution_count": 26,
   "metadata": {},
   "outputs": [],
   "source": [
    "ops = [fill_mat, myones, myrandn, myrandu, myzeros]"
   ]
  },
  {
   "cell_type": "code",
   "execution_count": 27,
   "metadata": {},
   "outputs": [
    {
     "name": "stdout",
     "output_type": "stream",
     "text": [
      "[[3 3 3]\n",
      " [3 3 3]\n",
      " [3 3 3]]\n",
      "\n",
      "\n",
      "[[1. 1.]\n",
      " [1. 1.]]\n",
      "\n",
      "\n",
      "[[-0.1546087   0.89031446 -0.37688023]\n",
      " [-1.2155983   1.5446461   0.6548664 ]\n",
      " [-0.468338    1.3361684   0.3579011 ]]\n",
      "\n",
      "\n",
      "[[6.298682  5.9004583]\n",
      " [5.995642  1.1971552]]\n",
      "\n",
      "\n",
      "[[0. 0.]\n",
      " [0. 0.]]\n",
      "\n",
      "\n"
     ]
    }
   ],
   "source": [
    "with tf.Session() as sess:\n",
    "    for op in ops:\n",
    "        print(sess.run(op))\n",
    "        print(\"\\n\")\n",
    "    "
   ]
  },
  {
   "cell_type": "code",
   "execution_count": 31,
   "metadata": {},
   "outputs": [
    {
     "name": "stdout",
     "output_type": "stream",
     "text": [
      "[[3 3 3]\n",
      " [3 3 3]\n",
      " [3 3 3]] \n",
      "\n",
      "[[1. 1.]\n",
      " [1. 1.]] \n",
      "\n",
      "[[-0.72682387  0.8063031  -0.12750435]\n",
      " [-1.3751503  -0.98099244 -0.08934876]\n",
      " [ 1.5160185   0.2393465   1.815528  ]] \n",
      "\n",
      "[[1.3510014 1.8144099]\n",
      " [7.1983833 4.5858936]] \n",
      "\n",
      "[[0. 0.]\n",
      " [0. 0.]] \n",
      "\n"
     ]
    }
   ],
   "source": [
    "for op in ops:\n",
    "    print(op.eval(), \"\\n\")"
   ]
  },
  {
   "cell_type": "code",
   "execution_count": 39,
   "metadata": {},
   "outputs": [
    {
     "name": "stdout",
     "output_type": "stream",
     "text": [
      "(3, 3)\n",
      "(3, 3)\n"
     ]
    }
   ],
   "source": [
    "print(myrandn.shape)\n",
    "print(fill_mat.shape)"
   ]
  },
  {
   "cell_type": "code",
   "execution_count": 44,
   "metadata": {},
   "outputs": [
    {
     "name": "stdout",
     "output_type": "stream",
     "text": [
      "<dtype: 'int32'>\n",
      "<dtype: 'float32'>\n"
     ]
    }
   ],
   "source": [
    "print(fill_mat.dtype)\n",
    "print(myrandn.dtype)"
   ]
  },
  {
   "cell_type": "code",
   "execution_count": 47,
   "metadata": {},
   "outputs": [],
   "source": [
    "res = tf.matmul(myrandn, tf.cast(fill_mat, tf.float32))"
   ]
  },
  {
   "cell_type": "code",
   "execution_count": 48,
   "metadata": {},
   "outputs": [
    {
     "data": {
      "text/plain": [
       "array([[ 3.0859685,  3.0859685,  3.0859685],\n",
       "       [ 4.6946373,  4.6946373,  4.6946373],\n",
       "       [-1.2490312, -1.2490312, -1.2490312]], dtype=float32)"
      ]
     },
     "execution_count": 48,
     "metadata": {},
     "output_type": "execute_result"
    }
   ],
   "source": [
    "res.eval()"
   ]
  },
  {
   "cell_type": "code",
   "execution_count": 50,
   "metadata": {},
   "outputs": [
    {
     "data": {
      "text/plain": [
       "TensorShape([Dimension(3), Dimension(3)])"
      ]
     },
     "execution_count": 50,
     "metadata": {},
     "output_type": "execute_result"
    }
   ],
   "source": [
    "res.get_shape()"
   ]
  },
  {
   "cell_type": "markdown",
   "metadata": {},
   "source": [
    "\n",
    "**Graphs and sessions"
   ]
  },
  {
   "cell_type": "code",
   "execution_count": 51,
   "metadata": {},
   "outputs": [
    {
     "name": "stdout",
     "output_type": "stream",
     "text": [
      "<function get_default_graph at 0x7f23e3fc21e0>\n"
     ]
    }
   ],
   "source": [
    "print(tf.get_default_graph)"
   ]
  },
  {
   "cell_type": "code",
   "execution_count": 52,
   "metadata": {},
   "outputs": [
    {
     "name": "stdout",
     "output_type": "stream",
     "text": [
      "<function get_collection at 0x7f23e3fc26a8>\n"
     ]
    }
   ],
   "source": [
    "print(tf.get_collection)"
   ]
  },
  {
   "cell_type": "code",
   "execution_count": 53,
   "metadata": {},
   "outputs": [
    {
     "name": "stdout",
     "output_type": "stream",
     "text": [
      "<function get_default_session at 0x7f23e3fbc9d8>\n"
     ]
    }
   ],
   "source": [
    "print(tf.get_default_session)"
   ]
  },
  {
   "cell_type": "code",
   "execution_count": 55,
   "metadata": {},
   "outputs": [
    {
     "name": "stdout",
     "output_type": "stream",
     "text": [
      "<function get_default_session at 0x7f23e3fbc9d8>\n"
     ]
    }
   ],
   "source": [
    "with tf.Session() as sess:\n",
    "    print(tf.get_default_session)"
   ]
  },
  {
   "cell_type": "code",
   "execution_count": 56,
   "metadata": {},
   "outputs": [
    {
     "name": "stderr",
     "output_type": "stream",
     "text": [
      "/home/student/anaconda3/lib/python3.6/site-packages/tensorflow/python/client/session.py:1714: UserWarning: An interactive session is already active. This can cause out-of-memory errors in some cases. You must explicitly call `InteractiveSession.close()` to release resources held by the other session(s).\n",
      "  warnings.warn('An interactive session is already active. This can '\n"
     ]
    }
   ],
   "source": [
    "sess = tf.InteractiveSession()"
   ]
  },
  {
   "cell_type": "code",
   "execution_count": 57,
   "metadata": {},
   "outputs": [
    {
     "name": "stdout",
     "output_type": "stream",
     "text": [
      "<function get_default_session at 0x7f23e3fbc9d8>\n"
     ]
    }
   ],
   "source": [
    "with tf.Session() as sess:\n",
    "    print(tf.get_default_session)"
   ]
  },
  {
   "cell_type": "code",
   "execution_count": 58,
   "metadata": {},
   "outputs": [],
   "source": [
    "g1 = tf.Graph()"
   ]
  },
  {
   "cell_type": "code",
   "execution_count": 59,
   "metadata": {},
   "outputs": [
    {
     "name": "stdout",
     "output_type": "stream",
     "text": [
      "<tensorflow.python.framework.ops.Graph object at 0x7f23cc3bc3c8>\n"
     ]
    }
   ],
   "source": [
    "print(g1)"
   ]
  },
  {
   "cell_type": "code",
   "execution_count": 51,
   "metadata": {},
   "outputs": [
    {
     "name": "stdout",
     "output_type": "stream",
     "text": [
      "<function get_default_graph at 0x7f23e3fc21e0>\n"
     ]
    }
   ],
   "source": [
    "print(tf.get_default_graph)"
   ]
  },
  {
   "cell_type": "code",
   "execution_count": 61,
   "metadata": {},
   "outputs": [
    {
     "name": "stdout",
     "output_type": "stream",
     "text": [
      "True\n"
     ]
    }
   ],
   "source": [
    "with g1.as_default():\n",
    "    print(g1 is tf.get_default_graph())"
   ]
  },
  {
   "cell_type": "code",
   "execution_count": 63,
   "metadata": {},
   "outputs": [
    {
     "name": "stdout",
     "output_type": "stream",
     "text": [
      "False\n"
     ]
    }
   ],
   "source": [
    "print(g1 is tf.get_default_graph())"
   ]
  },
  {
   "cell_type": "markdown",
   "metadata": {},
   "source": [
    "**Variables and Placeholders \n",
    " "
   ]
  },
  {
   "cell_type": "markdown",
   "metadata": {},
   "source": [
    "Variables need to be firstly initialized - using GlobalVariableInitializer. Placeholders are initially empty, but need to have a datatype with an optional shape argument"
   ]
  },
  {
   "cell_type": "code",
   "execution_count": 65,
   "metadata": {},
   "outputs": [],
   "source": [
    "var1 = tf.Variable(initial_value=myrandu)"
   ]
  },
  {
   "cell_type": "code",
   "execution_count": 79,
   "metadata": {},
   "outputs": [],
   "source": [
    "tf.InteractiveSession.close(sess)"
   ]
  },
  {
   "cell_type": "code",
   "execution_count": 80,
   "metadata": {},
   "outputs": [
    {
     "name": "stdout",
     "output_type": "stream",
     "text": [
      "<tensorflow.python.client.session.InteractiveSession object at 0x7f23cc3bc9e8>\n"
     ]
    }
   ],
   "source": [
    "print(sess)"
   ]
  },
  {
   "cell_type": "code",
   "execution_count": 81,
   "metadata": {},
   "outputs": [
    {
     "name": "stderr",
     "output_type": "stream",
     "text": [
      "/home/student/anaconda3/lib/python3.6/site-packages/tensorflow/python/client/session.py:1714: UserWarning: An interactive session is already active. This can cause out-of-memory errors in some cases. You must explicitly call `InteractiveSession.close()` to release resources held by the other session(s).\n",
      "  warnings.warn('An interactive session is already active. This can '\n"
     ]
    }
   ],
   "source": [
    "sess = tf.InteractiveSession()"
   ]
  },
  {
   "cell_type": "code",
   "execution_count": 83,
   "metadata": {},
   "outputs": [],
   "source": [
    "\n",
    "sess.run(tf.global_variables_initializer())"
   ]
  },
  {
   "cell_type": "code",
   "execution_count": 85,
   "metadata": {},
   "outputs": [
    {
     "data": {
      "text/plain": [
       "array([[6.3364906, 2.3565369],\n",
       "       [1.5580121, 2.1938963]], dtype=float32)"
      ]
     },
     "execution_count": 85,
     "metadata": {},
     "output_type": "execute_result"
    }
   ],
   "source": [
    "var1.eval()"
   ]
  },
  {
   "cell_type": "code",
   "execution_count": 94,
   "metadata": {},
   "outputs": [],
   "source": [
    "ph1 = tf.placeholder(dtype=tf.float32, shape=((3,3)))\n",
    "ph2 = tf.placeholder(dtype=tf.float32, shape=((None, None)))"
   ]
  },
  {
   "cell_type": "code",
   "execution_count": 95,
   "metadata": {},
   "outputs": [],
   "source": [
    "y = tf.matmul(ph1, ph2)"
   ]
  },
  {
   "cell_type": "code",
   "execution_count": 101,
   "metadata": {},
   "outputs": [],
   "source": [
    "x = [[2,1,3], [3,4,5], [5,4,3]]"
   ]
  },
  {
   "cell_type": "code",
   "execution_count": 102,
   "metadata": {},
   "outputs": [],
   "source": [
    "import numpy as np"
   ]
  },
  {
   "cell_type": "code",
   "execution_count": 103,
   "metadata": {},
   "outputs": [],
   "source": [
    "x1 = np.random.normal(0, 1, (3,3))"
   ]
  },
  {
   "cell_type": "code",
   "execution_count": 104,
   "metadata": {},
   "outputs": [
    {
     "data": {
      "text/plain": [
       "array([[-0.6557511,  3.7188883,  2.7619803],\n",
       "       [-1.5742096,  8.261962 ,  4.16649  ],\n",
       "       [ 1.5164336,  5.2232914,  2.4745533]], dtype=float32)"
      ]
     },
     "execution_count": 104,
     "metadata": {},
     "output_type": "execute_result"
    }
   ],
   "source": [
    "y.eval(feed_dict={ph1:x, ph2:x1})"
   ]
  },
  {
   "cell_type": "code",
   "execution_count": 114,
   "metadata": {},
   "outputs": [
    {
     "name": "stdout",
     "output_type": "stream",
     "text": [
      "[[-0.6557511  3.7188883  2.7619803]\n",
      " [-1.5742096  8.261962   4.16649  ]\n",
      " [ 1.5164336  5.2232914  2.4745533]]\n"
     ]
    }
   ],
   "source": [
    "with tf.Session() as sess:\n",
    "    print(sess.run(y, feed_dict={ph1:x, ph2:x1}))"
   ]
  },
  {
   "cell_type": "markdown",
   "metadata": {},
   "source": [
    " **Example neural network\n",
    " z = w * x + b"
   ]
  },
  {
   "cell_type": "code",
   "execution_count": 117,
   "metadata": {},
   "outputs": [],
   "source": [
    "n_features = 10\n",
    "n_dense_neurons = 3"
   ]
  },
  {
   "cell_type": "code",
   "execution_count": 118,
   "metadata": {},
   "outputs": [],
   "source": [
    "x = tf.placeholder(dtype=tf.float32, shape=(None, n_features))"
   ]
  },
  {
   "cell_type": "code",
   "execution_count": 121,
   "metadata": {},
   "outputs": [],
   "source": [
    "w = tf.Variable(dtype=tf.float32, initial_value=tf.random_normal((n_features, n_dense_neurons)))"
   ]
  },
  {
   "cell_type": "code",
   "execution_count": 122,
   "metadata": {},
   "outputs": [],
   "source": [
    "b = tf.Variable(initial_value=tf.ones((n_dense_neurons)))"
   ]
  },
  {
   "cell_type": "code",
   "execution_count": 123,
   "metadata": {},
   "outputs": [
    {
     "data": {
      "text/plain": [
       "<tf.Variable 'Variable_2:0' shape=(3,) dtype=float32_ref>"
      ]
     },
     "execution_count": 123,
     "metadata": {},
     "output_type": "execute_result"
    }
   ],
   "source": [
    "b\n"
   ]
  },
  {
   "cell_type": "code",
   "execution_count": 127,
   "metadata": {},
   "outputs": [
    {
     "data": {
      "text/plain": [
       "<bound method Tensor.get_shape of <tf.Tensor 'MatMul_7:0' shape=(?, 3) dtype=float32>>"
      ]
     },
     "execution_count": 127,
     "metadata": {},
     "output_type": "execute_result"
    }
   ],
   "source": [
    "xw = tf.matmul(x,w)\n",
    "xw.get_shape"
   ]
  },
  {
   "cell_type": "code",
   "execution_count": 128,
   "metadata": {},
   "outputs": [
    {
     "data": {
      "text/plain": [
       "<bound method Tensor.get_shape of <tf.Tensor 'Add_6:0' shape=(?, 3) dtype=float32>>"
      ]
     },
     "execution_count": 128,
     "metadata": {},
     "output_type": "execute_result"
    }
   ],
   "source": [
    "z = tf.add(xw, b)\n",
    "z.get_shape"
   ]
  },
  {
   "cell_type": "code",
   "execution_count": 129,
   "metadata": {},
   "outputs": [],
   "source": [
    "a = tf.sigmoid(z)"
   ]
  },
  {
   "cell_type": "code",
   "execution_count": 130,
   "metadata": {},
   "outputs": [],
   "source": [
    "init = tf.global_variables_initializer()"
   ]
  },
  {
   "cell_type": "code",
   "execution_count": 133,
   "metadata": {},
   "outputs": [
    {
     "name": "stderr",
     "output_type": "stream",
     "text": [
      "/home/student/anaconda3/lib/python3.6/site-packages/tensorflow/python/client/session.py:1714: UserWarning: An interactive session is already active. This can cause out-of-memory errors in some cases. You must explicitly call `InteractiveSession.close()` to release resources held by the other session(s).\n",
      "  warnings.warn('An interactive session is already active. This can '\n"
     ]
    }
   ],
   "source": [
    "sess = tf.InteractiveSession()"
   ]
  },
  {
   "cell_type": "code",
   "execution_count": 134,
   "metadata": {},
   "outputs": [],
   "source": [
    "sess.run(init)"
   ]
  },
  {
   "cell_type": "code",
   "execution_count": 141,
   "metadata": {},
   "outputs": [],
   "source": [
    "\n",
    "layer_out = sess.run(a, feed_dict={x: np.random.random([1, n_features])})\n",
    "# Also can do it like - a.eval(feed_dict={x:np.random.random([50,n_features])})"
   ]
  },
  {
   "cell_type": "code",
   "execution_count": 142,
   "metadata": {},
   "outputs": [
    {
     "name": "stdout",
     "output_type": "stream",
     "text": [
      "[[0.59535545 0.13717926 0.9952231 ]]\n"
     ]
    }
   ],
   "source": [
    "print(layer_out)"
   ]
  },
  {
   "cell_type": "markdown",
   "metadata": {},
   "source": [
    "**Simple regression example"
   ]
  },
  {
   "cell_type": "code",
   "execution_count": 147,
   "metadata": {},
   "outputs": [],
   "source": [
    "x_data = np.linspace(0,10,10) + np.random.uniform(-2, 2, 10)"
   ]
  },
  {
   "cell_type": "code",
   "execution_count": 223,
   "metadata": {},
   "outputs": [],
   "source": [
    "y_label = np.linspace(0,5,10) + np.random.uniform(-1, 1, 10)"
   ]
  },
  {
   "cell_type": "code",
   "execution_count": 224,
   "metadata": {},
   "outputs": [],
   "source": [
    "import matplotlib.pyplot as plt \n",
    "%matplotlib inline"
   ]
  },
  {
   "cell_type": "code",
   "execution_count": 225,
   "metadata": {},
   "outputs": [
    {
     "data": {
      "text/plain": [
       "[<matplotlib.lines.Line2D at 0x7f23a04bb7f0>]"
      ]
     },
     "execution_count": 225,
     "metadata": {},
     "output_type": "execute_result"
    },
    {
     "data": {
      "image/png": "[encoded data removed]",
      "text/plain": [
       "<Figure size 432x288 with 1 Axes>"
      ]
     },
     "metadata": {},
     "output_type": "display_data"
    }
   ],
   "source": [
    "plt.plot(x_data, y_label, 'go')"
   ]
  },
  {
   "cell_type": "markdown",
   "metadata": {},
   "source": [
    "y = mx + b"
   ]
  },
  {
   "cell_type": "code",
   "execution_count": 226,
   "metadata": {},
   "outputs": [],
   "source": [
    "m = tf.Variable(np.random.random(1))"
   ]
  },
  {
   "cell_type": "code",
   "execution_count": 227,
   "metadata": {},
   "outputs": [],
   "source": [
    "b = tf.Variable(np.random.random(1))"
   ]
  },
  {
   "cell_type": "code",
   "execution_count": 228,
   "metadata": {},
   "outputs": [],
   "source": [
    "error = 0\n",
    "\n",
    "for x, y in zip(x_data, y_label):\n",
    "    \n",
    "    y_hat = m*x + b\n",
    "    \n",
    "    error += (y - y_hat)**2\n",
    "    "
   ]
  },
  {
   "cell_type": "code",
   "execution_count": 229,
   "metadata": {},
   "outputs": [],
   "source": [
    "optimizer = tf.train.GradientDescentOptimizer(learning_rate=0.001)"
   ]
  },
  {
   "cell_type": "code",
   "execution_count": 230,
   "metadata": {},
   "outputs": [],
   "source": [
    "train = optimizer.minimize(error)"
   ]
  },
  {
   "cell_type": "code",
   "execution_count": 231,
   "metadata": {},
   "outputs": [
    {
     "name": "stdout",
     "output_type": "stream",
     "text": [
      "Step  0  :: error =  [6.42334804]\n",
      "Step  1  :: error =  [6.28311159]\n",
      "Step  2  :: error =  [6.24869895]\n",
      "Step  3  :: error =  [6.21528781]\n",
      "Step  4  :: error =  [6.18231235]\n",
      "Step  5  :: error =  [6.14976396]\n",
      "Step  6  :: error =  [6.11763711]\n",
      "Step  7  :: error =  [6.08592634]\n",
      "Step  8  :: error =  [6.05462624]\n",
      "Step  9  :: error =  [6.02373152]\n"
     ]
    }
   ],
   "source": [
    "with tf.Session() as sess:\n",
    "    sess.run(tf.global_variables_initializer())\n",
    "    steps = 10\n",
    "    for i in range(steps):\n",
    "        sess.run(train)\n",
    "        print(\"Step \", i, \" :: error = \", sess.run(error))\n",
    "\n",
    "    final_slope, final_intercept = sess.run([m, b])"
   ]
  },
  {
   "cell_type": "code",
   "execution_count": 232,
   "metadata": {},
   "outputs": [
    {
     "name": "stdout",
     "output_type": "stream",
     "text": [
      "[0.39456594] [0.14220473]\n",
      "[-0.25236121  0.27372672  0.79981464  1.32590256  1.85199048  2.37807841\n",
      "  2.90416633  3.43025425  3.95634218  4.4824301 ]\n"
     ]
    }
   ],
   "source": [
    "print(final_slope, final_intercept)\n",
    "x_test = np.linspace(-1, 11, 10)\n",
    "y_pred = final_slope * x_test + final_intercept\n",
    "print(y_pred)"
   ]
  },
  {
   "cell_type": "code",
   "execution_count": 233,
   "metadata": {},
   "outputs": [
    {
     "data": {
      "text/plain": [
       "[<matplotlib.lines.Line2D at 0x7f23a052e6a0>]"
      ]
     },
     "execution_count": 233,
     "metadata": {},
     "output_type": "execute_result"
    },
    {
     "data": {
      "image/png": "[encoded data removed]",
      "text/plain": [
       "<Figure size 432x288 with 1 Axes>"
      ]
     },
     "metadata": {},
     "output_type": "display_data"
    }
   ],
   "source": [
    "plt.plot(x_test, y_pred, 'r')\n",
    "plt.plot(x_data, y_label, '*')"
   ]
  },
  {
   "cell_type": "markdown",
   "metadata": {},
   "source": [
    "**Regression example 2"
   ]
  },
  {
   "cell_type": "code",
   "execution_count": 345,
   "metadata": {},
   "outputs": [
    {
     "data": {
      "text/plain": [
       "(1000,)"
      ]
     },
     "execution_count": 345,
     "metadata": {},
     "output_type": "execute_result"
    }
   ],
   "source": [
    "x_data = np.linspace(0, 10, 1000)\n",
    "x_data.shape"
   ]
  },
  {
   "cell_type": "code",
   "execution_count": 346,
   "metadata": {},
   "outputs": [
    {
     "data": {
      "text/plain": [
       "(1000,)"
      ]
     },
     "execution_count": 346,
     "metadata": {},
     "output_type": "execute_result"
    }
   ],
   "source": [
    "noise = np.random.randn(len(x_data))\n",
    "noise.shape"
   ]
  },
  {
   "cell_type": "markdown",
   "metadata": {},
   "source": [
    "y = m*x + b\n"
   ]
  },
  {
   "cell_type": "code",
   "execution_count": 347,
   "metadata": {},
   "outputs": [],
   "source": [
    "m = 0.5 \n",
    "b = 5"
   ]
  },
  {
   "cell_type": "code",
   "execution_count": 348,
   "metadata": {},
   "outputs": [],
   "source": [
    "y_true = (m * x_data) + b + noise"
   ]
  },
  {
   "cell_type": "code",
   "execution_count": 349,
   "metadata": {},
   "outputs": [],
   "source": [
    "import pandas as pd "
   ]
  },
  {
   "cell_type": "code",
   "execution_count": 350,
   "metadata": {},
   "outputs": [],
   "source": [
    "x_df = pd.DataFrame(x_data, columns=[\"x data\"])"
   ]
  },
  {
   "cell_type": "code",
   "execution_count": 351,
   "metadata": {},
   "outputs": [
    {
     "data": {
      "text/html": [
       "<div>\n",
       "<style scoped>\n",
       "    .dataframe tbody tr th:only-of-type {\n",
       "        vertical-align: middle;\n",
       "    }\n",
       "\n",
       "    .dataframe tbody tr th {\n",
       "        vertical-align: top;\n",
       "    }\n",
       "\n",
       "    .dataframe thead th {\n",
       "        text-align: right;\n",
       "    }\n",
       "</style>\n",
       "<table border=\"1\" class=\"dataframe\">\n",
       "  <thead>\n",
       "    <tr style=\"text-align: right;\">\n",
       "      <th></th>\n",
       "      <th>x data</th>\n",
       "    </tr>\n",
       "  </thead>\n",
       "  <tbody>\n",
       "    <tr>\n",
       "      <th>0</th>\n",
       "      <td>0.00000</td>\n",
       "    </tr>\n",
       "    <tr>\n",
       "      <th>1</th>\n",
       "      <td>0.01001</td>\n",
       "    </tr>\n",
       "    <tr>\n",
       "      <th>2</th>\n",
       "      <td>0.02002</td>\n",
       "    </tr>\n",
       "    <tr>\n",
       "      <th>3</th>\n",
       "      <td>0.03003</td>\n",
       "    </tr>\n",
       "    <tr>\n",
       "      <th>4</th>\n",
       "      <td>0.04004</td>\n",
       "    </tr>\n",
       "  </tbody>\n",
       "</table>\n",
       "</div>"
      ],
      "text/plain": [
       "    x data\n",
       "0  0.00000\n",
       "1  0.01001\n",
       "2  0.02002\n",
       "3  0.03003\n",
       "4  0.04004"
      ]
     },
     "execution_count": 351,
     "metadata": {},
     "output_type": "execute_result"
    }
   ],
   "source": [
    "x_df.head()"
   ]
  },
  {
   "cell_type": "code",
   "execution_count": 352,
   "metadata": {},
   "outputs": [],
   "source": [
    "y_df = pd.DataFrame(y_true, columns=[\"y\"])"
   ]
  },
  {
   "cell_type": "code",
   "execution_count": 353,
   "metadata": {},
   "outputs": [
    {
     "data": {
      "text/html": [
       "<div>\n",
       "<style scoped>\n",
       "    .dataframe tbody tr th:only-of-type {\n",
       "        vertical-align: middle;\n",
       "    }\n",
       "\n",
       "    .dataframe tbody tr th {\n",
       "        vertical-align: top;\n",
       "    }\n",
       "\n",
       "    .dataframe thead th {\n",
       "        text-align: right;\n",
       "    }\n",
       "</style>\n",
       "<table border=\"1\" class=\"dataframe\">\n",
       "  <thead>\n",
       "    <tr style=\"text-align: right;\">\n",
       "      <th></th>\n",
       "      <th>y</th>\n",
       "    </tr>\n",
       "  </thead>\n",
       "  <tbody>\n",
       "    <tr>\n",
       "      <th>0</th>\n",
       "      <td>5.115298</td>\n",
       "    </tr>\n",
       "    <tr>\n",
       "      <th>1</th>\n",
       "      <td>5.874629</td>\n",
       "    </tr>\n",
       "    <tr>\n",
       "      <th>2</th>\n",
       "      <td>5.675526</td>\n",
       "    </tr>\n",
       "    <tr>\n",
       "      <th>3</th>\n",
       "      <td>5.283881</td>\n",
       "    </tr>\n",
       "    <tr>\n",
       "      <th>4</th>\n",
       "      <td>5.179058</td>\n",
       "    </tr>\n",
       "  </tbody>\n",
       "</table>\n",
       "</div>"
      ],
      "text/plain": [
       "          y\n",
       "0  5.115298\n",
       "1  5.874629\n",
       "2  5.675526\n",
       "3  5.283881\n",
       "4  5.179058"
      ]
     },
     "execution_count": 353,
     "metadata": {},
     "output_type": "execute_result"
    }
   ],
   "source": [
    "y_df.head()"
   ]
  },
  {
   "cell_type": "code",
   "execution_count": 354,
   "metadata": {},
   "outputs": [],
   "source": [
    "data = pd.concat([x_df, y_df], axis=1)"
   ]
  },
  {
   "cell_type": "code",
   "execution_count": 355,
   "metadata": {},
   "outputs": [
    {
     "data": {
      "text/html": [
       "<div>\n",
       "<style scoped>\n",
       "    .dataframe tbody tr th:only-of-type {\n",
       "        vertical-align: middle;\n",
       "    }\n",
       "\n",
       "    .dataframe tbody tr th {\n",
       "        vertical-align: top;\n",
       "    }\n",
       "\n",
       "    .dataframe thead th {\n",
       "        text-align: right;\n",
       "    }\n",
       "</style>\n",
       "<table border=\"1\" class=\"dataframe\">\n",
       "  <thead>\n",
       "    <tr style=\"text-align: right;\">\n",
       "      <th></th>\n",
       "      <th>x data</th>\n",
       "      <th>y</th>\n",
       "    </tr>\n",
       "  </thead>\n",
       "  <tbody>\n",
       "    <tr>\n",
       "      <th>0</th>\n",
       "      <td>0.00000</td>\n",
       "      <td>5.115298</td>\n",
       "    </tr>\n",
       "    <tr>\n",
       "      <th>1</th>\n",
       "      <td>0.01001</td>\n",
       "      <td>5.874629</td>\n",
       "    </tr>\n",
       "    <tr>\n",
       "      <th>2</th>\n",
       "      <td>0.02002</td>\n",
       "      <td>5.675526</td>\n",
       "    </tr>\n",
       "    <tr>\n",
       "      <th>3</th>\n",
       "      <td>0.03003</td>\n",
       "      <td>5.283881</td>\n",
       "    </tr>\n",
       "    <tr>\n",
       "      <th>4</th>\n",
       "      <td>0.04004</td>\n",
       "      <td>5.179058</td>\n",
       "    </tr>\n",
       "  </tbody>\n",
       "</table>\n",
       "</div>"
      ],
      "text/plain": [
       "    x data         y\n",
       "0  0.00000  5.115298\n",
       "1  0.01001  5.874629\n",
       "2  0.02002  5.675526\n",
       "3  0.03003  5.283881\n",
       "4  0.04004  5.179058"
      ]
     },
     "execution_count": 355,
     "metadata": {},
     "output_type": "execute_result"
    }
   ],
   "source": [
    "data.head()"
   ]
  },
  {
   "cell_type": "code",
   "execution_count": 356,
   "metadata": {},
   "outputs": [],
   "source": [
    "sample_data = data.sample(frac=0.2)"
   ]
  },
  {
   "cell_type": "code",
   "execution_count": 357,
   "metadata": {},
   "outputs": [
    {
     "data": {
      "text/plain": [
       "<matplotlib.axes._subplots.AxesSubplot at 0x7f239e62a278>"
      ]
     },
     "execution_count": 357,
     "metadata": {},
     "output_type": "execute_result"
    },
    {
     "data": {
      "image/png": "[encoded data removed]",
      "text/plain": [
       "<Figure size 432x288 with 1 Axes>"
      ]
     },
     "metadata": {},
     "output_type": "display_data"
    }
   ],
   "source": [
    "sample_data.plot(kind=\"scatter\", x=\"x data\", y=\"y\")"
   ]
  },
  {
   "cell_type": "markdown",
   "metadata": {},
   "source": [
    "**Create a batch to feed the data in fractions"
   ]
  },
  {
   "cell_type": "code",
   "execution_count": 431,
   "metadata": {},
   "outputs": [],
   "source": [
    "batch_size = 16"
   ]
  },
  {
   "cell_type": "code",
   "execution_count": 432,
   "metadata": {},
   "outputs": [
    {
     "data": {
      "text/plain": [
       "tf.float32_ref"
      ]
     },
     "execution_count": 432,
     "metadata": {},
     "output_type": "execute_result"
    }
   ],
   "source": [
    "m = tf.Variable(np.random.randn(1), dtype=tf.float32)\n",
    "m.dtype"
   ]
  },
  {
   "cell_type": "code",
   "execution_count": 433,
   "metadata": {},
   "outputs": [],
   "source": [
    "b = tf.Variable(np.random.randn(1), dtype=tf.float32)"
   ]
  },
  {
   "cell_type": "code",
   "execution_count": 434,
   "metadata": {},
   "outputs": [],
   "source": [
    "xph = tf.placeholder(tf.float32, shape=(batch_size))"
   ]
  },
  {
   "cell_type": "code",
   "execution_count": 435,
   "metadata": {},
   "outputs": [],
   "source": [
    "yph = tf.placeholder(tf.float32, shape=(batch_size))"
   ]
  },
  {
   "cell_type": "code",
   "execution_count": 436,
   "metadata": {},
   "outputs": [],
   "source": [
    "y_pred = m*xph + b"
   ]
  },
  {
   "cell_type": "code",
   "execution_count": 437,
   "metadata": {},
   "outputs": [],
   "source": [
    "error = 0 \n",
    "error = tf.reduce_sum(tf.square(yph - y_pred))"
   ]
  },
  {
   "cell_type": "code",
   "execution_count": 438,
   "metadata": {},
   "outputs": [],
   "source": [
    "optimizer = tf.train.GradientDescentOptimizer(learning_rate=0.001)"
   ]
  },
  {
   "cell_type": "code",
   "execution_count": 439,
   "metadata": {},
   "outputs": [],
   "source": [
    "train = optimizer.minimize(error)"
   ]
  },
  {
   "cell_type": "code",
   "execution_count": 442,
   "metadata": {},
   "outputs": [
    {
     "name": "stdout",
     "output_type": "stream",
     "text": [
      "For batch size 2  :: Final error =  34.250412\n",
      "For batch size 4  :: Final error =  14.426963\n",
      "For batch size 6  :: Final error =  15.480916\n",
      "For batch size 8  :: Final error =  18.777647\n",
      "For batch size 10  :: Final error =  23.003067\n",
      "For batch size 12  :: Final error =  10.216213\n",
      "For batch size 14  :: Final error =  17.11525\n",
      "For batch size 16  :: Final error =  8.965895\n",
      "For batch size 18  :: Final error =  7.133848\n"
     ]
    }
   ],
   "source": [
    "with tf.Session() as sess:\n",
    "    sess.run(tf.global_variables_initializer())\n",
    "    batches = 50\n",
    "    \n",
    "    for j in range(2, 20, 2):\n",
    "        for i in range(batches):\n",
    "            rand_index = np.random.randint(len(x_data), size=batch_size)\n",
    "            feed = {xph: x_data[rand_index], yph: y_true[rand_index]}\n",
    "            sess.run(train, feed_dict=feed)\n",
    "        print(\"For batch size\", j, \" :: Final error = \", sess.run(error, feed_dict=feed))\n",
    "    \n",
    "    final_slope, final_intercept = sess.run([m, b])"
   ]
  },
  {
   "cell_type": "code",
   "execution_count": 443,
   "metadata": {},
   "outputs": [],
   "source": [
    "y_hat = final_slope * x_data + final_intercept"
   ]
  },
  {
   "cell_type": "code",
   "execution_count": 451,
   "metadata": {},
   "outputs": [
    {
     "data": {
      "text/plain": [
       "[<matplotlib.lines.Line2D at 0x7f239e010a90>]"
      ]
     },
     "execution_count": 451,
     "metadata": {},
     "output_type": "execute_result"
    },
    {
     "data": {
      "image/png": "[encoded data removed]",
      "text/plain": [
       "<Figure size 432x288 with 1 Axes>"
      ]
     },
     "metadata": {},
     "output_type": "display_data"
    }
   ],
   "source": [
    "plt.plot(x_data, y_true, '*')\n",
    "\n",
    "\n",
    "plt.plot(x_data, y_hat, 'r')"
   ]
  },
  {
   "cell_type": "markdown",
   "metadata": {},
   "source": [
    "**Tensorflow estimator API\n",
    "- define a list of feature columns\n",
    "- create the estimator model\n",
    "- create data input function\n",
    "- call train, evaluate, predict\n"
   ]
  },
  {
   "cell_type": "code",
   "execution_count": 482,
   "metadata": {},
   "outputs": [],
   "source": [
    "# a list of feature columns - here only one column\n",
    "feat_cols = [ tf.feature_column.numeric_column('x', shape=[1]) ] "
   ]
  },
  {
   "cell_type": "code",
   "execution_count": 483,
   "metadata": {},
   "outputs": [
    {
     "name": "stdout",
     "output_type": "stream",
     "text": [
      "INFO:tensorflow:Using default config.\n",
      "WARNING:tensorflow:Using temporary folder as model directory: /tmp/tmpa9z6l4ij\n",
      "INFO:tensorflow:Using config: {'_model_dir': '/tmp/tmpa9z6l4ij', '_tf_random_seed': None, '_save_summary_steps': 100, '_save_checkpoints_steps': None, '_save_checkpoints_secs': 600, '_session_config': None, '_keep_checkpoint_max': 5, '_keep_checkpoint_every_n_hours': 10000, '_log_step_count_steps': 100, '_train_distribute': None, '_device_fn': None, '_service': None, '_cluster_spec': <tensorflow.python.training.server_lib.ClusterSpec object at 0x7f2399188fd0>, '_task_type': 'worker', '_task_id': 0, '_global_id_in_cluster': 0, '_master': '', '_evaluation_master': '', '_is_chief': True, '_num_ps_replicas': 0, '_num_worker_replicas': 1}\n"
     ]
    }
   ],
   "source": [
    "estimator = tf.estimator.LinearRegressor(feature_columns=feat_cols)"
   ]
  },
  {
   "cell_type": "code",
   "execution_count": 484,
   "metadata": {},
   "outputs": [],
   "source": [
    "from sklearn.model_selection import train_test_split"
   ]
  },
  {
   "cell_type": "code",
   "execution_count": 485,
   "metadata": {},
   "outputs": [
    {
     "name": "stderr",
     "output_type": "stream",
     "text": [
      "/home/student/anaconda3/lib/python3.6/site-packages/sklearn/model_selection/_split.py:2026: FutureWarning: From version 0.21, test_size will always complement train_size unless both are specified.\n",
      "  FutureWarning)\n"
     ]
    }
   ],
   "source": [
    "x_train, x_test, y_train, y_test = train_test_split(x_data, y_true, train_size=0.7)"
   ]
  },
  {
   "cell_type": "code",
   "execution_count": 486,
   "metadata": {},
   "outputs": [
    {
     "name": "stdout",
     "output_type": "stream",
     "text": [
      "(700,)\n"
     ]
    }
   ],
   "source": [
    "print(x_train.shape)"
   ]
  },
  {
   "cell_type": "code",
   "execution_count": 487,
   "metadata": {},
   "outputs": [
    {
     "name": "stdout",
     "output_type": "stream",
     "text": [
      "(300,)\n"
     ]
    }
   ],
   "source": [
    "print(x_test.shape)"
   ]
  },
  {
   "cell_type": "markdown",
   "metadata": {},
   "source": [
    "The estimator input function acts as a batch size indicator and a feed_dict at the same time."
   ]
  },
  {
   "cell_type": "code",
   "execution_count": 488,
   "metadata": {},
   "outputs": [],
   "source": [
    "input_func = tf.estimator.inputs.numpy_input_fn({'x':x_train}, y_train, batch_size=8, num_epochs=1000, shuffle=True)"
   ]
  },
  {
   "cell_type": "code",
   "execution_count": 489,
   "metadata": {},
   "outputs": [],
   "source": [
    "train_input_func = tf.estimator.inputs.numpy_input_fn({'x':x_train}, y_train, batch_size=8, num_epochs=1000, shuffle=False)"
   ]
  },
  {
   "cell_type": "code",
   "execution_count": 490,
   "metadata": {},
   "outputs": [],
   "source": [
    "test_input_func = tf.estimator.inputs.numpy_input_fn({'x':x_test}, y_test, batch_size=8, num_epochs=1000, shuffle=False)"
   ]
  },
  {
   "cell_type": "code",
   "execution_count": 493,
   "metadata": {},
   "outputs": [
    {
     "name": "stdout",
     "output_type": "stream",
     "text": [
      "INFO:tensorflow:Calling model_fn.\n",
      "INFO:tensorflow:Done calling model_fn.\n",
      "INFO:tensorflow:Create CheckpointSaverHook.\n",
      "INFO:tensorflow:Graph was finalized.\n",
      "INFO:tensorflow:Restoring parameters from /tmp/tmpa9z6l4ij/model.ckpt-88500\n",
      "INFO:tensorflow:Running local_init_op.\n",
      "INFO:tensorflow:Done running local_init_op.\n",
      "INFO:tensorflow:Saving checkpoints for 88500 into /tmp/tmpa9z6l4ij/model.ckpt.\n",
      "INFO:tensorflow:loss = 11.166122, step = 88501\n",
      "INFO:tensorflow:global_step/sec: 958.245\n",
      "INFO:tensorflow:loss = 16.427273, step = 88601 (0.105 sec)\n",
      "INFO:tensorflow:global_step/sec: 1509.22\n",
      "INFO:tensorflow:loss = 4.8594418, step = 88701 (0.066 sec)\n",
      "INFO:tensorflow:global_step/sec: 1199.46\n",
      "INFO:tensorflow:loss = 7.153511, step = 88801 (0.083 sec)\n",
      "INFO:tensorflow:global_step/sec: 1175.14\n",
      "INFO:tensorflow:loss = 9.660673, step = 88901 (0.085 sec)\n",
      "INFO:tensorflow:global_step/sec: 1759.18\n",
      "INFO:tensorflow:loss = 10.636692, step = 89001 (0.056 sec)\n",
      "INFO:tensorflow:global_step/sec: 1645.08\n",
      "INFO:tensorflow:loss = 5.668994, step = 89101 (0.061 sec)\n",
      "INFO:tensorflow:global_step/sec: 592.9\n",
      "INFO:tensorflow:loss = 4.7910852, step = 89201 (0.168 sec)\n",
      "INFO:tensorflow:global_step/sec: 1595.07\n",
      "INFO:tensorflow:loss = 11.975153, step = 89301 (0.063 sec)\n",
      "INFO:tensorflow:global_step/sec: 947.105\n",
      "INFO:tensorflow:loss = 8.514385, step = 89401 (0.106 sec)\n",
      "INFO:tensorflow:Saving checkpoints for 89500 into /tmp/tmpa9z6l4ij/model.ckpt.\n",
      "INFO:tensorflow:Loss for final step: 7.988482.\n"
     ]
    },
    {
     "data": {
      "text/plain": [
       "<tensorflow.python.estimator.canned.linear.LinearRegressor at 0x7f2399188d30>"
      ]
     },
     "execution_count": 493,
     "metadata": {},
     "output_type": "execute_result"
    }
   ],
   "source": [
    "estimator.train(input_fn=input_func, steps=1000)"
   ]
  },
  {
   "cell_type": "code",
   "execution_count": 495,
   "metadata": {},
   "outputs": [
    {
     "name": "stdout",
     "output_type": "stream",
     "text": [
      "INFO:tensorflow:Calling model_fn.\n",
      "INFO:tensorflow:Done calling model_fn.\n",
      "INFO:tensorflow:Starting evaluation at 2018-10-27-14:17:53\n",
      "INFO:tensorflow:Graph was finalized.\n",
      "INFO:tensorflow:Restoring parameters from /tmp/tmpa9z6l4ij/model.ckpt-89500\n",
      "INFO:tensorflow:Running local_init_op.\n",
      "INFO:tensorflow:Done running local_init_op.\n",
      "INFO:tensorflow:Evaluation [100/1000]\n",
      "INFO:tensorflow:Evaluation [200/1000]\n",
      "INFO:tensorflow:Evaluation [300/1000]\n",
      "INFO:tensorflow:Evaluation [400/1000]\n",
      "INFO:tensorflow:Evaluation [500/1000]\n",
      "INFO:tensorflow:Evaluation [600/1000]\n",
      "INFO:tensorflow:Evaluation [700/1000]\n",
      "INFO:tensorflow:Evaluation [800/1000]\n",
      "INFO:tensorflow:Evaluation [900/1000]\n",
      "INFO:tensorflow:Evaluation [1000/1000]\n",
      "INFO:tensorflow:Finished evaluation at 2018-10-27-14:17:53\n",
      "INFO:tensorflow:Saving dict for global step 89500: average_loss = 1.0032778, global_step = 89500, loss = 8.026222\n",
      "INFO:tensorflow:Saving 'checkpoint_path' summary for global step 89500: /tmp/tmpa9z6l4ij/model.ckpt-89500\n"
     ]
    }
   ],
   "source": [
    "train_metrics = estimator.evaluate(input_fn=train_input_func, steps=1000)"
   ]
  },
  {
   "cell_type": "code",
   "execution_count": 496,
   "metadata": {},
   "outputs": [
    {
     "name": "stdout",
     "output_type": "stream",
     "text": [
      "INFO:tensorflow:Calling model_fn.\n",
      "INFO:tensorflow:Done calling model_fn.\n",
      "INFO:tensorflow:Starting evaluation at 2018-10-27-14:18:13\n",
      "INFO:tensorflow:Graph was finalized.\n",
      "INFO:tensorflow:Restoring parameters from /tmp/tmpa9z6l4ij/model.ckpt-89500\n",
      "INFO:tensorflow:Running local_init_op.\n",
      "INFO:tensorflow:Done running local_init_op.\n",
      "INFO:tensorflow:Evaluation [100/1000]\n",
      "INFO:tensorflow:Evaluation [200/1000]\n",
      "INFO:tensorflow:Evaluation [300/1000]\n",
      "INFO:tensorflow:Evaluation [400/1000]\n",
      "INFO:tensorflow:Evaluation [500/1000]\n",
      "INFO:tensorflow:Evaluation [600/1000]\n",
      "INFO:tensorflow:Evaluation [700/1000]\n",
      "INFO:tensorflow:Evaluation [800/1000]\n",
      "INFO:tensorflow:Evaluation [900/1000]\n",
      "INFO:tensorflow:Evaluation [1000/1000]\n",
      "INFO:tensorflow:Finished evaluation at 2018-10-27-14:18:14\n",
      "INFO:tensorflow:Saving dict for global step 89500: average_loss = 1.016252, global_step = 89500, loss = 8.130016\n",
      "INFO:tensorflow:Saving 'checkpoint_path' summary for global step 89500: /tmp/tmpa9z6l4ij/model.ckpt-89500\n"
     ]
    }
   ],
   "source": [
    "test_metrics = estimator.evaluate(input_fn=test_input_func, steps=1000)"
   ]
  },
  {
   "cell_type": "code",
   "execution_count": 498,
   "metadata": {},
   "outputs": [
    {
     "name": "stdout",
     "output_type": "stream",
     "text": [
      "{'average_loss': 1.0032778, 'loss': 8.026222, 'global_step': 89500}\n"
     ]
    }
   ],
   "source": [
    "print(train_metrics)"
   ]
  },
  {
   "cell_type": "code",
   "execution_count": 499,
   "metadata": {},
   "outputs": [
    {
     "name": "stdout",
     "output_type": "stream",
     "text": [
      "{'average_loss': 1.016252, 'loss': 8.130016, 'global_step': 89500}\n"
     ]
    }
   ],
   "source": [
    "print(test_metrics)"
   ]
  },
  {
   "cell_type": "code",
   "execution_count": 503,
   "metadata": {},
   "outputs": [],
   "source": [
    "new_data_x = np.linspace(0,10,10)\n",
    "predict_input_func = tf.estimator.inputs.numpy_input_fn({'x':new_data_x}, shuffle=False)"
   ]
  },
  {
   "cell_type": "code",
   "execution_count": 505,
   "metadata": {},
   "outputs": [
    {
     "data": {
      "text/plain": [
       "<generator object Estimator.predict at 0x7f2393bc1b48>"
      ]
     },
     "execution_count": 505,
     "metadata": {},
     "output_type": "execute_result"
    }
   ],
   "source": [
    "estimator.predict(input_fn=predict_input_func)"
   ]
  },
  {
   "cell_type": "code",
   "execution_count": 506,
   "metadata": {},
   "outputs": [
    {
     "name": "stdout",
     "output_type": "stream",
     "text": [
      "INFO:tensorflow:Calling model_fn.\n",
      "INFO:tensorflow:Done calling model_fn.\n",
      "INFO:tensorflow:Graph was finalized.\n",
      "INFO:tensorflow:Restoring parameters from /tmp/tmpa9z6l4ij/model.ckpt-89500\n",
      "INFO:tensorflow:Running local_init_op.\n",
      "INFO:tensorflow:Done running local_init_op.\n"
     ]
    },
    {
     "data": {
      "text/plain": [
       "[{'predictions': array([4.9996214], dtype=float32)},\n",
       " {'predictions': array([5.551298], dtype=float32)},\n",
       " {'predictions': array([6.102975], dtype=float32)},\n",
       " {'predictions': array([6.6546516], dtype=float32)},\n",
       " {'predictions': array([7.206329], dtype=float32)},\n",
       " {'predictions': array([7.7580056], dtype=float32)},\n",
       " {'predictions': array([8.309683], dtype=float32)},\n",
       " {'predictions': array([8.86136], dtype=float32)},\n",
       " {'predictions': array([9.413036], dtype=float32)},\n",
       " {'predictions': array([9.964713], dtype=float32)}]"
      ]
     },
     "execution_count": 506,
     "metadata": {},
     "output_type": "execute_result"
    }
   ],
   "source": [
    "# Casting it to a list \n",
    "list(estimator.predict(input_fn=predict_input_func))"
   ]
  },
  {
   "cell_type": "code",
   "execution_count": 518,
   "metadata": {},
   "outputs": [],
   "source": [
    "predictions = []"
   ]
  },
  {
   "cell_type": "code",
   "execution_count": 519,
   "metadata": {},
   "outputs": [
    {
     "name": "stdout",
     "output_type": "stream",
     "text": [
      "INFO:tensorflow:Calling model_fn.\n",
      "INFO:tensorflow:Done calling model_fn.\n",
      "INFO:tensorflow:Graph was finalized.\n",
      "INFO:tensorflow:Restoring parameters from /tmp/tmpa9z6l4ij/model.ckpt-89500\n",
      "INFO:tensorflow:Running local_init_op.\n",
      "INFO:tensorflow:Done running local_init_op.\n"
     ]
    }
   ],
   "source": [
    "for pred in estimator.predict(input_fn=predict_input_func):\n",
    "    predictions.append(pred['predictions'])  # the 'predictions' is a key to the dictionary we get from estimator predict api"
   ]
  },
  {
   "cell_type": "code",
   "execution_count": 520,
   "metadata": {},
   "outputs": [
    {
     "data": {
      "text/plain": [
       "[array([4.9996214], dtype=float32),\n",
       " array([5.551298], dtype=float32),\n",
       " array([6.102975], dtype=float32),\n",
       " array([6.6546516], dtype=float32),\n",
       " array([7.206329], dtype=float32),\n",
       " array([7.7580056], dtype=float32),\n",
       " array([8.309683], dtype=float32),\n",
       " array([8.86136], dtype=float32),\n",
       " array([9.413036], dtype=float32),\n",
       " array([9.964713], dtype=float32)]"
      ]
     },
     "execution_count": 520,
     "metadata": {},
     "output_type": "execute_result"
    }
   ],
   "source": [
    "predictions"
   ]
  },
  {
   "cell_type": "code",
   "execution_count": 524,
   "metadata": {},
   "outputs": [
    {
     "data": {
      "text/plain": [
       "[<matplotlib.lines.Line2D at 0x7f2393a014e0>]"
      ]
     },
     "execution_count": 524,
     "metadata": {},
     "output_type": "execute_result"
    },
    {
     "data": {
      "image/png": "[encoded data removed]",
      "text/plain": [
       "<Figure size 432x288 with 1 Axes>"
      ]
     },
     "metadata": {},
     "output_type": "display_data"
    }
   ],
   "source": [
    "data.sample(500).plot(x='x data', y='y', kind='scatter')\n",
    "plt.plot(new_data_x, predictions, 'r')"
   ]
  },
  {
   "cell_type": "code",
   "execution_count": 530,
   "metadata": {},
   "outputs": [],
   "source": [
    "pima = pd.read_csv('pima-data.csv')\n"
   ]
  },
  {
   "cell_type": "code",
   "execution_count": 531,
   "metadata": {},
   "outputs": [
    {
     "data": {
      "text/html": [
       "<div>\n",
       "<style scoped>\n",
       "    .dataframe tbody tr th:only-of-type {\n",
       "        vertical-align: middle;\n",
       "    }\n",
       "\n",
       "    .dataframe tbody tr th {\n",
       "        vertical-align: top;\n",
       "    }\n",
       "\n",
       "    .dataframe thead th {\n",
       "        text-align: right;\n",
       "    }\n",
       "</style>\n",
       "<table border=\"1\" class=\"dataframe\">\n",
       "  <thead>\n",
       "    <tr style=\"text-align: right;\">\n",
       "      <th></th>\n",
       "      <th>num_preg</th>\n",
       "      <th>glucose_conc</th>\n",
       "      <th>diastolic_bp</th>\n",
       "      <th>thickness</th>\n",
       "      <th>insulin</th>\n",
       "      <th>bmi</th>\n",
       "      <th>diab_pred</th>\n",
       "      <th>age</th>\n",
       "      <th>skin</th>\n",
       "      <th>diabetes</th>\n",
       "    </tr>\n",
       "  </thead>\n",
       "  <tbody>\n",
       "    <tr>\n",
       "      <th>0</th>\n",
       "      <td>6</td>\n",
       "      <td>148</td>\n",
       "      <td>72</td>\n",
       "      <td>35</td>\n",
       "      <td>0</td>\n",
       "      <td>33.6</td>\n",
       "      <td>0.627</td>\n",
       "      <td>50</td>\n",
       "      <td>1.3790</td>\n",
       "      <td>True</td>\n",
       "    </tr>\n",
       "    <tr>\n",
       "      <th>1</th>\n",
       "      <td>1</td>\n",
       "      <td>85</td>\n",
       "      <td>66</td>\n",
       "      <td>29</td>\n",
       "      <td>0</td>\n",
       "      <td>26.6</td>\n",
       "      <td>0.351</td>\n",
       "      <td>31</td>\n",
       "      <td>1.1426</td>\n",
       "      <td>False</td>\n",
       "    </tr>\n",
       "    <tr>\n",
       "      <th>2</th>\n",
       "      <td>8</td>\n",
       "      <td>183</td>\n",
       "      <td>64</td>\n",
       "      <td>0</td>\n",
       "      <td>0</td>\n",
       "      <td>23.3</td>\n",
       "      <td>0.672</td>\n",
       "      <td>32</td>\n",
       "      <td>0.0000</td>\n",
       "      <td>True</td>\n",
       "    </tr>\n",
       "    <tr>\n",
       "      <th>3</th>\n",
       "      <td>1</td>\n",
       "      <td>89</td>\n",
       "      <td>66</td>\n",
       "      <td>23</td>\n",
       "      <td>94</td>\n",
       "      <td>28.1</td>\n",
       "      <td>0.167</td>\n",
       "      <td>21</td>\n",
       "      <td>0.9062</td>\n",
       "      <td>False</td>\n",
       "    </tr>\n",
       "    <tr>\n",
       "      <th>4</th>\n",
       "      <td>0</td>\n",
       "      <td>137</td>\n",
       "      <td>40</td>\n",
       "      <td>35</td>\n",
       "      <td>168</td>\n",
       "      <td>43.1</td>\n",
       "      <td>2.288</td>\n",
       "      <td>33</td>\n",
       "      <td>1.3790</td>\n",
       "      <td>True</td>\n",
       "    </tr>\n",
       "  </tbody>\n",
       "</table>\n",
       "</div>"
      ],
      "text/plain": [
       "   num_preg  glucose_conc  diastolic_bp  thickness  insulin   bmi  diab_pred  \\\n",
       "0         6           148            72         35        0  33.6      0.627   \n",
       "1         1            85            66         29        0  26.6      0.351   \n",
       "2         8           183            64          0        0  23.3      0.672   \n",
       "3         1            89            66         23       94  28.1      0.167   \n",
       "4         0           137            40         35      168  43.1      2.288   \n",
       "\n",
       "   age    skin  diabetes  \n",
       "0   50  1.3790      True  \n",
       "1   31  1.1426     False  \n",
       "2   32  0.0000      True  \n",
       "3   21  0.9062     False  \n",
       "4   33  1.3790      True  "
      ]
     },
     "execution_count": 531,
     "metadata": {},
     "output_type": "execute_result"
    }
   ],
   "source": [
    "pima.head()"
   ]
  },
  {
   "cell_type": "code",
   "execution_count": 532,
   "metadata": {},
   "outputs": [
    {
     "data": {
      "text/plain": [
       "Index(['num_preg', 'glucose_conc', 'diastolic_bp', 'thickness', 'insulin',\n",
       "       'bmi', 'diab_pred', 'age', 'skin', 'diabetes'],\n",
       "      dtype='object')"
      ]
     },
     "execution_count": 532,
     "metadata": {},
     "output_type": "execute_result"
    }
   ],
   "source": [
    "pima.columns"
   ]
  },
  {
   "cell_type": "code",
   "execution_count": 533,
   "metadata": {},
   "outputs": [],
   "source": [
    "cols_to_norm = ['num_preg', 'glucose_conc', 'diastolic_bp', 'thickness', 'insulin',\n",
    "       'bmi', 'diab_pred', 'skin']"
   ]
  },
  {
   "cell_type": "code",
   "execution_count": 535,
   "metadata": {},
   "outputs": [],
   "source": [
    "pima[cols_to_norm] = pima[cols_to_norm].apply(lambda x : (x - x.min()) / (x.max() - x.min()))"
   ]
  },
  {
   "cell_type": "code",
   "execution_count": 536,
   "metadata": {},
   "outputs": [
    {
     "data": {
      "text/html": [
       "<div>\n",
       "<style scoped>\n",
       "    .dataframe tbody tr th:only-of-type {\n",
       "        vertical-align: middle;\n",
       "    }\n",
       "\n",
       "    .dataframe tbody tr th {\n",
       "        vertical-align: top;\n",
       "    }\n",
       "\n",
       "    .dataframe thead th {\n",
       "        text-align: right;\n",
       "    }\n",
       "</style>\n",
       "<table border=\"1\" class=\"dataframe\">\n",
       "  <thead>\n",
       "    <tr style=\"text-align: right;\">\n",
       "      <th></th>\n",
       "      <th>num_preg</th>\n",
       "      <th>glucose_conc</th>\n",
       "      <th>diastolic_bp</th>\n",
       "      <th>thickness</th>\n",
       "      <th>insulin</th>\n",
       "      <th>bmi</th>\n",
       "      <th>diab_pred</th>\n",
       "      <th>age</th>\n",
       "      <th>skin</th>\n",
       "      <th>diabetes</th>\n",
       "    </tr>\n",
       "  </thead>\n",
       "  <tbody>\n",
       "    <tr>\n",
       "      <th>0</th>\n",
       "      <td>0.352941</td>\n",
       "      <td>0.743719</td>\n",
       "      <td>0.590164</td>\n",
       "      <td>0.353535</td>\n",
       "      <td>0.000000</td>\n",
       "      <td>0.500745</td>\n",
       "      <td>0.234415</td>\n",
       "      <td>50</td>\n",
       "      <td>0.353535</td>\n",
       "      <td>True</td>\n",
       "    </tr>\n",
       "    <tr>\n",
       "      <th>1</th>\n",
       "      <td>0.058824</td>\n",
       "      <td>0.427136</td>\n",
       "      <td>0.540984</td>\n",
       "      <td>0.292929</td>\n",
       "      <td>0.000000</td>\n",
       "      <td>0.396423</td>\n",
       "      <td>0.116567</td>\n",
       "      <td>31</td>\n",
       "      <td>0.292929</td>\n",
       "      <td>False</td>\n",
       "    </tr>\n",
       "    <tr>\n",
       "      <th>2</th>\n",
       "      <td>0.470588</td>\n",
       "      <td>0.919598</td>\n",
       "      <td>0.524590</td>\n",
       "      <td>0.000000</td>\n",
       "      <td>0.000000</td>\n",
       "      <td>0.347243</td>\n",
       "      <td>0.253629</td>\n",
       "      <td>32</td>\n",
       "      <td>0.000000</td>\n",
       "      <td>True</td>\n",
       "    </tr>\n",
       "    <tr>\n",
       "      <th>3</th>\n",
       "      <td>0.058824</td>\n",
       "      <td>0.447236</td>\n",
       "      <td>0.540984</td>\n",
       "      <td>0.232323</td>\n",
       "      <td>0.111111</td>\n",
       "      <td>0.418778</td>\n",
       "      <td>0.038002</td>\n",
       "      <td>21</td>\n",
       "      <td>0.232323</td>\n",
       "      <td>False</td>\n",
       "    </tr>\n",
       "    <tr>\n",
       "      <th>4</th>\n",
       "      <td>0.000000</td>\n",
       "      <td>0.688442</td>\n",
       "      <td>0.327869</td>\n",
       "      <td>0.353535</td>\n",
       "      <td>0.198582</td>\n",
       "      <td>0.642325</td>\n",
       "      <td>0.943638</td>\n",
       "      <td>33</td>\n",
       "      <td>0.353535</td>\n",
       "      <td>True</td>\n",
       "    </tr>\n",
       "  </tbody>\n",
       "</table>\n",
       "</div>"
      ],
      "text/plain": [
       "   num_preg  glucose_conc  diastolic_bp  thickness   insulin       bmi  \\\n",
       "0  0.352941      0.743719      0.590164   0.353535  0.000000  0.500745   \n",
       "1  0.058824      0.427136      0.540984   0.292929  0.000000  0.396423   \n",
       "2  0.470588      0.919598      0.524590   0.000000  0.000000  0.347243   \n",
       "3  0.058824      0.447236      0.540984   0.232323  0.111111  0.418778   \n",
       "4  0.000000      0.688442      0.327869   0.353535  0.198582  0.642325   \n",
       "\n",
       "   diab_pred  age      skin  diabetes  \n",
       "0   0.234415   50  0.353535      True  \n",
       "1   0.116567   31  0.292929     False  \n",
       "2   0.253629   32  0.000000      True  \n",
       "3   0.038002   21  0.232323     False  \n",
       "4   0.943638   33  0.353535      True  "
      ]
     },
     "execution_count": 536,
     "metadata": {},
     "output_type": "execute_result"
    }
   ],
   "source": [
    "pima.head()"
   ]
  },
  {
   "cell_type": "code",
   "execution_count": 539,
   "metadata": {},
   "outputs": [],
   "source": [
    "# Creature feature columns \n",
    "num_preg = tf.feature_column.numeric_column('num_preg')\n",
    "glucose_conc = tf.feature_column.numeric_column('glucose_conc')\n",
    "diastolic_bp = tf.feature_column.numeric_column('diastolic_bp')\n",
    "thickness = tf.feature_column.numeric_column('thickness')\n",
    "insulin = tf.feature_column.numeric_column('insulin')\n",
    "bmi = tf.feature_column.numeric_column('bmi')\n",
    "diab_pred = tf.feature_column.numeric_column('diab_pred')\n",
    "age = tf.feature_column.numeric_column('age')\n",
    "skin = tf.feature_column.numeric_column('skin')"
   ]
  },
  {
   "cell_type": "code",
   "execution_count": 610,
   "metadata": {},
   "outputs": [],
   "source": [
    "# If a categorical feature column was present... \n",
    "# assigned_group = tf.feature_column.categorical_column_with_hash_bucket('name of the column', hash_bucket_size=<max size - max number of categories you can expect in that column>)"
   ]
  },
  {
   "cell_type": "code",
   "execution_count": 611,
   "metadata": {},
   "outputs": [
    {
     "data": {
      "text/plain": [
       "<matplotlib.axes._subplots.AxesSubplot at 0x7f2393f768d0>"
      ]
     },
     "execution_count": 611,
     "metadata": {},
     "output_type": "execute_result"
    },
    {
     "data": {
      "image/png": "[encoded data removed]",
      "text/plain": [
       "<Figure size 432x288 with 1 Axes>"
      ]
     },
     "metadata": {},
     "output_type": "display_data"
    }
   ],
   "source": [
    "# Convert a continuous value to a categorical value\n",
    "pima['age'].hist(bins=20)"
   ]
  },
  {
   "cell_type": "code",
   "execution_count": 612,
   "metadata": {},
   "outputs": [],
   "source": [
    "age_bucket = tf.feature_column.bucketized_column(age, boundaries=[20, 30, 40, 50, 60, 70, 80])"
   ]
  },
  {
   "cell_type": "code",
   "execution_count": 613,
   "metadata": {},
   "outputs": [
    {
     "data": {
      "text/html": [
       "<div>\n",
       "<style scoped>\n",
       "    .dataframe tbody tr th:only-of-type {\n",
       "        vertical-align: middle;\n",
       "    }\n",
       "\n",
       "    .dataframe tbody tr th {\n",
       "        vertical-align: top;\n",
       "    }\n",
       "\n",
       "    .dataframe thead th {\n",
       "        text-align: right;\n",
       "    }\n",
       "</style>\n",
       "<table border=\"1\" class=\"dataframe\">\n",
       "  <thead>\n",
       "    <tr style=\"text-align: right;\">\n",
       "      <th></th>\n",
       "      <th>num_preg</th>\n",
       "      <th>glucose_conc</th>\n",
       "      <th>diastolic_bp</th>\n",
       "      <th>thickness</th>\n",
       "      <th>insulin</th>\n",
       "      <th>bmi</th>\n",
       "      <th>diab_pred</th>\n",
       "      <th>age</th>\n",
       "      <th>skin</th>\n",
       "      <th>diabetes</th>\n",
       "      <th>False</th>\n",
       "      <th>Group</th>\n",
       "    </tr>\n",
       "  </thead>\n",
       "  <tbody>\n",
       "    <tr>\n",
       "      <th>0</th>\n",
       "      <td>0.352941</td>\n",
       "      <td>0.743719</td>\n",
       "      <td>0.590164</td>\n",
       "      <td>0.353535</td>\n",
       "      <td>0.000000</td>\n",
       "      <td>0.500745</td>\n",
       "      <td>0.234415</td>\n",
       "      <td>50</td>\n",
       "      <td>0.353535</td>\n",
       "      <td>True</td>\n",
       "      <td>1</td>\n",
       "      <td>1</td>\n",
       "    </tr>\n",
       "    <tr>\n",
       "      <th>1</th>\n",
       "      <td>0.058824</td>\n",
       "      <td>0.427136</td>\n",
       "      <td>0.540984</td>\n",
       "      <td>0.292929</td>\n",
       "      <td>0.000000</td>\n",
       "      <td>0.396423</td>\n",
       "      <td>0.116567</td>\n",
       "      <td>31</td>\n",
       "      <td>0.292929</td>\n",
       "      <td>False</td>\n",
       "      <td>1</td>\n",
       "      <td>0</td>\n",
       "    </tr>\n",
       "    <tr>\n",
       "      <th>2</th>\n",
       "      <td>0.470588</td>\n",
       "      <td>0.919598</td>\n",
       "      <td>0.524590</td>\n",
       "      <td>0.000000</td>\n",
       "      <td>0.000000</td>\n",
       "      <td>0.347243</td>\n",
       "      <td>0.253629</td>\n",
       "      <td>32</td>\n",
       "      <td>0.000000</td>\n",
       "      <td>True</td>\n",
       "      <td>1</td>\n",
       "      <td>1</td>\n",
       "    </tr>\n",
       "    <tr>\n",
       "      <th>3</th>\n",
       "      <td>0.058824</td>\n",
       "      <td>0.447236</td>\n",
       "      <td>0.540984</td>\n",
       "      <td>0.232323</td>\n",
       "      <td>0.111111</td>\n",
       "      <td>0.418778</td>\n",
       "      <td>0.038002</td>\n",
       "      <td>21</td>\n",
       "      <td>0.232323</td>\n",
       "      <td>False</td>\n",
       "      <td>1</td>\n",
       "      <td>0</td>\n",
       "    </tr>\n",
       "    <tr>\n",
       "      <th>4</th>\n",
       "      <td>0.000000</td>\n",
       "      <td>0.688442</td>\n",
       "      <td>0.327869</td>\n",
       "      <td>0.353535</td>\n",
       "      <td>0.198582</td>\n",
       "      <td>0.642325</td>\n",
       "      <td>0.943638</td>\n",
       "      <td>33</td>\n",
       "      <td>0.353535</td>\n",
       "      <td>True</td>\n",
       "      <td>1</td>\n",
       "      <td>1</td>\n",
       "    </tr>\n",
       "  </tbody>\n",
       "</table>\n",
       "</div>"
      ],
      "text/plain": [
       "   num_preg  glucose_conc  diastolic_bp  thickness   insulin       bmi  \\\n",
       "0  0.352941      0.743719      0.590164   0.353535  0.000000  0.500745   \n",
       "1  0.058824      0.427136      0.540984   0.292929  0.000000  0.396423   \n",
       "2  0.470588      0.919598      0.524590   0.000000  0.000000  0.347243   \n",
       "3  0.058824      0.447236      0.540984   0.232323  0.111111  0.418778   \n",
       "4  0.000000      0.688442      0.327869   0.353535  0.198582  0.642325   \n",
       "\n",
       "   diab_pred  age      skin  diabetes  False  Group  \n",
       "0   0.234415   50  0.353535      True      1      1  \n",
       "1   0.116567   31  0.292929     False      1      0  \n",
       "2   0.253629   32  0.000000      True      1      1  \n",
       "3   0.038002   21  0.232323     False      1      0  \n",
       "4   0.943638   33  0.353535      True      1      1  "
      ]
     },
     "execution_count": 613,
     "metadata": {},
     "output_type": "execute_result"
    }
   ],
   "source": [
    "pima.head()"
   ]
  },
  {
   "cell_type": "code",
   "execution_count": 614,
   "metadata": {},
   "outputs": [],
   "source": [
    "feat_cols = [num_preg, glucose_conc, diastolic_bp, thickness, insulin,\n",
    "       bmi, diab_pred, skin, age_bucket]"
   ]
  },
  {
   "cell_type": "code",
   "execution_count": 615,
   "metadata": {},
   "outputs": [
    {
     "data": {
      "text/plain": [
       "[_NumericColumn(key='num_preg', shape=(1,), default_value=None, dtype=tf.float32, normalizer_fn=None),\n",
       " _NumericColumn(key='glucose_conc', shape=(1,), default_value=None, dtype=tf.float32, normalizer_fn=None),\n",
       " _NumericColumn(key='diastolic_bp', shape=(1,), default_value=None, dtype=tf.float32, normalizer_fn=None),\n",
       " _NumericColumn(key='thickness', shape=(1,), default_value=None, dtype=tf.float32, normalizer_fn=None),\n",
       " _NumericColumn(key='insulin', shape=(1,), default_value=None, dtype=tf.float32, normalizer_fn=None),\n",
       " _NumericColumn(key='bmi', shape=(1,), default_value=None, dtype=tf.float32, normalizer_fn=None),\n",
       " _NumericColumn(key='diab_pred', shape=(1,), default_value=None, dtype=tf.float32, normalizer_fn=None),\n",
       " _NumericColumn(key='skin', shape=(1,), default_value=None, dtype=tf.float32, normalizer_fn=None),\n",
       " _BucketizedColumn(source_column=_NumericColumn(key='age', shape=(1,), default_value=None, dtype=tf.float32, normalizer_fn=None), boundaries=(20, 30, 40, 50, 60, 70, 80))]"
      ]
     },
     "execution_count": 615,
     "metadata": {},
     "output_type": "execute_result"
    }
   ],
   "source": [
    "feat_cols\n"
   ]
  },
  {
   "cell_type": "code",
   "execution_count": 616,
   "metadata": {},
   "outputs": [
    {
     "data": {
      "text/plain": [
       "num_preg        float64\n",
       "glucose_conc    float64\n",
       "diastolic_bp    float64\n",
       "thickness       float64\n",
       "insulin         float64\n",
       "bmi             float64\n",
       "diab_pred       float64\n",
       "age               int64\n",
       "skin            float64\n",
       "diabetes           bool\n",
       "False             int64\n",
       "Group             int64\n",
       "dtype: object"
      ]
     },
     "execution_count": 616,
     "metadata": {},
     "output_type": "execute_result"
    }
   ],
   "source": [
    "pima.head()\n",
    "pima.describe()\n",
    "pima.dtypes"
   ]
  },
  {
   "cell_type": "code",
   "execution_count": 617,
   "metadata": {},
   "outputs": [],
   "source": [
    "pima.loc[(pima['diabetes'] == True), 'Group'] = 1\n",
    "pima.loc[(pima['diabetes'] == False), 'Group'] = 0\n"
   ]
  },
  {
   "cell_type": "code",
   "execution_count": 618,
   "metadata": {},
   "outputs": [],
   "source": [
    "from sklearn.model_selection import train_test_split"
   ]
  },
  {
   "cell_type": "code",
   "execution_count": 619,
   "metadata": {},
   "outputs": [],
   "source": [
    "x_data = pima.drop(labels=['Group', False, 'diabetes'], axis=1)"
   ]
  },
  {
   "cell_type": "code",
   "execution_count": 629,
   "metadata": {},
   "outputs": [],
   "source": [
    "y_label = pima['Group']"
   ]
  },
  {
   "cell_type": "code",
   "execution_count": 630,
   "metadata": {},
   "outputs": [],
   "source": [
    "X_train, X_test, y_train, y_test = train_test_split(x_data, y_label, test_size=0.3)"
   ]
  },
  {
   "cell_type": "code",
   "execution_count": 631,
   "metadata": {},
   "outputs": [
    {
     "data": {
      "text/plain": [
       "(537, 9)"
      ]
     },
     "execution_count": 631,
     "metadata": {},
     "output_type": "execute_result"
    }
   ],
   "source": [
    "X_train.shape"
   ]
  },
  {
   "cell_type": "code",
   "execution_count": 632,
   "metadata": {},
   "outputs": [],
   "source": [
    "input_func = tf.estimator.inputs.pandas_input_fn(x=X_train, y=y_train, batch_size=8, num_epochs=100, shuffle=True)"
   ]
  },
  {
   "cell_type": "code",
   "execution_count": 633,
   "metadata": {},
   "outputs": [],
   "source": [
    "train_input_func = tf.estimator.inputs.pandas_input_fn(x=X_train, y=y_train, batch_size=8, num_epochs=100, shuffle=False)"
   ]
  },
  {
   "cell_type": "code",
   "execution_count": 634,
   "metadata": {},
   "outputs": [],
   "source": [
    "test_input_func = tf.estimator.inputs.pandas_input_fn(x=X_test, y=y_test, batch_size=8, num_epochs=100, shuffle=False)"
   ]
  },
  {
   "cell_type": "code",
   "execution_count": 635,
   "metadata": {},
   "outputs": [
    {
     "name": "stdout",
     "output_type": "stream",
     "text": [
      "INFO:tensorflow:Using default config.\n",
      "WARNING:tensorflow:Using temporary folder as model directory: /tmp/tmp1odrmcqi\n",
      "INFO:tensorflow:Using config: {'_model_dir': '/tmp/tmp1odrmcqi', '_tf_random_seed': None, '_save_summary_steps': 100, '_save_checkpoints_steps': None, '_save_checkpoints_secs': 600, '_session_config': None, '_keep_checkpoint_max': 5, '_keep_checkpoint_every_n_hours': 10000, '_log_step_count_steps': 100, '_train_distribute': None, '_device_fn': None, '_service': None, '_cluster_spec': <tensorflow.python.training.server_lib.ClusterSpec object at 0x7f239392ba90>, '_task_type': 'worker', '_task_id': 0, '_global_id_in_cluster': 0, '_master': '', '_evaluation_master': '', '_is_chief': True, '_num_ps_replicas': 0, '_num_worker_replicas': 1}\n"
     ]
    }
   ],
   "source": [
    "estimator = tf.estimator.LinearClassifier(feature_columns=feat_cols, n_classes=2)"
   ]
  },
  {
   "cell_type": "code",
   "execution_count": 636,
   "metadata": {},
   "outputs": [
    {
     "name": "stdout",
     "output_type": "stream",
     "text": [
      "INFO:tensorflow:Calling model_fn.\n",
      "INFO:tensorflow:Done calling model_fn.\n",
      "INFO:tensorflow:Create CheckpointSaverHook.\n",
      "INFO:tensorflow:Graph was finalized.\n",
      "INFO:tensorflow:Running local_init_op.\n",
      "INFO:tensorflow:Done running local_init_op.\n",
      "INFO:tensorflow:Saving checkpoints for 0 into /tmp/tmp1odrmcqi/model.ckpt.\n",
      "INFO:tensorflow:loss = 5.5451775, step = 1\n",
      "INFO:tensorflow:global_step/sec: 328.016\n",
      "INFO:tensorflow:loss = 5.324451, step = 101 (0.305 sec)\n",
      "INFO:tensorflow:global_step/sec: 873.097\n",
      "INFO:tensorflow:loss = 3.8737931, step = 201 (0.115 sec)\n",
      "INFO:tensorflow:global_step/sec: 604.176\n",
      "INFO:tensorflow:loss = 3.9861298, step = 301 (0.165 sec)\n",
      "INFO:tensorflow:global_step/sec: 587.145\n",
      "INFO:tensorflow:loss = 5.44881, step = 401 (0.171 sec)\n",
      "INFO:tensorflow:global_step/sec: 644.72\n",
      "INFO:tensorflow:loss = 4.338824, step = 501 (0.156 sec)\n",
      "INFO:tensorflow:global_step/sec: 597.645\n",
      "INFO:tensorflow:loss = 4.211676, step = 601 (0.166 sec)\n",
      "INFO:tensorflow:global_step/sec: 591.728\n",
      "INFO:tensorflow:loss = 4.457186, step = 701 (0.169 sec)\n",
      "INFO:tensorflow:global_step/sec: 625.199\n",
      "INFO:tensorflow:loss = 3.8488615, step = 801 (0.160 sec)\n",
      "INFO:tensorflow:global_step/sec: 550.59\n",
      "INFO:tensorflow:loss = 1.7568312, step = 901 (0.182 sec)\n",
      "INFO:tensorflow:Saving checkpoints for 1000 into /tmp/tmp1odrmcqi/model.ckpt.\n",
      "INFO:tensorflow:Loss for final step: 3.3675754.\n"
     ]
    },
    {
     "data": {
      "text/plain": [
       "<tensorflow.python.estimator.canned.linear.LinearClassifier at 0x7f239392b3c8>"
      ]
     },
     "execution_count": 636,
     "metadata": {},
     "output_type": "execute_result"
    }
   ],
   "source": [
    "estimator.train(input_fn=input_func, steps=1000)"
   ]
  },
  {
   "cell_type": "code",
   "execution_count": 638,
   "metadata": {},
   "outputs": [
    {
     "name": "stdout",
     "output_type": "stream",
     "text": [
      "INFO:tensorflow:Calling model_fn.\n",
      "WARNING:tensorflow:Trapezoidal rule is known to produce incorrect PR-AUCs; please switch to \"careful_interpolation\" instead.\n",
      "WARNING:tensorflow:Trapezoidal rule is known to produce incorrect PR-AUCs; please switch to \"careful_interpolation\" instead.\n",
      "INFO:tensorflow:Done calling model_fn.\n",
      "INFO:tensorflow:Starting evaluation at 2018-10-27-17:20:43\n",
      "INFO:tensorflow:Graph was finalized.\n",
      "INFO:tensorflow:Restoring parameters from /tmp/tmp1odrmcqi/model.ckpt-1000\n",
      "INFO:tensorflow:Running local_init_op.\n",
      "INFO:tensorflow:Done running local_init_op.\n",
      "INFO:tensorflow:Evaluation [100/1000]\n",
      "INFO:tensorflow:Evaluation [200/1000]\n",
      "INFO:tensorflow:Evaluation [300/1000]\n",
      "INFO:tensorflow:Evaluation [400/1000]\n",
      "INFO:tensorflow:Evaluation [500/1000]\n",
      "INFO:tensorflow:Evaluation [600/1000]\n",
      "INFO:tensorflow:Evaluation [700/1000]\n",
      "INFO:tensorflow:Evaluation [800/1000]\n",
      "INFO:tensorflow:Evaluation [900/1000]\n",
      "INFO:tensorflow:Evaluation [1000/1000]\n",
      "INFO:tensorflow:Finished evaluation at 2018-10-27-17:20:45\n",
      "INFO:tensorflow:Saving dict for global step 1000: accuracy = 0.7275, accuracy_baseline = 0.640625, auc = 0.7798738, auc_precision_recall = 0.60634923, average_loss = 0.547794, global_step = 1000, label/mean = 0.359375, loss = 4.382352, precision = 0.6925208, prediction/mean = 0.33226785, recall = 0.4347826\n",
      "INFO:tensorflow:Saving 'checkpoint_path' summary for global step 1000: /tmp/tmp1odrmcqi/model.ckpt-1000\n"
     ]
    },
    {
     "data": {
      "text/plain": [
       "{'accuracy': 0.7275,\n",
       " 'accuracy_baseline': 0.640625,\n",
       " 'auc': 0.7798738,\n",
       " 'auc_precision_recall': 0.60634923,\n",
       " 'average_loss': 0.547794,\n",
       " 'label/mean': 0.359375,\n",
       " 'loss': 4.382352,\n",
       " 'precision': 0.6925208,\n",
       " 'prediction/mean': 0.33226785,\n",
       " 'recall': 0.4347826,\n",
       " 'global_step': 1000}"
      ]
     },
     "execution_count": 638,
     "metadata": {},
     "output_type": "execute_result"
    }
   ],
   "source": [
    "estimator.evaluate(test_input_func, steps=1000)"
   ]
  },
  {
   "cell_type": "code",
   "execution_count": 639,
   "metadata": {},
   "outputs": [],
   "source": [
    "pred_input_func = tf.estimator.inputs.pandas_input_fn(x=X_test, batch_size=8, num_epochs=1, shuffle=False)"
   ]
  },
  {
   "cell_type": "code",
   "execution_count": 640,
   "metadata": {},
   "outputs": [
    {
     "data": {
      "text/plain": [
       "<generator object Estimator.predict at 0x7f2398241620>"
      ]
     },
     "execution_count": 640,
     "metadata": {},
     "output_type": "execute_result"
    }
   ],
   "source": [
    "estimator.predict(pred_input_func)"
   ]
  },
  {
   "cell_type": "code",
   "execution_count": 641,
   "metadata": {},
   "outputs": [
    {
     "name": "stdout",
     "output_type": "stream",
     "text": [
      "INFO:tensorflow:Calling model_fn.\n",
      "INFO:tensorflow:Done calling model_fn.\n",
      "INFO:tensorflow:Graph was finalized.\n",
      "INFO:tensorflow:Restoring parameters from /tmp/tmp1odrmcqi/model.ckpt-1000\n",
      "INFO:tensorflow:Running local_init_op.\n",
      "INFO:tensorflow:Done running local_init_op.\n"
     ]
    },
    {
     "data": {
      "text/plain": [
       "[{'logits': array([-1.760239], dtype=float32),\n",
       "  'logistic': array([0.14676042], dtype=float32),\n",
       "  'probabilities': array([0.8532396, 0.1467604], dtype=float32),\n",
       "  'class_ids': array([0]),\n",
       "  'classes': array([b'0'], dtype=object)},\n",
       " {'logits': array([1.0693945], dtype=float32),\n",
       "  'logistic': array([0.74448174], dtype=float32),\n",
       "  'probabilities': array([0.25551826, 0.74448174], dtype=float32),\n",
       "  'class_ids': array([1]),\n",
       "  'classes': array([b'1'], dtype=object)},\n",
       " {'logits': array([-0.27730286], dtype=float32),\n",
       "  'logistic': array([0.43111512], dtype=float32),\n",
       "  'probabilities': array([0.56888485, 0.43111515], dtype=float32),\n",
       "  'class_ids': array([0]),\n",
       "  'classes': array([b'0'], dtype=object)},\n",
       " {'logits': array([0.72368896], dtype=float32),\n",
       "  'logistic': array([0.6734188], dtype=float32),\n",
       "  'probabilities': array([0.32658115, 0.6734188 ], dtype=float32),\n",
       "  'class_ids': array([1]),\n",
       "  'classes': array([b'1'], dtype=object)},\n",
       " {'logits': array([-1.5800432], dtype=float32),\n",
       "  'logistic': array([0.17078936], dtype=float32),\n",
       "  'probabilities': array([0.82921064, 0.17078936], dtype=float32),\n",
       "  'class_ids': array([0]),\n",
       "  'classes': array([b'0'], dtype=object)},\n",
       " {'logits': array([0.5847801], dtype=float32),\n",
       "  'logistic': array([0.6421666], dtype=float32),\n",
       "  'probabilities': array([0.35783347, 0.6421666 ], dtype=float32),\n",
       "  'class_ids': array([1]),\n",
       "  'classes': array([b'1'], dtype=object)},\n",
       " {'logits': array([1.4011973], dtype=float32),\n",
       "  'logistic': array([0.8023738], dtype=float32),\n",
       "  'probabilities': array([0.19762619, 0.8023738 ], dtype=float32),\n",
       "  'class_ids': array([1]),\n",
       "  'classes': array([b'1'], dtype=object)},\n",
       " {'logits': array([-1.7341218], dtype=float32),\n",
       "  'logistic': array([0.15006112], dtype=float32),\n",
       "  'probabilities': array([0.8499389 , 0.15006113], dtype=float32),\n",
       "  'class_ids': array([0]),\n",
       "  'classes': array([b'0'], dtype=object)},\n",
       " {'logits': array([0.04302037], dtype=float32),\n",
       "  'logistic': array([0.5107534], dtype=float32),\n",
       "  'probabilities': array([0.48924652, 0.5107534 ], dtype=float32),\n",
       "  'class_ids': array([1]),\n",
       "  'classes': array([b'1'], dtype=object)},\n",
       " {'logits': array([-2.1249685], dtype=float32),\n",
       "  'logistic': array([0.1066936], dtype=float32),\n",
       "  'probabilities': array([0.8933064 , 0.10669359], dtype=float32),\n",
       "  'class_ids': array([0]),\n",
       "  'classes': array([b'0'], dtype=object)},\n",
       " {'logits': array([0.2527125], dtype=float32),\n",
       "  'logistic': array([0.56284404], dtype=float32),\n",
       "  'probabilities': array([0.43715596, 0.56284404], dtype=float32),\n",
       "  'class_ids': array([1]),\n",
       "  'classes': array([b'1'], dtype=object)},\n",
       " {'logits': array([-1.3078988], dtype=float32),\n",
       "  'logistic': array([0.21283866], dtype=float32),\n",
       "  'probabilities': array([0.7871613 , 0.21283866], dtype=float32),\n",
       "  'class_ids': array([0]),\n",
       "  'classes': array([b'0'], dtype=object)},\n",
       " {'logits': array([-0.41956198], dtype=float32),\n",
       "  'logistic': array([0.39662156], dtype=float32),\n",
       "  'probabilities': array([0.6033784 , 0.39662156], dtype=float32),\n",
       "  'class_ids': array([0]),\n",
       "  'classes': array([b'0'], dtype=object)},\n",
       " {'logits': array([-1.4097995], dtype=float32),\n",
       "  'logistic': array([0.19626568], dtype=float32),\n",
       "  'probabilities': array([0.8037343 , 0.19626568], dtype=float32),\n",
       "  'class_ids': array([0]),\n",
       "  'classes': array([b'0'], dtype=object)},\n",
       " {'logits': array([0.81987846], dtype=float32),\n",
       "  'logistic': array([0.6942105], dtype=float32),\n",
       "  'probabilities': array([0.30578944, 0.6942105 ], dtype=float32),\n",
       "  'class_ids': array([1]),\n",
       "  'classes': array([b'1'], dtype=object)},\n",
       " {'logits': array([-1.489652], dtype=float32),\n",
       "  'logistic': array([0.18397397], dtype=float32),\n",
       "  'probabilities': array([0.81602603, 0.18397397], dtype=float32),\n",
       "  'class_ids': array([0]),\n",
       "  'classes': array([b'0'], dtype=object)},\n",
       " {'logits': array([-0.05727839], dtype=float32),\n",
       "  'logistic': array([0.48568437], dtype=float32),\n",
       "  'probabilities': array([0.51431566, 0.48568428], dtype=float32),\n",
       "  'class_ids': array([0]),\n",
       "  'classes': array([b'0'], dtype=object)},\n",
       " {'logits': array([-2.0312943], dtype=float32),\n",
       "  'logistic': array([0.11595617], dtype=float32),\n",
       "  'probabilities': array([0.8840438 , 0.11595617], dtype=float32),\n",
       "  'class_ids': array([0]),\n",
       "  'classes': array([b'0'], dtype=object)},\n",
       " {'logits': array([-1.3338721], dtype=float32),\n",
       "  'logistic': array([0.2085196], dtype=float32),\n",
       "  'probabilities': array([0.7914804, 0.2085196], dtype=float32),\n",
       "  'class_ids': array([0]),\n",
       "  'classes': array([b'0'], dtype=object)},\n",
       " {'logits': array([0.15671301], dtype=float32),\n",
       "  'logistic': array([0.53909826], dtype=float32),\n",
       "  'probabilities': array([0.46090174, 0.53909826], dtype=float32),\n",
       "  'class_ids': array([1]),\n",
       "  'classes': array([b'1'], dtype=object)},\n",
       " {'logits': array([-1.1764705], dtype=float32),\n",
       "  'logistic': array([0.23568739], dtype=float32),\n",
       "  'probabilities': array([0.76431257, 0.23568739], dtype=float32),\n",
       "  'class_ids': array([0]),\n",
       "  'classes': array([b'0'], dtype=object)},\n",
       " {'logits': array([-1.2310749], dtype=float32),\n",
       "  'logistic': array([0.22599334], dtype=float32),\n",
       "  'probabilities': array([0.7740066 , 0.22599332], dtype=float32),\n",
       "  'class_ids': array([0]),\n",
       "  'classes': array([b'0'], dtype=object)},\n",
       " {'logits': array([-0.3528161], dtype=float32),\n",
       "  'logistic': array([0.41269967], dtype=float32),\n",
       "  'probabilities': array([0.58730036, 0.41269973], dtype=float32),\n",
       "  'class_ids': array([0]),\n",
       "  'classes': array([b'0'], dtype=object)},\n",
       " {'logits': array([-0.10506451], dtype=float32),\n",
       "  'logistic': array([0.47375804], dtype=float32),\n",
       "  'probabilities': array([0.526242  , 0.47375804], dtype=float32),\n",
       "  'class_ids': array([0]),\n",
       "  'classes': array([b'0'], dtype=object)},\n",
       " {'logits': array([-0.9723195], dtype=float32),\n",
       "  'logistic': array([0.2744184], dtype=float32),\n",
       "  'probabilities': array([0.7255815, 0.2744184], dtype=float32),\n",
       "  'class_ids': array([0]),\n",
       "  'classes': array([b'0'], dtype=object)},\n",
       " {'logits': array([0.24815607], dtype=float32),\n",
       "  'logistic': array([0.5617226], dtype=float32),\n",
       "  'probabilities': array([0.4382774, 0.5617226], dtype=float32),\n",
       "  'class_ids': array([1]),\n",
       "  'classes': array([b'1'], dtype=object)},\n",
       " {'logits': array([-0.34692377], dtype=float32),\n",
       "  'logistic': array([0.4141286], dtype=float32),\n",
       "  'probabilities': array([0.5858714, 0.4141286], dtype=float32),\n",
       "  'class_ids': array([0]),\n",
       "  'classes': array([b'0'], dtype=object)},\n",
       " {'logits': array([-1.9046347], dtype=float32),\n",
       "  'logistic': array([0.12958482], dtype=float32),\n",
       "  'probabilities': array([0.87041515, 0.1295848 ], dtype=float32),\n",
       "  'class_ids': array([0]),\n",
       "  'classes': array([b'0'], dtype=object)},\n",
       " {'logits': array([-1.1749204], dtype=float32),\n",
       "  'logistic': array([0.23596674], dtype=float32),\n",
       "  'probabilities': array([0.7640332 , 0.23596673], dtype=float32),\n",
       "  'class_ids': array([0]),\n",
       "  'classes': array([b'0'], dtype=object)},\n",
       " {'logits': array([-1.4433262], dtype=float32),\n",
       "  'logistic': array([0.19103079], dtype=float32),\n",
       "  'probabilities': array([0.8089692 , 0.19103079], dtype=float32),\n",
       "  'class_ids': array([0]),\n",
       "  'classes': array([b'0'], dtype=object)},\n",
       " {'logits': array([-0.83346456], dtype=float32),\n",
       "  'logistic': array([0.302913], dtype=float32),\n",
       "  'probabilities': array([0.697087  , 0.30291298], dtype=float32),\n",
       "  'class_ids': array([0]),\n",
       "  'classes': array([b'0'], dtype=object)},\n",
       " {'logits': array([-1.6273808], dtype=float32),\n",
       "  'logistic': array([0.16418947], dtype=float32),\n",
       "  'probabilities': array([0.8358105 , 0.16418946], dtype=float32),\n",
       "  'class_ids': array([0]),\n",
       "  'classes': array([b'0'], dtype=object)},\n",
       " {'logits': array([-0.08278525], dtype=float32),\n",
       "  'logistic': array([0.4793155], dtype=float32),\n",
       "  'probabilities': array([0.5206845 , 0.47931546], dtype=float32),\n",
       "  'class_ids': array([0]),\n",
       "  'classes': array([b'0'], dtype=object)},\n",
       " {'logits': array([-1.1733271], dtype=float32),\n",
       "  'logistic': array([0.23625413], dtype=float32),\n",
       "  'probabilities': array([0.76374584, 0.23625411], dtype=float32),\n",
       "  'class_ids': array([0]),\n",
       "  'classes': array([b'0'], dtype=object)},\n",
       " {'logits': array([-0.48396128], dtype=float32),\n",
       "  'logistic': array([0.38131714], dtype=float32),\n",
       "  'probabilities': array([0.61868286, 0.38131717], dtype=float32),\n",
       "  'class_ids': array([0]),\n",
       "  'classes': array([b'0'], dtype=object)},\n",
       " {'logits': array([-1.1128958], dtype=float32),\n",
       "  'logistic': array([0.24733141], dtype=float32),\n",
       "  'probabilities': array([0.75266856, 0.2473314 ], dtype=float32),\n",
       "  'class_ids': array([0]),\n",
       "  'classes': array([b'0'], dtype=object)},\n",
       " {'logits': array([-1.6115732], dtype=float32),\n",
       "  'logistic': array([0.16637032], dtype=float32),\n",
       "  'probabilities': array([0.83362967, 0.1663703 ], dtype=float32),\n",
       "  'class_ids': array([0]),\n",
       "  'classes': array([b'0'], dtype=object)},\n",
       " {'logits': array([-0.44140422], dtype=float32),\n",
       "  'logistic': array([0.39140642], dtype=float32),\n",
       "  'probabilities': array([0.6085936 , 0.39140642], dtype=float32),\n",
       "  'class_ids': array([0]),\n",
       "  'classes': array([b'0'], dtype=object)},\n",
       " {'logits': array([1.022957], dtype=float32),\n",
       "  'logistic': array([0.7355482], dtype=float32),\n",
       "  'probabilities': array([0.26445183, 0.7355482 ], dtype=float32),\n",
       "  'class_ids': array([1]),\n",
       "  'classes': array([b'1'], dtype=object)},\n",
       " {'logits': array([-2.0051057], dtype=float32),\n",
       "  'logistic': array([0.1186679], dtype=float32),\n",
       "  'probabilities': array([0.8813321 , 0.11866789], dtype=float32),\n",
       "  'class_ids': array([0]),\n",
       "  'classes': array([b'0'], dtype=object)},\n",
       " {'logits': array([-0.5577598], dtype=float32),\n",
       "  'logistic': array([0.36406595], dtype=float32),\n",
       "  'probabilities': array([0.63593405, 0.36406595], dtype=float32),\n",
       "  'class_ids': array([0]),\n",
       "  'classes': array([b'0'], dtype=object)},\n",
       " {'logits': array([0.5697311], dtype=float32),\n",
       "  'logistic': array([0.63870114], dtype=float32),\n",
       "  'probabilities': array([0.3612989 , 0.63870114], dtype=float32),\n",
       "  'class_ids': array([1]),\n",
       "  'classes': array([b'1'], dtype=object)},\n",
       " {'logits': array([-1.409834], dtype=float32),\n",
       "  'logistic': array([0.19626023], dtype=float32),\n",
       "  'probabilities': array([0.8037398 , 0.19626024], dtype=float32),\n",
       "  'class_ids': array([0]),\n",
       "  'classes': array([b'0'], dtype=object)},\n",
       " {'logits': array([-1.3743287], dtype=float32),\n",
       "  'logistic': array([0.20192137], dtype=float32),\n",
       "  'probabilities': array([0.79807866, 0.20192139], dtype=float32),\n",
       "  'class_ids': array([0]),\n",
       "  'classes': array([b'0'], dtype=object)},\n",
       " {'logits': array([0.29300702], dtype=float32),\n",
       "  'logistic': array([0.5727321], dtype=float32),\n",
       "  'probabilities': array([0.42726782, 0.5727321 ], dtype=float32),\n",
       "  'class_ids': array([1]),\n",
       "  'classes': array([b'1'], dtype=object)},\n",
       " {'logits': array([-0.0538919], dtype=float32),\n",
       "  'logistic': array([0.48653033], dtype=float32),\n",
       "  'probabilities': array([0.5134697 , 0.48653024], dtype=float32),\n",
       "  'class_ids': array([0]),\n",
       "  'classes': array([b'0'], dtype=object)},\n",
       " {'logits': array([-2.0736504], dtype=float32),\n",
       "  'logistic': array([0.11168437], dtype=float32),\n",
       "  'probabilities': array([0.8883156 , 0.11168437], dtype=float32),\n",
       "  'class_ids': array([0]),\n",
       "  'classes': array([b'0'], dtype=object)},\n",
       " {'logits': array([-0.6336346], dtype=float32),\n",
       "  'logistic': array([0.34668684], dtype=float32),\n",
       "  'probabilities': array([0.65331316, 0.34668687], dtype=float32),\n",
       "  'class_ids': array([0]),\n",
       "  'classes': array([b'0'], dtype=object)},\n",
       " {'logits': array([-1.5480323], dtype=float32),\n",
       "  'logistic': array([0.17537065], dtype=float32),\n",
       "  'probabilities': array([0.82462937, 0.17537066], dtype=float32),\n",
       "  'class_ids': array([0]),\n",
       "  'classes': array([b'0'], dtype=object)},\n",
       " {'logits': array([0.8734809], dtype=float32),\n",
       "  'logistic': array([0.7054695], dtype=float32),\n",
       "  'probabilities': array([0.2945305, 0.7054695], dtype=float32),\n",
       "  'class_ids': array([1]),\n",
       "  'classes': array([b'1'], dtype=object)},\n",
       " {'logits': array([-0.23666823], dtype=float32),\n",
       "  'logistic': array([0.44110757], dtype=float32),\n",
       "  'probabilities': array([0.5588924, 0.4411076], dtype=float32),\n",
       "  'class_ids': array([0]),\n",
       "  'classes': array([b'0'], dtype=object)},\n",
       " {'logits': array([-1.234507], dtype=float32),\n",
       "  'logistic': array([0.22539358], dtype=float32),\n",
       "  'probabilities': array([0.7746064 , 0.22539358], dtype=float32),\n",
       "  'class_ids': array([0]),\n",
       "  'classes': array([b'0'], dtype=object)},\n",
       " {'logits': array([0.81508577], dtype=float32),\n",
       "  'logistic': array([0.6931922], dtype=float32),\n",
       "  'probabilities': array([0.3068078, 0.6931922], dtype=float32),\n",
       "  'class_ids': array([1]),\n",
       "  'classes': array([b'1'], dtype=object)},\n",
       " {'logits': array([-1.8070226], dtype=float32),\n",
       "  'logistic': array([0.14099836], dtype=float32),\n",
       "  'probabilities': array([0.85900164, 0.14099836], dtype=float32),\n",
       "  'class_ids': array([0]),\n",
       "  'classes': array([b'0'], dtype=object)},\n",
       " {'logits': array([-1.5594203], dtype=float32),\n",
       "  'logistic': array([0.17372984], dtype=float32),\n",
       "  'probabilities': array([0.82627016, 0.17372984], dtype=float32),\n",
       "  'class_ids': array([0]),\n",
       "  'classes': array([b'0'], dtype=object)},\n",
       " {'logits': array([-1.5708275], dtype=float32),\n",
       "  'logistic': array([0.17209847], dtype=float32),\n",
       "  'probabilities': array([0.82790154, 0.17209846], dtype=float32),\n",
       "  'class_ids': array([0]),\n",
       "  'classes': array([b'0'], dtype=object)},\n",
       " {'logits': array([-1.7751805], dtype=float32),\n",
       "  'logistic': array([0.14489926], dtype=float32),\n",
       "  'probabilities': array([0.8551007 , 0.14489926], dtype=float32),\n",
       "  'class_ids': array([0]),\n",
       "  'classes': array([b'0'], dtype=object)},\n",
       " {'logits': array([-0.3625322], dtype=float32),\n",
       "  'logistic': array([0.41034672], dtype=float32),\n",
       "  'probabilities': array([0.58965325, 0.41034672], dtype=float32),\n",
       "  'class_ids': array([0]),\n",
       "  'classes': array([b'0'], dtype=object)},\n",
       " {'logits': array([-1.8445714], dtype=float32),\n",
       "  'logistic': array([0.13651153], dtype=float32),\n",
       "  'probabilities': array([0.86348844, 0.13651155], dtype=float32),\n",
       "  'class_ids': array([0]),\n",
       "  'classes': array([b'0'], dtype=object)},\n",
       " {'logits': array([-1.0739881], dtype=float32),\n",
       "  'logistic': array([0.2546454], dtype=float32),\n",
       "  'probabilities': array([0.7453546, 0.2546454], dtype=float32),\n",
       "  'class_ids': array([0]),\n",
       "  'classes': array([b'0'], dtype=object)},\n",
       " {'logits': array([-1.8070651], dtype=float32),\n",
       "  'logistic': array([0.14099321], dtype=float32),\n",
       "  'probabilities': array([0.8590068 , 0.14099321], dtype=float32),\n",
       "  'class_ids': array([0]),\n",
       "  'classes': array([b'0'], dtype=object)},\n",
       " {'logits': array([-1.8815961], dtype=float32),\n",
       "  'logistic': array([0.13220565], dtype=float32),\n",
       "  'probabilities': array([0.8677944 , 0.13220567], dtype=float32),\n",
       "  'class_ids': array([0]),\n",
       "  'classes': array([b'0'], dtype=object)},\n",
       " {'logits': array([-1.2670536], dtype=float32),\n",
       "  'logistic': array([0.21976204], dtype=float32),\n",
       "  'probabilities': array([0.7802379 , 0.21976204], dtype=float32),\n",
       "  'class_ids': array([0]),\n",
       "  'classes': array([b'0'], dtype=object)},\n",
       " {'logits': array([-0.5573446], dtype=float32),\n",
       "  'logistic': array([0.3641621], dtype=float32),\n",
       "  'probabilities': array([0.6358379, 0.3641621], dtype=float32),\n",
       "  'class_ids': array([0]),\n",
       "  'classes': array([b'0'], dtype=object)},\n",
       " {'logits': array([-1.7109147], dtype=float32),\n",
       "  'logistic': array([0.1530451], dtype=float32),\n",
       "  'probabilities': array([0.8469549, 0.1530451], dtype=float32),\n",
       "  'class_ids': array([0]),\n",
       "  'classes': array([b'0'], dtype=object)},\n",
       " {'logits': array([-1.387597], dtype=float32),\n",
       "  'logistic': array([0.19979167], dtype=float32),\n",
       "  'probabilities': array([0.80020833, 0.19979165], dtype=float32),\n",
       "  'class_ids': array([0]),\n",
       "  'classes': array([b'0'], dtype=object)},\n",
       " {'logits': array([0.29893327], dtype=float32),\n",
       "  'logistic': array([0.57418174], dtype=float32),\n",
       "  'probabilities': array([0.4258183 , 0.57418174], dtype=float32),\n",
       "  'class_ids': array([1]),\n",
       "  'classes': array([b'1'], dtype=object)},\n",
       " {'logits': array([-1.8225415], dtype=float32),\n",
       "  'logistic': array([0.13912919], dtype=float32),\n",
       "  'probabilities': array([0.8608708 , 0.13912919], dtype=float32),\n",
       "  'class_ids': array([0]),\n",
       "  'classes': array([b'0'], dtype=object)},\n",
       " {'logits': array([0.29908478], dtype=float32),\n",
       "  'logistic': array([0.57421875], dtype=float32),\n",
       "  'probabilities': array([0.42578122, 0.57421875], dtype=float32),\n",
       "  'class_ids': array([1]),\n",
       "  'classes': array([b'1'], dtype=object)},\n",
       " {'logits': array([-1.4309374], dtype=float32),\n",
       "  'logistic': array([0.19295266], dtype=float32),\n",
       "  'probabilities': array([0.8070473 , 0.19295266], dtype=float32),\n",
       "  'class_ids': array([0]),\n",
       "  'classes': array([b'0'], dtype=object)},\n",
       " {'logits': array([0.14186823], dtype=float32),\n",
       "  'logistic': array([0.53540766], dtype=float32),\n",
       "  'probabilities': array([0.46459228, 0.53540766], dtype=float32),\n",
       "  'class_ids': array([1]),\n",
       "  'classes': array([b'1'], dtype=object)},\n",
       " {'logits': array([0.22275043], dtype=float32),\n",
       "  'logistic': array([0.5554585], dtype=float32),\n",
       "  'probabilities': array([0.4445415, 0.5554585], dtype=float32),\n",
       "  'class_ids': array([1]),\n",
       "  'classes': array([b'1'], dtype=object)},\n",
       " {'logits': array([-1.5832186], dtype=float32),\n",
       "  'logistic': array([0.17034014], dtype=float32),\n",
       "  'probabilities': array([0.8296599 , 0.17034014], dtype=float32),\n",
       "  'class_ids': array([0]),\n",
       "  'classes': array([b'0'], dtype=object)},\n",
       " {'logits': array([0.16098821], dtype=float32),\n",
       "  'logistic': array([0.54016036], dtype=float32),\n",
       "  'probabilities': array([0.45983964, 0.54016036], dtype=float32),\n",
       "  'class_ids': array([1]),\n",
       "  'classes': array([b'1'], dtype=object)},\n",
       " {'logits': array([-1.97274], dtype=float32),\n",
       "  'logistic': array([0.12209488], dtype=float32),\n",
       "  'probabilities': array([0.87790513, 0.12209488], dtype=float32),\n",
       "  'class_ids': array([0]),\n",
       "  'classes': array([b'0'], dtype=object)},\n",
       " {'logits': array([-0.6365855], dtype=float32),\n",
       "  'logistic': array([0.34601882], dtype=float32),\n",
       "  'probabilities': array([0.6539812 , 0.34601882], dtype=float32),\n",
       "  'class_ids': array([0]),\n",
       "  'classes': array([b'0'], dtype=object)},\n",
       " {'logits': array([0.18415952], dtype=float32),\n",
       "  'logistic': array([0.5459102], dtype=float32),\n",
       "  'probabilities': array([0.45408976, 0.5459102 ], dtype=float32),\n",
       "  'class_ids': array([1]),\n",
       "  'classes': array([b'1'], dtype=object)},\n",
       " {'logits': array([1.2011272], dtype=float32),\n",
       "  'logistic': array([0.7687252], dtype=float32),\n",
       "  'probabilities': array([0.23127474, 0.7687252 ], dtype=float32),\n",
       "  'class_ids': array([1]),\n",
       "  'classes': array([b'1'], dtype=object)},\n",
       " {'logits': array([-1.625387], dtype=float32),\n",
       "  'logistic': array([0.1644633], dtype=float32),\n",
       "  'probabilities': array([0.8355367 , 0.16446328], dtype=float32),\n",
       "  'class_ids': array([0]),\n",
       "  'classes': array([b'0'], dtype=object)},\n",
       " {'logits': array([-1.5033692], dtype=float32),\n",
       "  'logistic': array([0.18192355], dtype=float32),\n",
       "  'probabilities': array([0.81807643, 0.18192355], dtype=float32),\n",
       "  'class_ids': array([0]),\n",
       "  'classes': array([b'0'], dtype=object)},\n",
       " {'logits': array([0.04084933], dtype=float32),\n",
       "  'logistic': array([0.5102109], dtype=float32),\n",
       "  'probabilities': array([0.48978904, 0.5102109 ], dtype=float32),\n",
       "  'class_ids': array([1]),\n",
       "  'classes': array([b'1'], dtype=object)},\n",
       " {'logits': array([1.0153648], dtype=float32),\n",
       "  'logistic': array([0.73406875], dtype=float32),\n",
       "  'probabilities': array([0.26593128, 0.73406875], dtype=float32),\n",
       "  'class_ids': array([1]),\n",
       "  'classes': array([b'1'], dtype=object)},\n",
       " {'logits': array([-1.9494743], dtype=float32),\n",
       "  'logistic': array([0.12461068], dtype=float32),\n",
       "  'probabilities': array([0.8753893 , 0.12461068], dtype=float32),\n",
       "  'class_ids': array([0]),\n",
       "  'classes': array([b'0'], dtype=object)},\n",
       " {'logits': array([-1.7249582], dtype=float32),\n",
       "  'logistic': array([0.15123361], dtype=float32),\n",
       "  'probabilities': array([0.8487664 , 0.15123361], dtype=float32),\n",
       "  'class_ids': array([0]),\n",
       "  'classes': array([b'0'], dtype=object)},\n",
       " {'logits': array([-0.43057555], dtype=float32),\n",
       "  'logistic': array([0.39398888], dtype=float32),\n",
       "  'probabilities': array([0.6060111, 0.3939889], dtype=float32),\n",
       "  'class_ids': array([0]),\n",
       "  'classes': array([b'0'], dtype=object)},\n",
       " {'logits': array([0.15805292], dtype=float32),\n",
       "  'logistic': array([0.53943115], dtype=float32),\n",
       "  'probabilities': array([0.4605688 , 0.53943115], dtype=float32),\n",
       "  'class_ids': array([1]),\n",
       "  'classes': array([b'1'], dtype=object)},\n",
       " {'logits': array([-0.83034664], dtype=float32),\n",
       "  'logistic': array([0.3035718], dtype=float32),\n",
       "  'probabilities': array([0.6964282 , 0.30357176], dtype=float32),\n",
       "  'class_ids': array([0]),\n",
       "  'classes': array([b'0'], dtype=object)},\n",
       " {'logits': array([-1.8576665], dtype=float32),\n",
       "  'logistic': array([0.13497527], dtype=float32),\n",
       "  'probabilities': array([0.8650247 , 0.13497527], dtype=float32),\n",
       "  'class_ids': array([0]),\n",
       "  'classes': array([b'0'], dtype=object)},\n",
       " {'logits': array([-1.7016901], dtype=float32),\n",
       "  'logistic': array([0.15424466], dtype=float32),\n",
       "  'probabilities': array([0.84575534, 0.15424466], dtype=float32),\n",
       "  'class_ids': array([0]),\n",
       "  'classes': array([b'0'], dtype=object)},\n",
       " {'logits': array([-1.4349056], dtype=float32),\n",
       "  'logistic': array([0.19233547], dtype=float32),\n",
       "  'probabilities': array([0.8076645 , 0.19233547], dtype=float32),\n",
       "  'class_ids': array([0]),\n",
       "  'classes': array([b'0'], dtype=object)},\n",
       " {'logits': array([0.573758], dtype=float32),\n",
       "  'logistic': array([0.63962984], dtype=float32),\n",
       "  'probabilities': array([0.36037013, 0.63962984], dtype=float32),\n",
       "  'class_ids': array([1]),\n",
       "  'classes': array([b'1'], dtype=object)},\n",
       " {'logits': array([-0.5098023], dtype=float32),\n",
       "  'logistic': array([0.3752399], dtype=float32),\n",
       "  'probabilities': array([0.62476015, 0.37523988], dtype=float32),\n",
       "  'class_ids': array([0]),\n",
       "  'classes': array([b'0'], dtype=object)},\n",
       " {'logits': array([-1.7648964], dtype=float32),\n",
       "  'logistic': array([0.14617816], dtype=float32),\n",
       "  'probabilities': array([0.8538218 , 0.14617816], dtype=float32),\n",
       "  'class_ids': array([0]),\n",
       "  'classes': array([b'0'], dtype=object)},\n",
       " {'logits': array([-1.0490317], dtype=float32),\n",
       "  'logistic': array([0.25941107], dtype=float32),\n",
       "  'probabilities': array([0.74058896, 0.2594111 ], dtype=float32),\n",
       "  'class_ids': array([0]),\n",
       "  'classes': array([b'0'], dtype=object)},\n",
       " {'logits': array([-2.0525281], dtype=float32),\n",
       "  'logistic': array([0.11379717], dtype=float32),\n",
       "  'probabilities': array([0.8862028 , 0.11379717], dtype=float32),\n",
       "  'class_ids': array([0]),\n",
       "  'classes': array([b'0'], dtype=object)},\n",
       " {'logits': array([-1.7957282], dtype=float32),\n",
       "  'logistic': array([0.14237186], dtype=float32),\n",
       "  'probabilities': array([0.8576281 , 0.14237186], dtype=float32),\n",
       "  'class_ids': array([0]),\n",
       "  'classes': array([b'0'], dtype=object)},\n",
       " {'logits': array([-1.9323127], dtype=float32),\n",
       "  'logistic': array([0.12649481], dtype=float32),\n",
       "  'probabilities': array([0.8735052 , 0.12649481], dtype=float32),\n",
       "  'class_ids': array([0]),\n",
       "  'classes': array([b'0'], dtype=object)},\n",
       " {'logits': array([-0.2789209], dtype=float32),\n",
       "  'logistic': array([0.43071836], dtype=float32),\n",
       "  'probabilities': array([0.56928164, 0.43071836], dtype=float32),\n",
       "  'class_ids': array([0]),\n",
       "  'classes': array([b'0'], dtype=object)},\n",
       " {'logits': array([-1.0176568], dtype=float32),\n",
       "  'logistic': array([0.2654841], dtype=float32),\n",
       "  'probabilities': array([0.7345159 , 0.26548406], dtype=float32),\n",
       "  'class_ids': array([0]),\n",
       "  'classes': array([b'0'], dtype=object)},\n",
       " {'logits': array([-1.880303], dtype=float32),\n",
       "  'logistic': array([0.13235407], dtype=float32),\n",
       "  'probabilities': array([0.8676459 , 0.13235407], dtype=float32),\n",
       "  'class_ids': array([0]),\n",
       "  'classes': array([b'0'], dtype=object)},\n",
       " {'logits': array([-0.897118], dtype=float32),\n",
       "  'logistic': array([0.2896431], dtype=float32),\n",
       "  'probabilities': array([0.7103569, 0.2896431], dtype=float32),\n",
       "  'class_ids': array([0]),\n",
       "  'classes': array([b'0'], dtype=object)},\n",
       " {'logits': array([-0.16425037], dtype=float32),\n",
       "  'logistic': array([0.4590295], dtype=float32),\n",
       "  'probabilities': array([0.5409705 , 0.45902944], dtype=float32),\n",
       "  'class_ids': array([0]),\n",
       "  'classes': array([b'0'], dtype=object)},\n",
       " {'logits': array([0.9971491], dtype=float32),\n",
       "  'logistic': array([0.73049766], dtype=float32),\n",
       "  'probabilities': array([0.26950228, 0.73049766], dtype=float32),\n",
       "  'class_ids': array([1]),\n",
       "  'classes': array([b'1'], dtype=object)},\n",
       " {'logits': array([-0.7243808], dtype=float32),\n",
       "  'logistic': array([0.32642904], dtype=float32),\n",
       "  'probabilities': array([0.67357093, 0.326429  ], dtype=float32),\n",
       "  'class_ids': array([0]),\n",
       "  'classes': array([b'0'], dtype=object)},\n",
       " {'logits': array([-1.1813372], dtype=float32),\n",
       "  'logistic': array([0.23481184], dtype=float32),\n",
       "  'probabilities': array([0.76518816, 0.23481184], dtype=float32),\n",
       "  'class_ids': array([0]),\n",
       "  'classes': array([b'0'], dtype=object)},\n",
       " {'logits': array([-0.39634633], dtype=float32),\n",
       "  'logistic': array([0.4021905], dtype=float32),\n",
       "  'probabilities': array([0.59780955, 0.4021905 ], dtype=float32),\n",
       "  'class_ids': array([0]),\n",
       "  'classes': array([b'0'], dtype=object)},\n",
       " {'logits': array([-1.1174556], dtype=float32),\n",
       "  'logistic': array([0.24648355], dtype=float32),\n",
       "  'probabilities': array([0.7535165 , 0.24648356], dtype=float32),\n",
       "  'class_ids': array([0]),\n",
       "  'classes': array([b'0'], dtype=object)},\n",
       " {'logits': array([-1.8901433], dtype=float32),\n",
       "  'logistic': array([0.13122813], dtype=float32),\n",
       "  'probabilities': array([0.86877185, 0.13122813], dtype=float32),\n",
       "  'class_ids': array([0]),\n",
       "  'classes': array([b'0'], dtype=object)},\n",
       " {'logits': array([-1.7687635], dtype=float32),\n",
       "  'logistic': array([0.14569616], dtype=float32),\n",
       "  'probabilities': array([0.8543039 , 0.14569618], dtype=float32),\n",
       "  'class_ids': array([0]),\n",
       "  'classes': array([b'0'], dtype=object)},\n",
       " {'logits': array([0.36158466], dtype=float32),\n",
       "  'logistic': array([0.589424], dtype=float32),\n",
       "  'probabilities': array([0.41057605, 0.589424  ], dtype=float32),\n",
       "  'class_ids': array([1]),\n",
       "  'classes': array([b'1'], dtype=object)},\n",
       " {'logits': array([-0.21772671], dtype=float32),\n",
       "  'logistic': array([0.44578233], dtype=float32),\n",
       "  'probabilities': array([0.55421764, 0.44578233], dtype=float32),\n",
       "  'class_ids': array([0]),\n",
       "  'classes': array([b'0'], dtype=object)},\n",
       " {'logits': array([0.20214462], dtype=float32),\n",
       "  'logistic': array([0.5503648], dtype=float32),\n",
       "  'probabilities': array([0.44963527, 0.5503648 ], dtype=float32),\n",
       "  'class_ids': array([1]),\n",
       "  'classes': array([b'1'], dtype=object)},\n",
       " {'logits': array([-0.9717176], dtype=float32),\n",
       "  'logistic': array([0.27453828], dtype=float32),\n",
       "  'probabilities': array([0.7254617 , 0.27453828], dtype=float32),\n",
       "  'class_ids': array([0]),\n",
       "  'classes': array([b'0'], dtype=object)},\n",
       " {'logits': array([-0.66645306], dtype=float32),\n",
       "  'logistic': array([0.3392915], dtype=float32),\n",
       "  'probabilities': array([0.6607085, 0.3392915], dtype=float32),\n",
       "  'class_ids': array([0]),\n",
       "  'classes': array([b'0'], dtype=object)},\n",
       " {'logits': array([-0.3948866], dtype=float32),\n",
       "  'logistic': array([0.40254152], dtype=float32),\n",
       "  'probabilities': array([0.59745854, 0.40254152], dtype=float32),\n",
       "  'class_ids': array([0]),\n",
       "  'classes': array([b'0'], dtype=object)},\n",
       " {'logits': array([-1.5920188], dtype=float32),\n",
       "  'logistic': array([0.16910006], dtype=float32),\n",
       "  'probabilities': array([0.83089995, 0.16910006], dtype=float32),\n",
       "  'class_ids': array([0]),\n",
       "  'classes': array([b'0'], dtype=object)},\n",
       " {'logits': array([-0.32906485], dtype=float32),\n",
       "  'logistic': array([0.41846818], dtype=float32),\n",
       "  'probabilities': array([0.5815318 , 0.41846818], dtype=float32),\n",
       "  'class_ids': array([0]),\n",
       "  'classes': array([b'0'], dtype=object)},\n",
       " {'logits': array([-1.7331635], dtype=float32),\n",
       "  'logistic': array([0.15018338], dtype=float32),\n",
       "  'probabilities': array([0.8498166 , 0.15018338], dtype=float32),\n",
       "  'class_ids': array([0]),\n",
       "  'classes': array([b'0'], dtype=object)},\n",
       " {'logits': array([-0.13085663], dtype=float32),\n",
       "  'logistic': array([0.46733245], dtype=float32),\n",
       "  'probabilities': array([0.5326676 , 0.46733245], dtype=float32),\n",
       "  'class_ids': array([0]),\n",
       "  'classes': array([b'0'], dtype=object)},\n",
       " {'logits': array([-0.77671397], dtype=float32),\n",
       "  'logistic': array([0.31502852], dtype=float32),\n",
       "  'probabilities': array([0.68497145, 0.31502852], dtype=float32),\n",
       "  'class_ids': array([0]),\n",
       "  'classes': array([b'0'], dtype=object)},\n",
       " {'logits': array([0.179008], dtype=float32),\n",
       "  'logistic': array([0.5446329], dtype=float32),\n",
       "  'probabilities': array([0.45536715, 0.5446329 ], dtype=float32),\n",
       "  'class_ids': array([1]),\n",
       "  'classes': array([b'1'], dtype=object)},\n",
       " {'logits': array([-1.522104], dtype=float32),\n",
       "  'logistic': array([0.17915191], dtype=float32),\n",
       "  'probabilities': array([0.8208481 , 0.17915191], dtype=float32),\n",
       "  'class_ids': array([0]),\n",
       "  'classes': array([b'0'], dtype=object)},\n",
       " {'logits': array([0.4333824], dtype=float32),\n",
       "  'logistic': array([0.60668105], dtype=float32),\n",
       "  'probabilities': array([0.39331892, 0.60668105], dtype=float32),\n",
       "  'class_ids': array([1]),\n",
       "  'classes': array([b'1'], dtype=object)},\n",
       " {'logits': array([0.02265334], dtype=float32),\n",
       "  'logistic': array([0.5056631], dtype=float32),\n",
       "  'probabilities': array([0.4943369, 0.5056631], dtype=float32),\n",
       "  'class_ids': array([1]),\n",
       "  'classes': array([b'1'], dtype=object)},\n",
       " {'logits': array([-0.44900286], dtype=float32),\n",
       "  'logistic': array([0.38959786], dtype=float32),\n",
       "  'probabilities': array([0.6104021 , 0.38959786], dtype=float32),\n",
       "  'class_ids': array([0]),\n",
       "  'classes': array([b'0'], dtype=object)},\n",
       " {'logits': array([-1.5599258], dtype=float32),\n",
       "  'logistic': array([0.1736573], dtype=float32),\n",
       "  'probabilities': array([0.8263427, 0.1736573], dtype=float32),\n",
       "  'class_ids': array([0]),\n",
       "  'classes': array([b'0'], dtype=object)},\n",
       " {'logits': array([-0.5194696], dtype=float32),\n",
       "  'logistic': array([0.37297627], dtype=float32),\n",
       "  'probabilities': array([0.6270237, 0.3729762], dtype=float32),\n",
       "  'class_ids': array([0]),\n",
       "  'classes': array([b'0'], dtype=object)},\n",
       " {'logits': array([-0.4977268], dtype=float32),\n",
       "  'logistic': array([0.37807503], dtype=float32),\n",
       "  'probabilities': array([0.621925  , 0.37807503], dtype=float32),\n",
       "  'class_ids': array([0]),\n",
       "  'classes': array([b'0'], dtype=object)},\n",
       " {'logits': array([-1.2099895], dtype=float32),\n",
       "  'logistic': array([0.22970289], dtype=float32),\n",
       "  'probabilities': array([0.7702971, 0.2297029], dtype=float32),\n",
       "  'class_ids': array([0]),\n",
       "  'classes': array([b'0'], dtype=object)},\n",
       " {'logits': array([-1.4776903], dtype=float32),\n",
       "  'logistic': array([0.18577653], dtype=float32),\n",
       "  'probabilities': array([0.81422347, 0.18577653], dtype=float32),\n",
       "  'class_ids': array([0]),\n",
       "  'classes': array([b'0'], dtype=object)},\n",
       " {'logits': array([-0.46425396], dtype=float32),\n",
       "  'logistic': array([0.38597715], dtype=float32),\n",
       "  'probabilities': array([0.61402285, 0.38597715], dtype=float32),\n",
       "  'class_ids': array([0]),\n",
       "  'classes': array([b'0'], dtype=object)},\n",
       " {'logits': array([0.22627938], dtype=float32),\n",
       "  'logistic': array([0.5563297], dtype=float32),\n",
       "  'probabilities': array([0.4436703, 0.5563297], dtype=float32),\n",
       "  'class_ids': array([1]),\n",
       "  'classes': array([b'1'], dtype=object)},\n",
       " {'logits': array([-0.8070351], dtype=float32),\n",
       "  'logistic': array([0.30852267], dtype=float32),\n",
       "  'probabilities': array([0.6914773 , 0.30852264], dtype=float32),\n",
       "  'class_ids': array([0]),\n",
       "  'classes': array([b'0'], dtype=object)},\n",
       " {'logits': array([-0.6125629], dtype=float32),\n",
       "  'logistic': array([0.3514748], dtype=float32),\n",
       "  'probabilities': array([0.6485252, 0.3514748], dtype=float32),\n",
       "  'class_ids': array([0]),\n",
       "  'classes': array([b'0'], dtype=object)},\n",
       " {'logits': array([-1.9198036], dtype=float32),\n",
       "  'logistic': array([0.12788346], dtype=float32),\n",
       "  'probabilities': array([0.8721165 , 0.12788346], dtype=float32),\n",
       "  'class_ids': array([0]),\n",
       "  'classes': array([b'0'], dtype=object)},\n",
       " {'logits': array([0.69574225], dtype=float32),\n",
       "  'logistic': array([0.66724306], dtype=float32),\n",
       "  'probabilities': array([0.33275688, 0.66724306], dtype=float32),\n",
       "  'class_ids': array([1]),\n",
       "  'classes': array([b'1'], dtype=object)},\n",
       " {'logits': array([0.37024248], dtype=float32),\n",
       "  'logistic': array([0.59151757], dtype=float32),\n",
       "  'probabilities': array([0.40848246, 0.5915176 ], dtype=float32),\n",
       "  'class_ids': array([1]),\n",
       "  'classes': array([b'1'], dtype=object)},\n",
       " {'logits': array([-1.1624765], dtype=float32),\n",
       "  'logistic': array([0.23821758], dtype=float32),\n",
       "  'probabilities': array([0.7617824 , 0.23821758], dtype=float32),\n",
       "  'class_ids': array([0]),\n",
       "  'classes': array([b'0'], dtype=object)},\n",
       " {'logits': array([-0.93438876], dtype=float32),\n",
       "  'logistic': array([0.28203517], dtype=float32),\n",
       "  'probabilities': array([0.7179648 , 0.28203517], dtype=float32),\n",
       "  'class_ids': array([0]),\n",
       "  'classes': array([b'0'], dtype=object)},\n",
       " {'logits': array([-1.777971], dtype=float32),\n",
       "  'logistic': array([0.14455386], dtype=float32),\n",
       "  'probabilities': array([0.8554462 , 0.14455387], dtype=float32),\n",
       "  'class_ids': array([0]),\n",
       "  'classes': array([b'0'], dtype=object)},\n",
       " {'logits': array([-0.17612135], dtype=float32),\n",
       "  'logistic': array([0.45608315], dtype=float32),\n",
       "  'probabilities': array([0.5439169 , 0.45608315], dtype=float32),\n",
       "  'class_ids': array([0]),\n",
       "  'classes': array([b'0'], dtype=object)},\n",
       " {'logits': array([1.5126661], dtype=float32),\n",
       "  'logistic': array([0.819456], dtype=float32),\n",
       "  'probabilities': array([0.180544, 0.819456], dtype=float32),\n",
       "  'class_ids': array([1]),\n",
       "  'classes': array([b'1'], dtype=object)},\n",
       " {'logits': array([0.34062207], dtype=float32),\n",
       "  'logistic': array([0.58434165], dtype=float32),\n",
       "  'probabilities': array([0.41565838, 0.58434165], dtype=float32),\n",
       "  'class_ids': array([1]),\n",
       "  'classes': array([b'1'], dtype=object)},\n",
       " {'logits': array([0.7814907], dtype=float32),\n",
       "  'logistic': array([0.6860013], dtype=float32),\n",
       "  'probabilities': array([0.3139987, 0.6860013], dtype=float32),\n",
       "  'class_ids': array([1]),\n",
       "  'classes': array([b'1'], dtype=object)},\n",
       " {'logits': array([-0.56333524], dtype=float32),\n",
       "  'logistic': array([0.3627761], dtype=float32),\n",
       "  'probabilities': array([0.6372239 , 0.36277607], dtype=float32),\n",
       "  'class_ids': array([0]),\n",
       "  'classes': array([b'0'], dtype=object)},\n",
       " {'logits': array([-1.7799397], dtype=float32),\n",
       "  'logistic': array([0.14431058], dtype=float32),\n",
       "  'probabilities': array([0.8556894 , 0.14431058], dtype=float32),\n",
       "  'class_ids': array([0]),\n",
       "  'classes': array([b'0'], dtype=object)},\n",
       " {'logits': array([-2.1703298], dtype=float32),\n",
       "  'logistic': array([0.1024467], dtype=float32),\n",
       "  'probabilities': array([0.8975533 , 0.10244671], dtype=float32),\n",
       "  'class_ids': array([0]),\n",
       "  'classes': array([b'0'], dtype=object)},\n",
       " {'logits': array([-0.5781331], dtype=float32),\n",
       "  'logistic': array([0.35936227], dtype=float32),\n",
       "  'probabilities': array([0.64063776, 0.3593623 ], dtype=float32),\n",
       "  'class_ids': array([0]),\n",
       "  'classes': array([b'0'], dtype=object)},\n",
       " {'logits': array([-1.3279989], dtype=float32),\n",
       "  'logistic': array([0.20949057], dtype=float32),\n",
       "  'probabilities': array([0.79050946, 0.20949058], dtype=float32),\n",
       "  'class_ids': array([0]),\n",
       "  'classes': array([b'0'], dtype=object)},\n",
       " {'logits': array([-0.85960925], dtype=float32),\n",
       "  'logistic': array([0.29742098], dtype=float32),\n",
       "  'probabilities': array([0.702579, 0.297421], dtype=float32),\n",
       "  'class_ids': array([0]),\n",
       "  'classes': array([b'0'], dtype=object)},\n",
       " {'logits': array([-1.6728187], dtype=float32),\n",
       "  'logistic': array([0.15804875], dtype=float32),\n",
       "  'probabilities': array([0.84195125, 0.15804875], dtype=float32),\n",
       "  'class_ids': array([0]),\n",
       "  'classes': array([b'0'], dtype=object)},\n",
       " {'logits': array([-0.70627964], dtype=float32),\n",
       "  'logistic': array([0.33042142], dtype=float32),\n",
       "  'probabilities': array([0.6695786 , 0.33042145], dtype=float32),\n",
       "  'class_ids': array([0]),\n",
       "  'classes': array([b'0'], dtype=object)},\n",
       " {'logits': array([-1.792507], dtype=float32),\n",
       "  'logistic': array([0.14276563], dtype=float32),\n",
       "  'probabilities': array([0.8572344 , 0.14276563], dtype=float32),\n",
       "  'class_ids': array([0]),\n",
       "  'classes': array([b'0'], dtype=object)},\n",
       " {'logits': array([0.09604466], dtype=float32),\n",
       "  'logistic': array([0.5239927], dtype=float32),\n",
       "  'probabilities': array([0.47600725, 0.5239927 ], dtype=float32),\n",
       "  'class_ids': array([1]),\n",
       "  'classes': array([b'1'], dtype=object)},\n",
       " {'logits': array([0.15384543], dtype=float32),\n",
       "  'logistic': array([0.5383857], dtype=float32),\n",
       "  'probabilities': array([0.46161434, 0.5383857 ], dtype=float32),\n",
       "  'class_ids': array([1]),\n",
       "  'classes': array([b'1'], dtype=object)},\n",
       " {'logits': array([-1.9716666], dtype=float32),\n",
       "  'logistic': array([0.12221], dtype=float32),\n",
       "  'probabilities': array([0.87779   , 0.12220999], dtype=float32),\n",
       "  'class_ids': array([0]),\n",
       "  'classes': array([b'0'], dtype=object)},\n",
       " {'logits': array([0.12877154], dtype=float32),\n",
       "  'logistic': array([0.5321485], dtype=float32),\n",
       "  'probabilities': array([0.46785155, 0.5321485 ], dtype=float32),\n",
       "  'class_ids': array([1]),\n",
       "  'classes': array([b'1'], dtype=object)},\n",
       " {'logits': array([-1.7318335], dtype=float32),\n",
       "  'logistic': array([0.15035321], dtype=float32),\n",
       "  'probabilities': array([0.8496468 , 0.15035321], dtype=float32),\n",
       "  'class_ids': array([0]),\n",
       "  'classes': array([b'0'], dtype=object)},\n",
       " {'logits': array([-0.03988707], dtype=float32),\n",
       "  'logistic': array([0.49002954], dtype=float32),\n",
       "  'probabilities': array([0.5099704, 0.4900295], dtype=float32),\n",
       "  'class_ids': array([0]),\n",
       "  'classes': array([b'0'], dtype=object)},\n",
       " {'logits': array([-1.1876601], dtype=float32),\n",
       "  'logistic': array([0.23367767], dtype=float32),\n",
       "  'probabilities': array([0.7663223 , 0.23367769], dtype=float32),\n",
       "  'class_ids': array([0]),\n",
       "  'classes': array([b'0'], dtype=object)},\n",
       " {'logits': array([-1.4216015], dtype=float32),\n",
       "  'logistic': array([0.19441064], dtype=float32),\n",
       "  'probabilities': array([0.8055894 , 0.19441064], dtype=float32),\n",
       "  'class_ids': array([0]),\n",
       "  'classes': array([b'0'], dtype=object)},\n",
       " {'logits': array([-1.8864927], dtype=float32),\n",
       "  'logistic': array([0.13164489], dtype=float32),\n",
       "  'probabilities': array([0.8683551 , 0.13164489], dtype=float32),\n",
       "  'class_ids': array([0]),\n",
       "  'classes': array([b'0'], dtype=object)},\n",
       " {'logits': array([0.31806433], dtype=float32),\n",
       "  'logistic': array([0.5788524], dtype=float32),\n",
       "  'probabilities': array([0.42114756, 0.5788524 ], dtype=float32),\n",
       "  'class_ids': array([1]),\n",
       "  'classes': array([b'1'], dtype=object)},\n",
       " {'logits': array([-2.136337], dtype=float32),\n",
       "  'logistic': array([0.10561489], dtype=float32),\n",
       "  'probabilities': array([0.8943851 , 0.10561489], dtype=float32),\n",
       "  'class_ids': array([0]),\n",
       "  'classes': array([b'0'], dtype=object)},\n",
       " {'logits': array([0.6679839], dtype=float32),\n",
       "  'logistic': array([0.6610516], dtype=float32),\n",
       "  'probabilities': array([0.33894843, 0.6610516 ], dtype=float32),\n",
       "  'class_ids': array([1]),\n",
       "  'classes': array([b'1'], dtype=object)},\n",
       " {'logits': array([-2.0007725], dtype=float32),\n",
       "  'logistic': array([0.11912184], dtype=float32),\n",
       "  'probabilities': array([0.88087815, 0.11912184], dtype=float32),\n",
       "  'class_ids': array([0]),\n",
       "  'classes': array([b'0'], dtype=object)},\n",
       " {'logits': array([-0.24741423], dtype=float32),\n",
       "  'logistic': array([0.43846005], dtype=float32),\n",
       "  'probabilities': array([0.56153995, 0.43846005], dtype=float32),\n",
       "  'class_ids': array([0]),\n",
       "  'classes': array([b'0'], dtype=object)},\n",
       " {'logits': array([-0.33848798], dtype=float32),\n",
       "  'logistic': array([0.41617683], dtype=float32),\n",
       "  'probabilities': array([0.5838232 , 0.41617683], dtype=float32),\n",
       "  'class_ids': array([0]),\n",
       "  'classes': array([b'0'], dtype=object)},\n",
       " {'logits': array([-0.9185771], dtype=float32),\n",
       "  'logistic': array([0.2852479], dtype=float32),\n",
       "  'probabilities': array([0.7147521 , 0.28524792], dtype=float32),\n",
       "  'class_ids': array([0]),\n",
       "  'classes': array([b'0'], dtype=object)},\n",
       " {'logits': array([-0.801596], dtype=float32),\n",
       "  'logistic': array([0.30968422], dtype=float32),\n",
       "  'probabilities': array([0.6903158 , 0.30968425], dtype=float32),\n",
       "  'class_ids': array([0]),\n",
       "  'classes': array([b'0'], dtype=object)},\n",
       " {'logits': array([-1.6954434], dtype=float32),\n",
       "  'logistic': array([0.15506132], dtype=float32),\n",
       "  'probabilities': array([0.8449387 , 0.15506133], dtype=float32),\n",
       "  'class_ids': array([0]),\n",
       "  'classes': array([b'0'], dtype=object)},\n",
       " {'logits': array([-0.76641214], dtype=float32),\n",
       "  'logistic': array([0.31725574], dtype=float32),\n",
       "  'probabilities': array([0.6827442, 0.3172557], dtype=float32),\n",
       "  'class_ids': array([0]),\n",
       "  'classes': array([b'0'], dtype=object)},\n",
       " {'logits': array([-1.7972078], dtype=float32),\n",
       "  'logistic': array([0.14219129], dtype=float32),\n",
       "  'probabilities': array([0.85780865, 0.14219128], dtype=float32),\n",
       "  'class_ids': array([0]),\n",
       "  'classes': array([b'0'], dtype=object)},\n",
       " {'logits': array([-2.2799752], dtype=float32),\n",
       "  'logistic': array([0.09279504], dtype=float32),\n",
       "  'probabilities': array([0.907205  , 0.09279505], dtype=float32),\n",
       "  'class_ids': array([0]),\n",
       "  'classes': array([b'0'], dtype=object)},\n",
       " {'logits': array([-1.1796318], dtype=float32),\n",
       "  'logistic': array([0.2351184], dtype=float32),\n",
       "  'probabilities': array([0.7648816, 0.2351184], dtype=float32),\n",
       "  'class_ids': array([0]),\n",
       "  'classes': array([b'0'], dtype=object)},\n",
       " {'logits': array([-0.84953153], dtype=float32),\n",
       "  'logistic': array([0.29953113], dtype=float32),\n",
       "  'probabilities': array([0.7004689 , 0.29953113], dtype=float32),\n",
       "  'class_ids': array([0]),\n",
       "  'classes': array([b'0'], dtype=object)},\n",
       " {'logits': array([-1.2538582], dtype=float32),\n",
       "  'logistic': array([0.22203296], dtype=float32),\n",
       "  'probabilities': array([0.777967  , 0.22203296], dtype=float32),\n",
       "  'class_ids': array([0]),\n",
       "  'classes': array([b'0'], dtype=object)},\n",
       " {'logits': array([-1.5408993], dtype=float32),\n",
       "  'logistic': array([0.17640458], dtype=float32),\n",
       "  'probabilities': array([0.82359546, 0.1764046 ], dtype=float32),\n",
       "  'class_ids': array([0]),\n",
       "  'classes': array([b'0'], dtype=object)},\n",
       " {'logits': array([-1.3851509], dtype=float32),\n",
       "  'logistic': array([0.200183], dtype=float32),\n",
       "  'probabilities': array([0.799817  , 0.20018302], dtype=float32),\n",
       "  'class_ids': array([0]),\n",
       "  'classes': array([b'0'], dtype=object)},\n",
       " {'logits': array([-1.3201921], dtype=float32),\n",
       "  'logistic': array([0.21078633], dtype=float32),\n",
       "  'probabilities': array([0.78921366, 0.21078634], dtype=float32),\n",
       "  'class_ids': array([0]),\n",
       "  'classes': array([b'0'], dtype=object)},\n",
       " {'logits': array([0.33116496], dtype=float32),\n",
       "  'logistic': array([0.5820428], dtype=float32),\n",
       "  'probabilities': array([0.41795722, 0.5820428 ], dtype=float32),\n",
       "  'class_ids': array([1]),\n",
       "  'classes': array([b'1'], dtype=object)},\n",
       " {'logits': array([-1.6008201], dtype=float32),\n",
       "  'logistic': array([0.16786702], dtype=float32),\n",
       "  'probabilities': array([0.832133  , 0.16786703], dtype=float32),\n",
       "  'class_ids': array([0]),\n",
       "  'classes': array([b'0'], dtype=object)},\n",
       " {'logits': array([-1.434437], dtype=float32),\n",
       "  'logistic': array([0.1924083], dtype=float32),\n",
       "  'probabilities': array([0.80759174, 0.1924083 ], dtype=float32),\n",
       "  'class_ids': array([0]),\n",
       "  'classes': array([b'0'], dtype=object)},\n",
       " {'logits': array([-1.7323409], dtype=float32),\n",
       "  'logistic': array([0.1502884], dtype=float32),\n",
       "  'probabilities': array([0.8497116 , 0.15028839], dtype=float32),\n",
       "  'class_ids': array([0]),\n",
       "  'classes': array([b'0'], dtype=object)},\n",
       " {'logits': array([-1.5342304], dtype=float32),\n",
       "  'logistic': array([0.17737558], dtype=float32),\n",
       "  'probabilities': array([0.8226244 , 0.17737557], dtype=float32),\n",
       "  'class_ids': array([0]),\n",
       "  'classes': array([b'0'], dtype=object)},\n",
       " {'logits': array([-0.98042715], dtype=float32),\n",
       "  'logistic': array([0.27280703], dtype=float32),\n",
       "  'probabilities': array([0.727193  , 0.27280706], dtype=float32),\n",
       "  'class_ids': array([0]),\n",
       "  'classes': array([b'0'], dtype=object)},\n",
       " {'logits': array([-0.47317582], dtype=float32),\n",
       "  'logistic': array([0.38386485], dtype=float32),\n",
       "  'probabilities': array([0.6161352 , 0.38386488], dtype=float32),\n",
       "  'class_ids': array([0]),\n",
       "  'classes': array([b'0'], dtype=object)},\n",
       " {'logits': array([-1.2734146], dtype=float32),\n",
       "  'logistic': array([0.21867329], dtype=float32),\n",
       "  'probabilities': array([0.7813267 , 0.21867329], dtype=float32),\n",
       "  'class_ids': array([0]),\n",
       "  'classes': array([b'0'], dtype=object)},\n",
       " {'logits': array([-1.5359845], dtype=float32),\n",
       "  'logistic': array([0.17711976], dtype=float32),\n",
       "  'probabilities': array([0.8228802 , 0.17711976], dtype=float32),\n",
       "  'class_ids': array([0]),\n",
       "  'classes': array([b'0'], dtype=object)},\n",
       " {'logits': array([-0.90517193], dtype=float32),\n",
       "  'logistic': array([0.2879888], dtype=float32),\n",
       "  'probabilities': array([0.71201116, 0.28798884], dtype=float32),\n",
       "  'class_ids': array([0]),\n",
       "  'classes': array([b'0'], dtype=object)},\n",
       " {'logits': array([-0.36433494], dtype=float32),\n",
       "  'logistic': array([0.4099106], dtype=float32),\n",
       "  'probabilities': array([0.5900894, 0.4099106], dtype=float32),\n",
       "  'class_ids': array([0]),\n",
       "  'classes': array([b'0'], dtype=object)},\n",
       " {'logits': array([-1.3033551], dtype=float32),\n",
       "  'logistic': array([0.2136009], dtype=float32),\n",
       "  'probabilities': array([0.78639907, 0.2136009 ], dtype=float32),\n",
       "  'class_ids': array([0]),\n",
       "  'classes': array([b'0'], dtype=object)},\n",
       " {'logits': array([-0.8170912], dtype=float32),\n",
       "  'logistic': array([0.30638146], dtype=float32),\n",
       "  'probabilities': array([0.69361854, 0.30638146], dtype=float32),\n",
       "  'class_ids': array([0]),\n",
       "  'classes': array([b'0'], dtype=object)},\n",
       " {'logits': array([-1.761195], dtype=float32),\n",
       "  'logistic': array([0.14664075], dtype=float32),\n",
       "  'probabilities': array([0.8533593 , 0.14664075], dtype=float32),\n",
       "  'class_ids': array([0]),\n",
       "  'classes': array([b'0'], dtype=object)},\n",
       " {'logits': array([-1.5154794], dtype=float32),\n",
       "  'logistic': array([0.18012816], dtype=float32),\n",
       "  'probabilities': array([0.81987184, 0.18012816], dtype=float32),\n",
       "  'class_ids': array([0]),\n",
       "  'classes': array([b'0'], dtype=object)},\n",
       " {'logits': array([-1.5853152], dtype=float32),\n",
       "  'logistic': array([0.17004403], dtype=float32),\n",
       "  'probabilities': array([0.82995594, 0.17004403], dtype=float32),\n",
       "  'class_ids': array([0]),\n",
       "  'classes': array([b'0'], dtype=object)},\n",
       " {'logits': array([-1.5115316], dtype=float32),\n",
       "  'logistic': array([0.18071193], dtype=float32),\n",
       "  'probabilities': array([0.8192881 , 0.18071193], dtype=float32),\n",
       "  'class_ids': array([0]),\n",
       "  'classes': array([b'0'], dtype=object)},\n",
       " {'logits': array([0.14311862], dtype=float32),\n",
       "  'logistic': array([0.5357187], dtype=float32),\n",
       "  'probabilities': array([0.46428126, 0.5357187 ], dtype=float32),\n",
       "  'class_ids': array([1]),\n",
       "  'classes': array([b'1'], dtype=object)},\n",
       " {'logits': array([-0.5065464], dtype=float32),\n",
       "  'logistic': array([0.3760035], dtype=float32),\n",
       "  'probabilities': array([0.6239965 , 0.37600347], dtype=float32),\n",
       "  'class_ids': array([0]),\n",
       "  'classes': array([b'0'], dtype=object)},\n",
       " {'logits': array([-0.586187], dtype=float32),\n",
       "  'logistic': array([0.3575102], dtype=float32),\n",
       "  'probabilities': array([0.64248985, 0.35751024], dtype=float32),\n",
       "  'class_ids': array([0]),\n",
       "  'classes': array([b'0'], dtype=object)},\n",
       " {'logits': array([-0.5103712], dtype=float32),\n",
       "  'logistic': array([0.3751065], dtype=float32),\n",
       "  'probabilities': array([0.6248935, 0.3751065], dtype=float32),\n",
       "  'class_ids': array([0]),\n",
       "  'classes': array([b'0'], dtype=object)},\n",
       " {'logits': array([-1.4611776], dtype=float32),\n",
       "  'logistic': array([0.18828727], dtype=float32),\n",
       "  'probabilities': array([0.81171274, 0.18828729], dtype=float32),\n",
       "  'class_ids': array([0]),\n",
       "  'classes': array([b'0'], dtype=object)},\n",
       " {'logits': array([-1.7826264], dtype=float32),\n",
       "  'logistic': array([0.14397913], dtype=float32),\n",
       "  'probabilities': array([0.85602087, 0.14397913], dtype=float32),\n",
       "  'class_ids': array([0]),\n",
       "  'classes': array([b'0'], dtype=object)},\n",
       " {'logits': array([-1.0133988], dtype=float32),\n",
       "  'logistic': array([0.26631522], dtype=float32),\n",
       "  'probabilities': array([0.7336847 , 0.26631522], dtype=float32),\n",
       "  'class_ids': array([0]),\n",
       "  'classes': array([b'0'], dtype=object)},\n",
       " {'logits': array([-1.6902767], dtype=float32),\n",
       "  'logistic': array([0.15573946], dtype=float32),\n",
       "  'probabilities': array([0.8442605 , 0.15573944], dtype=float32),\n",
       "  'class_ids': array([0]),\n",
       "  'classes': array([b'0'], dtype=object)},\n",
       " {'logits': array([0.2345351], dtype=float32),\n",
       "  'logistic': array([0.5583665], dtype=float32),\n",
       "  'probabilities': array([0.44163352, 0.5583665 ], dtype=float32),\n",
       "  'class_ids': array([1]),\n",
       "  'classes': array([b'1'], dtype=object)},\n",
       " {'logits': array([-0.15329063], dtype=float32),\n",
       "  'logistic': array([0.4617522], dtype=float32),\n",
       "  'probabilities': array([0.53824776, 0.46175218], dtype=float32),\n",
       "  'class_ids': array([0]),\n",
       "  'classes': array([b'0'], dtype=object)},\n",
       " {'logits': array([-0.7934368], dtype=float32),\n",
       "  'logistic': array([0.3114312], dtype=float32),\n",
       "  'probabilities': array([0.68856883, 0.31143123], dtype=float32),\n",
       "  'class_ids': array([0]),\n",
       "  'classes': array([b'0'], dtype=object)},\n",
       " {'logits': array([-1.4961054], dtype=float32),\n",
       "  'logistic': array([0.1830071], dtype=float32),\n",
       "  'probabilities': array([0.81699294, 0.18300712], dtype=float32),\n",
       "  'class_ids': array([0]),\n",
       "  'classes': array([b'0'], dtype=object)},\n",
       " {'logits': array([-1.790596], dtype=float32),\n",
       "  'logistic': array([0.14299968], dtype=float32),\n",
       "  'probabilities': array([0.85700035, 0.14299966], dtype=float32),\n",
       "  'class_ids': array([0]),\n",
       "  'classes': array([b'0'], dtype=object)},\n",
       " {'logits': array([-0.38040113], dtype=float32),\n",
       "  'logistic': array([0.40603015], dtype=float32),\n",
       "  'probabilities': array([0.5939699 , 0.40603018], dtype=float32),\n",
       "  'class_ids': array([0]),\n",
       "  'classes': array([b'0'], dtype=object)},\n",
       " {'logits': array([0.008178], dtype=float32),\n",
       "  'logistic': array([0.5020445], dtype=float32),\n",
       "  'probabilities': array([0.49795553, 0.5020445 ], dtype=float32),\n",
       "  'class_ids': array([1]),\n",
       "  'classes': array([b'1'], dtype=object)},\n",
       " {'logits': array([-1.5162064], dtype=float32),\n",
       "  'logistic': array([0.18002084], dtype=float32),\n",
       "  'probabilities': array([0.81997913, 0.18002082], dtype=float32),\n",
       "  'class_ids': array([0]),\n",
       "  'classes': array([b'0'], dtype=object)},\n",
       " {'logits': array([-0.23142302], dtype=float32),\n",
       "  'logistic': array([0.4424011], dtype=float32),\n",
       "  'probabilities': array([0.55759895, 0.44240108], dtype=float32),\n",
       "  'class_ids': array([0]),\n",
       "  'classes': array([b'0'], dtype=object)},\n",
       " {'logits': array([-0.99636877], dtype=float32),\n",
       "  'logistic': array([0.26965597], dtype=float32),\n",
       "  'probabilities': array([0.730344  , 0.26965594], dtype=float32),\n",
       "  'class_ids': array([0]),\n",
       "  'classes': array([b'0'], dtype=object)},\n",
       " {'logits': array([-1.5437127], dtype=float32),\n",
       "  'logistic': array([0.1759962], dtype=float32),\n",
       "  'probabilities': array([0.82400376, 0.1759962 ], dtype=float32),\n",
       "  'class_ids': array([0]),\n",
       "  'classes': array([b'0'], dtype=object)},\n",
       " {'logits': array([-2.1579537], dtype=float32),\n",
       "  'logistic': array([0.10359031], dtype=float32),\n",
       "  'probabilities': array([0.8964097 , 0.10359032], dtype=float32),\n",
       "  'class_ids': array([0]),\n",
       "  'classes': array([b'0'], dtype=object)},\n",
       " {'logits': array([-0.67421573], dtype=float32),\n",
       "  'logistic': array([0.3375535], dtype=float32),\n",
       "  'probabilities': array([0.6624465, 0.3375535], dtype=float32),\n",
       "  'class_ids': array([0]),\n",
       "  'classes': array([b'0'], dtype=object)},\n",
       " {'logits': array([1.2330335], dtype=float32),\n",
       "  'logistic': array([0.7743491], dtype=float32),\n",
       "  'probabilities': array([0.22565092, 0.7743491 ], dtype=float32),\n",
       "  'class_ids': array([1]),\n",
       "  'classes': array([b'1'], dtype=object)},\n",
       " {'logits': array([-1.0216334], dtype=float32),\n",
       "  'logistic': array([0.26470935], dtype=float32),\n",
       "  'probabilities': array([0.73529065, 0.26470935], dtype=float32),\n",
       "  'class_ids': array([0]),\n",
       "  'classes': array([b'0'], dtype=object)},\n",
       " {'logits': array([-1.619261], dtype=float32),\n",
       "  'logistic': array([0.1653068], dtype=float32),\n",
       "  'probabilities': array([0.8346932, 0.1653068], dtype=float32),\n",
       "  'class_ids': array([0]),\n",
       "  'classes': array([b'0'], dtype=object)},\n",
       " {'logits': array([-1.981795], dtype=float32),\n",
       "  'logistic': array([0.12112764], dtype=float32),\n",
       "  'probabilities': array([0.87887233, 0.12112762], dtype=float32),\n",
       "  'class_ids': array([0]),\n",
       "  'classes': array([b'0'], dtype=object)},\n",
       " {'logits': array([-0.9431048], dtype=float32),\n",
       "  'logistic': array([0.28027362], dtype=float32),\n",
       "  'probabilities': array([0.7197264 , 0.28027362], dtype=float32),\n",
       "  'class_ids': array([0]),\n",
       "  'classes': array([b'0'], dtype=object)},\n",
       " {'logits': array([1.0582801], dtype=float32),\n",
       "  'logistic': array([0.7423617], dtype=float32),\n",
       "  'probabilities': array([0.25763825, 0.7423617 ], dtype=float32),\n",
       "  'class_ids': array([1]),\n",
       "  'classes': array([b'1'], dtype=object)},\n",
       " {'logits': array([0.444713], dtype=float32),\n",
       "  'logistic': array([0.60938144], dtype=float32),\n",
       "  'probabilities': array([0.39061853, 0.6093815 ], dtype=float32),\n",
       "  'class_ids': array([1]),\n",
       "  'classes': array([b'1'], dtype=object)},\n",
       " {'logits': array([-0.14701128], dtype=float32),\n",
       "  'logistic': array([0.4633132], dtype=float32),\n",
       "  'probabilities': array([0.5366868 , 0.46331322], dtype=float32),\n",
       "  'class_ids': array([0]),\n",
       "  'classes': array([b'0'], dtype=object)},\n",
       " {'logits': array([0.3391868], dtype=float32),\n",
       "  'logistic': array([0.58399296], dtype=float32),\n",
       "  'probabilities': array([0.416007  , 0.58399296], dtype=float32),\n",
       "  'class_ids': array([1]),\n",
       "  'classes': array([b'1'], dtype=object)},\n",
       " {'logits': array([1.139531], dtype=float32),\n",
       "  'logistic': array([0.7575935], dtype=float32),\n",
       "  'probabilities': array([0.24240649, 0.7575935 ], dtype=float32),\n",
       "  'class_ids': array([1]),\n",
       "  'classes': array([b'1'], dtype=object)},\n",
       " {'logits': array([0.23570323], dtype=float32),\n",
       "  'logistic': array([0.5586545], dtype=float32),\n",
       "  'probabilities': array([0.44134548, 0.5586545 ], dtype=float32),\n",
       "  'class_ids': array([1]),\n",
       "  'classes': array([b'1'], dtype=object)},\n",
       " {'logits': array([-0.98127055], dtype=float32),\n",
       "  'logistic': array([0.27263975], dtype=float32),\n",
       "  'probabilities': array([0.72736025, 0.27263975], dtype=float32),\n",
       "  'class_ids': array([0]),\n",
       "  'classes': array([b'0'], dtype=object)},\n",
       " {'logits': array([-1.9747369], dtype=float32),\n",
       "  'logistic': array([0.12188102], dtype=float32),\n",
       "  'probabilities': array([0.87811905, 0.12188101], dtype=float32),\n",
       "  'class_ids': array([0]),\n",
       "  'classes': array([b'0'], dtype=object)}]"
      ]
     },
     "execution_count": 641,
     "metadata": {},
     "output_type": "execute_result"
    }
   ],
   "source": [
    "list(estimator.predict(pred_input_func))"
   ]
  },
  {
   "cell_type": "code",
   "execution_count": 644,
   "metadata": {},
   "outputs": [
    {
     "name": "stdout",
     "output_type": "stream",
     "text": [
      "INFO:tensorflow:Calling model_fn.\n",
      "INFO:tensorflow:Done calling model_fn.\n",
      "INFO:tensorflow:Graph was finalized.\n",
      "INFO:tensorflow:Restoring parameters from /tmp/tmp1odrmcqi/model.ckpt-1000\n",
      "INFO:tensorflow:Running local_init_op.\n",
      "INFO:tensorflow:Done running local_init_op.\n"
     ]
    }
   ],
   "source": [
    "y_pred = []\n",
    "for i in list(estimator.predict(pred_input_func)):\n",
    "    y_pred.append(i['classes'].)"
   ]
  },
  {
   "cell_type": "code",
   "execution_count": 648,
   "metadata": {},
   "outputs": [
    {
     "data": {
      "text/plain": [
       "[array([b'0'], dtype=object),\n",
       " array([b'1'], dtype=object),\n",
       " array([b'0'], dtype=object),\n",
       " array([b'1'], dtype=object),\n",
       " array([b'0'], dtype=object),\n",
       " array([b'1'], dtype=object),\n",
       " array([b'1'], dtype=object),\n",
       " array([b'0'], dtype=object),\n",
       " array([b'1'], dtype=object),\n",
       " array([b'0'], dtype=object),\n",
       " array([b'1'], dtype=object),\n",
       " array([b'0'], dtype=object),\n",
       " array([b'0'], dtype=object),\n",
       " array([b'0'], dtype=object),\n",
       " array([b'1'], dtype=object),\n",
       " array([b'0'], dtype=object),\n",
       " array([b'0'], dtype=object),\n",
       " array([b'0'], dtype=object),\n",
       " array([b'0'], dtype=object),\n",
       " array([b'1'], dtype=object),\n",
       " array([b'0'], dtype=object),\n",
       " array([b'0'], dtype=object),\n",
       " array([b'0'], dtype=object),\n",
       " array([b'0'], dtype=object),\n",
       " array([b'0'], dtype=object),\n",
       " array([b'1'], dtype=object),\n",
       " array([b'0'], dtype=object),\n",
       " array([b'0'], dtype=object),\n",
       " array([b'0'], dtype=object),\n",
       " array([b'0'], dtype=object),\n",
       " array([b'0'], dtype=object),\n",
       " array([b'0'], dtype=object),\n",
       " array([b'0'], dtype=object),\n",
       " array([b'0'], dtype=object),\n",
       " array([b'0'], dtype=object),\n",
       " array([b'0'], dtype=object),\n",
       " array([b'0'], dtype=object),\n",
       " array([b'0'], dtype=object),\n",
       " array([b'1'], dtype=object),\n",
       " array([b'0'], dtype=object),\n",
       " array([b'0'], dtype=object),\n",
       " array([b'1'], dtype=object),\n",
       " array([b'0'], dtype=object),\n",
       " array([b'0'], dtype=object),\n",
       " array([b'1'], dtype=object),\n",
       " array([b'0'], dtype=object),\n",
       " array([b'0'], dtype=object),\n",
       " array([b'0'], dtype=object),\n",
       " array([b'0'], dtype=object),\n",
       " array([b'1'], dtype=object),\n",
       " array([b'0'], dtype=object),\n",
       " array([b'0'], dtype=object),\n",
       " array([b'1'], dtype=object),\n",
       " array([b'0'], dtype=object),\n",
       " array([b'0'], dtype=object),\n",
       " array([b'0'], dtype=object),\n",
       " array([b'0'], dtype=object),\n",
       " array([b'0'], dtype=object),\n",
       " array([b'0'], dtype=object),\n",
       " array([b'0'], dtype=object),\n",
       " array([b'0'], dtype=object),\n",
       " array([b'0'], dtype=object),\n",
       " array([b'0'], dtype=object),\n",
       " array([b'0'], dtype=object),\n",
       " array([b'0'], dtype=object),\n",
       " array([b'0'], dtype=object),\n",
       " array([b'1'], dtype=object),\n",
       " array([b'0'], dtype=object),\n",
       " array([b'1'], dtype=object),\n",
       " array([b'0'], dtype=object),\n",
       " array([b'1'], dtype=object),\n",
       " array([b'1'], dtype=object),\n",
       " array([b'0'], dtype=object),\n",
       " array([b'1'], dtype=object),\n",
       " array([b'0'], dtype=object),\n",
       " array([b'0'], dtype=object),\n",
       " array([b'1'], dtype=object),\n",
       " array([b'1'], dtype=object),\n",
       " array([b'0'], dtype=object),\n",
       " array([b'0'], dtype=object),\n",
       " array([b'1'], dtype=object),\n",
       " array([b'1'], dtype=object),\n",
       " array([b'0'], dtype=object),\n",
       " array([b'0'], dtype=object),\n",
       " array([b'0'], dtype=object),\n",
       " array([b'1'], dtype=object),\n",
       " array([b'0'], dtype=object),\n",
       " array([b'0'], dtype=object),\n",
       " array([b'0'], dtype=object),\n",
       " array([b'0'], dtype=object),\n",
       " array([b'1'], dtype=object),\n",
       " array([b'0'], dtype=object),\n",
       " array([b'0'], dtype=object),\n",
       " array([b'0'], dtype=object),\n",
       " array([b'0'], dtype=object),\n",
       " array([b'0'], dtype=object),\n",
       " array([b'0'], dtype=object),\n",
       " array([b'0'], dtype=object),\n",
       " array([b'0'], dtype=object),\n",
       " array([b'0'], dtype=object),\n",
       " array([b'0'], dtype=object),\n",
       " array([b'0'], dtype=object),\n",
       " array([b'1'], dtype=object),\n",
       " array([b'0'], dtype=object),\n",
       " array([b'0'], dtype=object),\n",
       " array([b'0'], dtype=object),\n",
       " array([b'0'], dtype=object),\n",
       " array([b'0'], dtype=object),\n",
       " array([b'0'], dtype=object),\n",
       " array([b'1'], dtype=object),\n",
       " array([b'0'], dtype=object),\n",
       " array([b'1'], dtype=object),\n",
       " array([b'0'], dtype=object),\n",
       " array([b'0'], dtype=object),\n",
       " array([b'0'], dtype=object),\n",
       " array([b'0'], dtype=object),\n",
       " array([b'0'], dtype=object),\n",
       " array([b'0'], dtype=object),\n",
       " array([b'0'], dtype=object),\n",
       " array([b'0'], dtype=object),\n",
       " array([b'1'], dtype=object),\n",
       " array([b'0'], dtype=object),\n",
       " array([b'1'], dtype=object),\n",
       " array([b'1'], dtype=object),\n",
       " array([b'0'], dtype=object),\n",
       " array([b'0'], dtype=object),\n",
       " array([b'0'], dtype=object),\n",
       " array([b'0'], dtype=object),\n",
       " array([b'0'], dtype=object),\n",
       " array([b'0'], dtype=object),\n",
       " array([b'0'], dtype=object),\n",
       " array([b'1'], dtype=object),\n",
       " array([b'0'], dtype=object),\n",
       " array([b'0'], dtype=object),\n",
       " array([b'0'], dtype=object),\n",
       " array([b'1'], dtype=object),\n",
       " array([b'1'], dtype=object),\n",
       " array([b'0'], dtype=object),\n",
       " array([b'0'], dtype=object),\n",
       " array([b'0'], dtype=object),\n",
       " array([b'0'], dtype=object),\n",
       " array([b'1'], dtype=object),\n",
       " array([b'1'], dtype=object),\n",
       " array([b'1'], dtype=object),\n",
       " array([b'0'], dtype=object),\n",
       " array([b'0'], dtype=object),\n",
       " array([b'0'], dtype=object),\n",
       " array([b'0'], dtype=object),\n",
       " array([b'0'], dtype=object),\n",
       " array([b'0'], dtype=object),\n",
       " array([b'0'], dtype=object),\n",
       " array([b'0'], dtype=object),\n",
       " array([b'0'], dtype=object),\n",
       " array([b'1'], dtype=object),\n",
       " array([b'1'], dtype=object),\n",
       " array([b'0'], dtype=object),\n",
       " array([b'1'], dtype=object),\n",
       " array([b'0'], dtype=object),\n",
       " array([b'0'], dtype=object),\n",
       " array([b'0'], dtype=object),\n",
       " array([b'0'], dtype=object),\n",
       " array([b'0'], dtype=object),\n",
       " array([b'1'], dtype=object),\n",
       " array([b'0'], dtype=object),\n",
       " array([b'1'], dtype=object),\n",
       " array([b'0'], dtype=object),\n",
       " array([b'0'], dtype=object),\n",
       " array([b'0'], dtype=object),\n",
       " array([b'0'], dtype=object),\n",
       " array([b'0'], dtype=object),\n",
       " array([b'0'], dtype=object),\n",
       " array([b'0'], dtype=object),\n",
       " array([b'0'], dtype=object),\n",
       " array([b'0'], dtype=object),\n",
       " array([b'0'], dtype=object),\n",
       " array([b'0'], dtype=object),\n",
       " array([b'0'], dtype=object),\n",
       " array([b'0'], dtype=object),\n",
       " array([b'0'], dtype=object),\n",
       " array([b'0'], dtype=object),\n",
       " array([b'1'], dtype=object),\n",
       " array([b'0'], dtype=object),\n",
       " array([b'0'], dtype=object),\n",
       " array([b'0'], dtype=object),\n",
       " array([b'0'], dtype=object),\n",
       " array([b'0'], dtype=object),\n",
       " array([b'0'], dtype=object),\n",
       " array([b'0'], dtype=object),\n",
       " array([b'0'], dtype=object),\n",
       " array([b'0'], dtype=object),\n",
       " array([b'0'], dtype=object),\n",
       " array([b'0'], dtype=object),\n",
       " array([b'0'], dtype=object),\n",
       " array([b'0'], dtype=object),\n",
       " array([b'0'], dtype=object),\n",
       " array([b'0'], dtype=object),\n",
       " array([b'0'], dtype=object),\n",
       " array([b'1'], dtype=object),\n",
       " array([b'0'], dtype=object),\n",
       " array([b'0'], dtype=object),\n",
       " array([b'0'], dtype=object),\n",
       " array([b'0'], dtype=object),\n",
       " array([b'0'], dtype=object),\n",
       " array([b'0'], dtype=object),\n",
       " array([b'0'], dtype=object),\n",
       " array([b'1'], dtype=object),\n",
       " array([b'0'], dtype=object),\n",
       " array([b'0'], dtype=object),\n",
       " array([b'0'], dtype=object),\n",
       " array([b'0'], dtype=object),\n",
       " array([b'0'], dtype=object),\n",
       " array([b'1'], dtype=object),\n",
       " array([b'0'], dtype=object),\n",
       " array([b'0'], dtype=object),\n",
       " array([b'0'], dtype=object),\n",
       " array([b'0'], dtype=object),\n",
       " array([b'0'], dtype=object),\n",
       " array([b'0'], dtype=object),\n",
       " array([b'1'], dtype=object),\n",
       " array([b'0'], dtype=object),\n",
       " array([b'0'], dtype=object),\n",
       " array([b'0'], dtype=object),\n",
       " array([b'0'], dtype=object),\n",
       " array([b'1'], dtype=object),\n",
       " array([b'1'], dtype=object),\n",
       " array([b'0'], dtype=object),\n",
       " array([b'1'], dtype=object),\n",
       " array([b'1'], dtype=object),\n",
       " array([b'1'], dtype=object),\n",
       " array([b'0'], dtype=object),\n",
       " array([b'0'], dtype=object)]"
      ]
     },
     "execution_count": 648,
     "metadata": {},
     "output_type": "execute_result"
    }
   ],
   "source": [
    "y_pred"
   ]
  },
  {
   "cell_type": "markdown",
   "metadata": {},
   "source": [
    "**DNN estimator\n"
   ]
  },
  {
   "cell_type": "code",
   "execution_count": 682,
   "metadata": {},
   "outputs": [
    {
     "name": "stdout",
     "output_type": "stream",
     "text": [
      "INFO:tensorflow:Using default config.\n",
      "WARNING:tensorflow:Using temporary folder as model directory: /tmp/tmpraqneu6p\n",
      "INFO:tensorflow:Using config: {'_model_dir': '/tmp/tmpraqneu6p', '_tf_random_seed': None, '_save_summary_steps': 100, '_save_checkpoints_steps': None, '_save_checkpoints_secs': 600, '_session_config': None, '_keep_checkpoint_max': 5, '_keep_checkpoint_every_n_hours': 10000, '_log_step_count_steps': 100, '_train_distribute': None, '_device_fn': None, '_service': None, '_cluster_spec': <tensorflow.python.training.server_lib.ClusterSpec object at 0x7f23993cd208>, '_task_type': 'worker', '_task_id': 0, '_global_id_in_cluster': 0, '_master': '', '_evaluation_master': '', '_is_chief': True, '_num_ps_replicas': 0, '_num_worker_replicas': 1}\n"
     ]
    }
   ],
   "source": [
    "dnn_model = tf.estimator.DNNClassifier([50, 40], feature_columns=feat_cols)"
   ]
  },
  {
   "cell_type": "code",
   "execution_count": 683,
   "metadata": {},
   "outputs": [
    {
     "name": "stdout",
     "output_type": "stream",
     "text": [
      "INFO:tensorflow:Calling model_fn.\n",
      "INFO:tensorflow:Done calling model_fn.\n",
      "INFO:tensorflow:Create CheckpointSaverHook.\n",
      "INFO:tensorflow:Graph was finalized.\n",
      "INFO:tensorflow:Running local_init_op.\n",
      "INFO:tensorflow:Done running local_init_op.\n",
      "INFO:tensorflow:Saving checkpoints for 0 into /tmp/tmpraqneu6p/model.ckpt.\n",
      "INFO:tensorflow:loss = 5.5770354, step = 1\n",
      "INFO:tensorflow:global_step/sec: 321.762\n",
      "INFO:tensorflow:loss = 2.6377602, step = 101 (0.311 sec)\n",
      "INFO:tensorflow:global_step/sec: 324.794\n",
      "INFO:tensorflow:loss = 6.4074664, step = 201 (0.309 sec)\n",
      "INFO:tensorflow:global_step/sec: 351.693\n",
      "INFO:tensorflow:loss = 3.5975838, step = 301 (0.283 sec)\n",
      "INFO:tensorflow:global_step/sec: 397.637\n",
      "INFO:tensorflow:loss = 4.2149906, step = 401 (0.251 sec)\n",
      "INFO:tensorflow:global_step/sec: 334.909\n",
      "INFO:tensorflow:loss = 3.7788544, step = 501 (0.299 sec)\n",
      "INFO:tensorflow:global_step/sec: 324.662\n",
      "INFO:tensorflow:loss = 4.4493613, step = 601 (0.308 sec)\n",
      "INFO:tensorflow:global_step/sec: 332.732\n",
      "INFO:tensorflow:loss = 7.6286936, step = 701 (0.300 sec)\n",
      "INFO:tensorflow:global_step/sec: 349.619\n",
      "INFO:tensorflow:loss = 5.1679225, step = 801 (0.286 sec)\n",
      "INFO:tensorflow:global_step/sec: 343.477\n",
      "INFO:tensorflow:loss = 3.3488429, step = 901 (0.291 sec)\n",
      "INFO:tensorflow:Saving checkpoints for 1000 into /tmp/tmpraqneu6p/model.ckpt.\n",
      "INFO:tensorflow:Loss for final step: 0.95398355.\n"
     ]
    },
    {
     "data": {
      "text/plain": [
       "<tensorflow.python.estimator.canned.dnn.DNNClassifier at 0x7f239826c7f0>"
      ]
     },
     "execution_count": 683,
     "metadata": {},
     "output_type": "execute_result"
    }
   ],
   "source": [
    "dnn_model.train(input_fn=input_func, steps=1000)"
   ]
  },
  {
   "cell_type": "code",
   "execution_count": 684,
   "metadata": {},
   "outputs": [
    {
     "name": "stdout",
     "output_type": "stream",
     "text": [
      "INFO:tensorflow:Calling model_fn.\n",
      "WARNING:tensorflow:Trapezoidal rule is known to produce incorrect PR-AUCs; please switch to \"careful_interpolation\" instead.\n",
      "WARNING:tensorflow:Trapezoidal rule is known to produce incorrect PR-AUCs; please switch to \"careful_interpolation\" instead.\n",
      "INFO:tensorflow:Done calling model_fn.\n",
      "INFO:tensorflow:Starting evaluation at 2018-10-27-17:39:50\n",
      "INFO:tensorflow:Graph was finalized.\n",
      "INFO:tensorflow:Restoring parameters from /tmp/tmpraqneu6p/model.ckpt-1000\n",
      "INFO:tensorflow:Running local_init_op.\n",
      "INFO:tensorflow:Done running local_init_op.\n",
      "INFO:tensorflow:Evaluation [100/1000]\n",
      "INFO:tensorflow:Evaluation [200/1000]\n",
      "INFO:tensorflow:Evaluation [300/1000]\n",
      "INFO:tensorflow:Evaluation [400/1000]\n",
      "INFO:tensorflow:Evaluation [500/1000]\n",
      "INFO:tensorflow:Evaluation [600/1000]\n",
      "INFO:tensorflow:Evaluation [700/1000]\n",
      "INFO:tensorflow:Evaluation [800/1000]\n",
      "INFO:tensorflow:Evaluation [900/1000]\n",
      "INFO:tensorflow:Evaluation [1000/1000]\n",
      "INFO:tensorflow:Finished evaluation at 2018-10-27-17:39:53\n",
      "INFO:tensorflow:Saving dict for global step 1000: accuracy = 0.745, accuracy_baseline = 0.640625, auc = 0.81363916, auc_precision_recall = 0.64309597, average_loss = 0.54888, global_step = 1000, label/mean = 0.359375, loss = 4.39104, precision = 0.7226667, prediction/mean = 0.2746041, recall = 0.47130436\n",
      "INFO:tensorflow:Saving 'checkpoint_path' summary for global step 1000: /tmp/tmpraqneu6p/model.ckpt-1000\n"
     ]
    }
   ],
   "source": [
    "test_metrics = dnn_model.evaluate(input_fn=test_input_func, steps=1000)"
   ]
  },
  {
   "cell_type": "code",
   "execution_count": 685,
   "metadata": {},
   "outputs": [
    {
     "data": {
      "text/plain": [
       "{'accuracy': 0.745,\n",
       " 'accuracy_baseline': 0.640625,\n",
       " 'auc': 0.81363916,\n",
       " 'auc_precision_recall': 0.64309597,\n",
       " 'average_loss': 0.54888,\n",
       " 'label/mean': 0.359375,\n",
       " 'loss': 4.39104,\n",
       " 'precision': 0.7226667,\n",
       " 'prediction/mean': 0.2746041,\n",
       " 'recall': 0.47130436,\n",
       " 'global_step': 1000}"
      ]
     },
     "execution_count": 685,
     "metadata": {},
     "output_type": "execute_result"
    }
   ],
   "source": [
    "test_metrics"
   ]
  },
  {
   "cell_type": "code",
   "execution_count": 686,
   "metadata": {},
   "outputs": [
    {
     "name": "stdout",
     "output_type": "stream",
     "text": [
      "INFO:tensorflow:Calling model_fn.\n",
      "WARNING:tensorflow:Trapezoidal rule is known to produce incorrect PR-AUCs; please switch to \"careful_interpolation\" instead.\n",
      "WARNING:tensorflow:Trapezoidal rule is known to produce incorrect PR-AUCs; please switch to \"careful_interpolation\" instead.\n",
      "INFO:tensorflow:Done calling model_fn.\n",
      "INFO:tensorflow:Starting evaluation at 2018-10-27-17:39:56\n",
      "INFO:tensorflow:Graph was finalized.\n",
      "INFO:tensorflow:Restoring parameters from /tmp/tmpraqneu6p/model.ckpt-1000\n",
      "INFO:tensorflow:Running local_init_op.\n",
      "INFO:tensorflow:Done running local_init_op.\n",
      "INFO:tensorflow:Evaluation [100/1000]\n",
      "INFO:tensorflow:Evaluation [200/1000]\n",
      "INFO:tensorflow:Evaluation [300/1000]\n",
      "INFO:tensorflow:Evaluation [400/1000]\n",
      "INFO:tensorflow:Evaluation [500/1000]\n",
      "INFO:tensorflow:Evaluation [600/1000]\n",
      "INFO:tensorflow:Evaluation [700/1000]\n",
      "INFO:tensorflow:Evaluation [800/1000]\n",
      "INFO:tensorflow:Evaluation [900/1000]\n",
      "INFO:tensorflow:Evaluation [1000/1000]\n",
      "INFO:tensorflow:Finished evaluation at 2018-10-27-17:39:59\n",
      "INFO:tensorflow:Saving dict for global step 1000: accuracy = 0.794875, accuracy_baseline = 0.65587497, auc = 0.8797431, auc_precision_recall = 0.80261993, average_loss = 0.42698967, global_step = 1000, label/mean = 0.344125, loss = 3.4159174, precision = 0.8195402, prediction/mean = 0.2727246, recall = 0.5179804\n",
      "INFO:tensorflow:Saving 'checkpoint_path' summary for global step 1000: /tmp/tmpraqneu6p/model.ckpt-1000\n"
     ]
    }
   ],
   "source": [
    "train_metrics = dnn_model.evaluate(input_fn=train_input_func, steps=1000)"
   ]
  },
  {
   "cell_type": "code",
   "execution_count": 687,
   "metadata": {},
   "outputs": [
    {
     "data": {
      "text/plain": [
       "{'accuracy': 0.794875,\n",
       " 'accuracy_baseline': 0.65587497,\n",
       " 'auc': 0.8797431,\n",
       " 'auc_precision_recall': 0.80261993,\n",
       " 'average_loss': 0.42698967,\n",
       " 'label/mean': 0.344125,\n",
       " 'loss': 3.4159174,\n",
       " 'precision': 0.8195402,\n",
       " 'prediction/mean': 0.2727246,\n",
       " 'recall': 0.5179804,\n",
       " 'global_step': 1000}"
      ]
     },
     "execution_count": 687,
     "metadata": {},
     "output_type": "execute_result"
    }
   ],
   "source": [
    "train_metrics\n"
   ]
  },
  {
   "cell_type": "code",
   "execution_count": null,
   "metadata": {},
   "outputs": [],
   "source": []
  },
  {
   "cell_type": "code",
   "execution_count": null,
   "metadata": {},
   "outputs": [],
   "source": []
  }
 ],
 "metadata": {
  "kernelspec": {
   "display_name": "Python 3",
   "language": "python",
   "name": "python3"
  },
  "language_info": {
   "codemirror_mode": {
    "name": "ipython",
    "version": 3
   },
   "file_extension": ".py",
   "mimetype": "text/x-python",
   "name": "python",
   "nbconvert_exporter": "python",
   "pygments_lexer": "ipython3",
   "version": "3.6.5"
  }
 },
 "nbformat": 4,
 "nbformat_minor": 2
}
