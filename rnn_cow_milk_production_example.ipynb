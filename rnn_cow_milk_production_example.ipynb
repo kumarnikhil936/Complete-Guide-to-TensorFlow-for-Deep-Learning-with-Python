{
 "cells": [
  {
   "cell_type": "markdown",
   "metadata": {},
   "source": [
    "Monthly milk production dataset per cow from Jan '62 to Dec '75\n",
    "\n",
    "Source : https://datamarket.com/data/set/22ox/monthly-milk-production-pounds-per-cow-jan-62-dec-75#!ds=22ox&display=line"
   ]
  },
  {
   "cell_type": "code",
   "execution_count": 1,
   "metadata": {},
   "outputs": [],
   "source": [
    "import numpy as np \n",
    "import pandas as pd \n",
    "import matplotlib.pyplot as plt \n",
    "%matplotlib inline "
   ]
  },
  {
   "cell_type": "code",
   "execution_count": 2,
   "metadata": {},
   "outputs": [],
   "source": [
    "milk = pd.read_csv('./monthly-milk-production-pounds-p.csv', index_col='Month')"
   ]
  },
  {
   "cell_type": "code",
   "execution_count": 3,
   "metadata": {},
   "outputs": [
    {
     "data": {
      "text/html": [
       "<div>\n",
       "<style scoped>\n",
       "    .dataframe tbody tr th:only-of-type {\n",
       "        vertical-align: middle;\n",
       "    }\n",
       "\n",
       "    .dataframe tbody tr th {\n",
       "        vertical-align: top;\n",
       "    }\n",
       "\n",
       "    .dataframe thead th {\n",
       "        text-align: right;\n",
       "    }\n",
       "</style>\n",
       "<table border=\"1\" class=\"dataframe\">\n",
       "  <thead>\n",
       "    <tr style=\"text-align: right;\">\n",
       "      <th></th>\n",
       "      <th>Milk production</th>\n",
       "    </tr>\n",
       "    <tr>\n",
       "      <th>Month</th>\n",
       "      <th></th>\n",
       "    </tr>\n",
       "  </thead>\n",
       "  <tbody>\n",
       "    <tr>\n",
       "      <th>1962-01</th>\n",
       "      <td>589</td>\n",
       "    </tr>\n",
       "    <tr>\n",
       "      <th>1962-02</th>\n",
       "      <td>561</td>\n",
       "    </tr>\n",
       "    <tr>\n",
       "      <th>1962-03</th>\n",
       "      <td>640</td>\n",
       "    </tr>\n",
       "    <tr>\n",
       "      <th>1962-04</th>\n",
       "      <td>656</td>\n",
       "    </tr>\n",
       "    <tr>\n",
       "      <th>1962-05</th>\n",
       "      <td>727</td>\n",
       "    </tr>\n",
       "  </tbody>\n",
       "</table>\n",
       "</div>"
      ],
      "text/plain": [
       "         Milk production\n",
       "Month                   \n",
       "1962-01              589\n",
       "1962-02              561\n",
       "1962-03              640\n",
       "1962-04              656\n",
       "1962-05              727"
      ]
     },
     "execution_count": 3,
     "metadata": {},
     "output_type": "execute_result"
    }
   ],
   "source": [
    "milk.head()"
   ]
  },
  {
   "cell_type": "code",
   "execution_count": 4,
   "metadata": {},
   "outputs": [
    {
     "data": {
      "text/html": [
       "<div>\n",
       "<style scoped>\n",
       "    .dataframe tbody tr th:only-of-type {\n",
       "        vertical-align: middle;\n",
       "    }\n",
       "\n",
       "    .dataframe tbody tr th {\n",
       "        vertical-align: top;\n",
       "    }\n",
       "\n",
       "    .dataframe thead th {\n",
       "        text-align: right;\n",
       "    }\n",
       "</style>\n",
       "<table border=\"1\" class=\"dataframe\">\n",
       "  <thead>\n",
       "    <tr style=\"text-align: right;\">\n",
       "      <th></th>\n",
       "      <th>Milk production</th>\n",
       "    </tr>\n",
       "    <tr>\n",
       "      <th>Month</th>\n",
       "      <th></th>\n",
       "    </tr>\n",
       "  </thead>\n",
       "  <tbody>\n",
       "    <tr>\n",
       "      <th>1962-01-01</th>\n",
       "      <td>589</td>\n",
       "    </tr>\n",
       "    <tr>\n",
       "      <th>1962-02-01</th>\n",
       "      <td>561</td>\n",
       "    </tr>\n",
       "    <tr>\n",
       "      <th>1962-03-01</th>\n",
       "      <td>640</td>\n",
       "    </tr>\n",
       "    <tr>\n",
       "      <th>1962-04-01</th>\n",
       "      <td>656</td>\n",
       "    </tr>\n",
       "    <tr>\n",
       "      <th>1962-05-01</th>\n",
       "      <td>727</td>\n",
       "    </tr>\n",
       "  </tbody>\n",
       "</table>\n",
       "</div>"
      ],
      "text/plain": [
       "            Milk production\n",
       "Month                      \n",
       "1962-01-01              589\n",
       "1962-02-01              561\n",
       "1962-03-01              640\n",
       "1962-04-01              656\n",
       "1962-05-01              727"
      ]
     },
     "execution_count": 4,
     "metadata": {},
     "output_type": "execute_result"
    }
   ],
   "source": [
    "milk.index = pd.to_datetime(milk.index)\n",
    "milk.head()"
   ]
  },
  {
   "cell_type": "code",
   "execution_count": 5,
   "metadata": {},
   "outputs": [
    {
     "data": {
      "text/plain": [
       "<matplotlib.axes._subplots.AxesSubplot at 0x7f2178009fd0>"
      ]
     },
     "execution_count": 5,
     "metadata": {},
     "output_type": "execute_result"
    },
    {
     "data": {
      "image/png": "[encoded data removed]",
      "text/plain": [
       "<Figure size 432x288 with 1 Axes>"
      ]
     },
     "metadata": {},
     "output_type": "display_data"
    }
   ],
   "source": [
    "milk.plot()"
   ]
  },
  {
   "cell_type": "markdown",
   "metadata": {},
   "source": [
    "# train test split \n",
    "\n",
    "Here we can not perform a random train test split. we want to give all but last year's data as training set, and keep the last year data as test set. Our network should make prediction on the last year values."
   ]
  },
  {
   "cell_type": "code",
   "execution_count": 6,
   "metadata": {},
   "outputs": [
    {
     "name": "stdout",
     "output_type": "stream",
     "text": [
      "<class 'pandas.core.frame.DataFrame'>\n",
      "DatetimeIndex: 168 entries, 1962-01-01 to 1975-12-01\n",
      "Data columns (total 1 columns):\n",
      "Milk production    168 non-null int64\n",
      "dtypes: int64(1)\n",
      "memory usage: 2.6 KB\n"
     ]
    }
   ],
   "source": [
    "milk.info()"
   ]
  },
  {
   "cell_type": "code",
   "execution_count": 7,
   "metadata": {},
   "outputs": [],
   "source": [
    "# 168 rows and 2 columns \n",
    "# 156 rows for training and 12 for test\n",
    "\n",
    "train_data = milk.head(156)\n",
    "test_data = milk.tail(12)"
   ]
  },
  {
   "cell_type": "code",
   "execution_count": 8,
   "metadata": {},
   "outputs": [
    {
     "name": "stdout",
     "output_type": "stream",
     "text": [
      "<class 'pandas.core.frame.DataFrame'>\n",
      "DatetimeIndex: 156 entries, 1962-01-01 to 1974-12-01\n",
      "Data columns (total 1 columns):\n",
      "Milk production    156 non-null int64\n",
      "dtypes: int64(1)\n",
      "memory usage: 2.4 KB\n"
     ]
    }
   ],
   "source": [
    "# data till year 1974\n",
    "train_data.info()"
   ]
  },
  {
   "cell_type": "code",
   "execution_count": 9,
   "metadata": {},
   "outputs": [
    {
     "name": "stdout",
     "output_type": "stream",
     "text": [
      "<class 'pandas.core.frame.DataFrame'>\n",
      "DatetimeIndex: 12 entries, 1975-01-01 to 1975-12-01\n",
      "Data columns (total 1 columns):\n",
      "Milk production    12 non-null int64\n",
      "dtypes: int64(1)\n",
      "memory usage: 192.0 bytes\n"
     ]
    }
   ],
   "source": [
    "# data for year 1975\n",
    "test_data.info()"
   ]
  },
  {
   "cell_type": "markdown",
   "metadata": {},
   "source": [
    "# scale the data \n",
    "\n",
    "Use the sklearn preprocessing to scale the data using MinMaxScaler. "
   ]
  },
  {
   "cell_type": "code",
   "execution_count": 10,
   "metadata": {},
   "outputs": [],
   "source": [
    "from sklearn.preprocessing import MinMaxScaler"
   ]
  },
  {
   "cell_type": "code",
   "execution_count": 11,
   "metadata": {},
   "outputs": [],
   "source": [
    "scaler = MinMaxScaler()"
   ]
  },
  {
   "cell_type": "code",
   "execution_count": 12,
   "metadata": {},
   "outputs": [],
   "source": [
    "train_scaled = scaler.fit_transform(train_data)"
   ]
  },
  {
   "cell_type": "code",
   "execution_count": 13,
   "metadata": {},
   "outputs": [],
   "source": [
    "test_scaled = scaler.fit_transform(test_data)"
   ]
  },
  {
   "cell_type": "markdown",
   "metadata": {},
   "source": [
    "# get next batch\n",
    "\n",
    "A function to feed training data in batches. "
   ]
  },
  {
   "cell_type": "code",
   "execution_count": 14,
   "metadata": {},
   "outputs": [],
   "source": [
    "def get_next_batch(training_data, batch_size, steps):\n",
    "    \"\"\"\n",
    "    input : data, batch size, time steps per batch\n",
    "    output : a tuple pf y time series results -- y[:, :-1] and y[:, 1:]\n",
    "    \"\"\"\n",
    "    \n",
    "    # step 1 : each batch should have same number of steps in it. \n",
    "    # so limit the starting point to len(data) - steps\n",
    "    rand_start = np.random.randint(0, len(training_data)-steps)\n",
    "    \n",
    "    # step 2 : index the data from rand_start to rand_start + steps + 1\n",
    "    # then reshape it to (1, steps+1)\n",
    "    y_batch = np.array(training_data[rand_start:rand_start+steps+1]).reshape(1, steps+1)\n",
    "    \n",
    "    # step 3 : return batches. \n",
    "\n",
    "    return y_batch[:, :-1].reshape(-1, steps, 1), y_batch[:, 1:].reshape(-1, steps, 1)"
   ]
  },
  {
   "cell_type": "markdown",
   "metadata": {},
   "source": [
    "# setup rnn model\n"
   ]
  },
  {
   "cell_type": "code",
   "execution_count": 15,
   "metadata": {},
   "outputs": [],
   "source": [
    "import tensorflow as tf "
   ]
  },
  {
   "cell_type": "code",
   "execution_count": 16,
   "metadata": {},
   "outputs": [],
   "source": [
    "num_inputs = 1\n",
    "num_time_steps = 12  # 12 months \n",
    "num_neurons = 100 \n",
    "num_outputs = 1\n",
    "learning_rate = 0.003\n",
    "num_traing_iterations = 6000\n",
    "batch_size = 1"
   ]
  },
  {
   "cell_type": "code",
   "execution_count": 17,
   "metadata": {},
   "outputs": [],
   "source": [
    "# placeholders \n",
    "x = tf.placeholder(tf.float32, [None, num_time_steps, num_inputs])\n",
    "y = tf.placeholder(tf.float32, [None, num_time_steps, num_outputs])\n"
   ]
  },
  {
   "cell_type": "code",
   "execution_count": 18,
   "metadata": {},
   "outputs": [],
   "source": [
    "cell = tf.contrib.rnn.OutputProjectionWrapper(tf.contrib.rnn.GRUCell(num_units=num_neurons, activation=tf.nn.relu), output_size=num_outputs)"
   ]
  },
  {
   "cell_type": "code",
   "execution_count": 19,
   "metadata": {},
   "outputs": [],
   "source": [
    "# create a rnn from the cell\n",
    "outputs, state = tf.nn.dynamic_rnn(cell=cell, inputs=x, dtype=tf.float32)"
   ]
  },
  {
   "cell_type": "code",
   "execution_count": 20,
   "metadata": {},
   "outputs": [],
   "source": [
    "# loss \n",
    "loss = tf.reduce_mean(tf.square(outputs - y))"
   ]
  },
  {
   "cell_type": "code",
   "execution_count": 33,
   "metadata": {},
   "outputs": [],
   "source": [
    "optimizer = tf.train.AdamOptimizer(learning_rate=learning_rate)"
   ]
  },
  {
   "cell_type": "code",
   "execution_count": 34,
   "metadata": {},
   "outputs": [],
   "source": [
    "train = optimizer.minimize(loss)"
   ]
  },
  {
   "cell_type": "code",
   "execution_count": 35,
   "metadata": {},
   "outputs": [],
   "source": [
    "init = tf.global_variables_initializer()"
   ]
  },
  {
   "cell_type": "code",
   "execution_count": 36,
   "metadata": {},
   "outputs": [],
   "source": [
    "gpu_options = tf.GPUOptions(per_process_gpu_memory_fraction=0.85)"
   ]
  },
  {
   "cell_type": "code",
   "execution_count": 37,
   "metadata": {},
   "outputs": [],
   "source": [
    "saver = tf.train.Saver()"
   ]
  },
  {
   "cell_type": "code",
   "execution_count": 38,
   "metadata": {},
   "outputs": [
    {
     "name": "stdout",
     "output_type": "stream",
     "text": [
      "0 \t MSE 0.073651545\n",
      "100 \t MSE 0.045660425\n",
      "200 \t MSE 0.098128766\n",
      "300 \t MSE 0.062068176\n",
      "400 \t MSE 0.019846048\n",
      "500 \t MSE 0.033237558\n",
      "600 \t MSE 0.015203855\n",
      "700 \t MSE 0.033378746\n",
      "800 \t MSE 0.02187532\n",
      "900 \t MSE 0.015989844\n",
      "1000 \t MSE 0.015971253\n",
      "1100 \t MSE 0.013913809\n",
      "1200 \t MSE 0.01033914\n",
      "1300 \t MSE 0.0071397237\n",
      "1400 \t MSE 0.01473773\n",
      "1500 \t MSE 0.014089639\n",
      "1600 \t MSE 0.022086956\n",
      "1700 \t MSE 0.008941687\n",
      "1800 \t MSE 0.005596965\n",
      "1900 \t MSE 0.009350129\n",
      "2000 \t MSE 0.009135445\n",
      "2100 \t MSE 0.011928689\n",
      "2200 \t MSE 0.008508604\n",
      "2300 \t MSE 0.010648422\n",
      "2400 \t MSE 0.009914298\n",
      "2500 \t MSE 0.015232558\n",
      "2600 \t MSE 0.009148412\n",
      "2700 \t MSE 0.0071668946\n",
      "2800 \t MSE 0.007820242\n",
      "2900 \t MSE 0.008805624\n",
      "3000 \t MSE 0.0061196373\n",
      "3100 \t MSE 0.0077196048\n",
      "3200 \t MSE 0.007403847\n",
      "3300 \t MSE 0.0107666105\n",
      "3400 \t MSE 0.0090101\n",
      "3500 \t MSE 0.007247796\n",
      "3600 \t MSE 0.006309046\n",
      "3700 \t MSE 0.0072573754\n",
      "3800 \t MSE 0.005402552\n",
      "3900 \t MSE 0.00967702\n",
      "4000 \t MSE 0.0068419925\n",
      "4100 \t MSE 0.0054398044\n",
      "4200 \t MSE 0.008836371\n",
      "4300 \t MSE 0.007238567\n",
      "4400 \t MSE 0.0060408195\n",
      "4500 \t MSE 0.00947588\n",
      "4600 \t MSE 0.0042729494\n",
      "4700 \t MSE 0.0070737745\n",
      "4800 \t MSE 0.0060570748\n",
      "4900 \t MSE 0.008170564\n",
      "5000 \t MSE 0.011800188\n",
      "5100 \t MSE 0.0047510522\n",
      "5200 \t MSE 0.005339889\n",
      "5300 \t MSE 0.0053978884\n",
      "5400 \t MSE 0.0075402334\n",
      "5500 \t MSE 0.009284896\n",
      "5600 \t MSE 0.003774819\n",
      "5700 \t MSE 0.009866965\n",
      "5800 \t MSE 0.009290094\n",
      "5900 \t MSE 0.0039263763\n"
     ]
    }
   ],
   "source": [
    "with tf.Session(config=tf.ConfigProto(gpu_options=gpu_options)) as sess:\n",
    "    sess.run(init)\n",
    "    \n",
    "    for iteration in range(num_traing_iterations):\n",
    "        \n",
    "        x_batch, y_batch = get_next_batch(training_data=train_scaled, batch_size=batch_size, steps=num_time_steps)\n",
    "        \n",
    "        sess.run(train, feed_dict={x:x_batch, y:y_batch})\n",
    "        \n",
    "        if iteration%100 == 0:\n",
    "            mse = loss.eval(feed_dict={x:x_batch, y:y_batch})\n",
    "            print(iteration, '\\t MSE', mse)\n",
    "    \n",
    "    # save the model, so that we can directly restore it later for inference\n",
    "    saver.save(sess, './rnn_cow_milk_production_example')"
   ]
  },
  {
   "cell_type": "code",
   "execution_count": 39,
   "metadata": {},
   "outputs": [
    {
     "name": "stdout",
     "output_type": "stream",
     "text": [
      "INFO:tensorflow:Restoring parameters from ./rnn_cow_milk_production_example\n"
     ]
    }
   ],
   "source": [
    "with tf.Session() as sess:\n",
    "\n",
    "    saver.restore(sess, './rnn_cow_milk_production_example')\n",
    "    \n",
    "    train_seed = list(train_scaled[-num_time_steps:])\n",
    "    \n",
    "    for iteration in range(num_time_steps):\n",
    "        \n",
    "        x_batch = np.array(train_seed[-num_time_steps:]).reshape(-1, num_time_steps, 1)\n",
    "        \n",
    "        y_pred = sess.run(outputs, feed_dict={x:x_batch})\n",
    "\n",
    "        train_seed.append(y_pred[0,-1])\n",
    "        \n",
    "        "
   ]
  },
  {
   "cell_type": "code",
   "execution_count": 40,
   "metadata": {},
   "outputs": [
    {
     "data": {
      "text/plain": [
       "[array([0.66105769]),\n",
       " array([0.54086538]),\n",
       " array([0.80769231]),\n",
       " array([0.83894231]),\n",
       " array([1.]),\n",
       " array([0.94711538]),\n",
       " array([0.85336538]),\n",
       " array([0.75480769]),\n",
       " array([0.62980769]),\n",
       " array([0.62259615]),\n",
       " array([0.52884615]),\n",
       " array([0.625]),\n",
       " array([0.61987627], dtype=float32),\n",
       " array([0.65146434], dtype=float32),\n",
       " array([0.73299634], dtype=float32),\n",
       " array([0.86247313], dtype=float32),\n",
       " array([0.97837055], dtype=float32),\n",
       " array([1.0073524], dtype=float32),\n",
       " array([0.88058543], dtype=float32),\n",
       " array([0.75895274], dtype=float32),\n",
       " array([0.64140165], dtype=float32),\n",
       " array([0.5883343], dtype=float32),\n",
       " array([0.5556835], dtype=float32),\n",
       " array([0.5910305], dtype=float32)]"
      ]
     },
     "execution_count": 40,
     "metadata": {},
     "output_type": "execute_result"
    }
   ],
   "source": [
    "train_seed\n",
    "# y_pred"
   ]
  },
  {
   "cell_type": "code",
   "execution_count": 41,
   "metadata": {},
   "outputs": [
    {
     "data": {
      "text/plain": [
       "array([[896.05725],\n",
       "       [901.86945],\n",
       "       [916.87134],\n",
       "       [940.695  ],\n",
       "       [962.0202 ],\n",
       "       [967.35284],\n",
       "       [944.0278 ],\n",
       "       [921.6473 ],\n",
       "       [900.01794],\n",
       "       [890.2535 ],\n",
       "       [884.2458 ],\n",
       "       [890.74963]], dtype=float32)"
      ]
     },
     "execution_count": 41,
     "metadata": {},
     "output_type": "execute_result"
    }
   ],
   "source": [
    " '''\n",
    " This is the data of interest.\n",
    " \n",
    " array([0.6445907], dtype=float32),\n",
    " array([0.64913553], dtype=float32),\n",
    " array([0.6948407], dtype=float32),\n",
    " array([0.80383533], dtype=float32),\n",
    " array([0.8872159], dtype=float32),\n",
    " array([0.98493], dtype=float32),\n",
    " array([0.9105064], dtype=float32),\n",
    " array([0.8090516], dtype=float32),\n",
    " array([0.7002785], dtype=float32),\n",
    " array([0.58972025], dtype=float32),\n",
    " array([0.56556237], dtype=float32),\n",
    " array([0.54153305], dtype=float32)] \n",
    " '''\n",
    "# This data is still in transformed form, due to sklearn scaler\n",
    "# inverse the transform to get actual numbers\n",
    "\n",
    "results = scaler.inverse_transform(np.array(train_seed[-num_time_steps:])).reshape(12, 1)\n",
    "results"
   ]
  },
  {
   "cell_type": "code",
   "execution_count": 42,
   "metadata": {},
   "outputs": [
    {
     "name": "stderr",
     "output_type": "stream",
     "text": [
      "/home/student/anaconda3/lib/python3.6/site-packages/ipykernel_launcher.py:3: SettingWithCopyWarning: \n",
      "A value is trying to be set on a copy of a slice from a DataFrame.\n",
      "Try using .loc[row_indexer,col_indexer] = value instead\n",
      "\n",
      "See the caveats in the documentation: http://pandas.pydata.org/pandas-docs/stable/indexing.html#indexing-view-versus-copy\n",
      "  This is separate from the ipykernel package so we can avoid doing imports until\n"
     ]
    }
   ],
   "source": [
    "# create a test_set and set the predictions to the generated result.\n",
    "\n",
    "test_data['Generated'] = results"
   ]
  },
  {
   "cell_type": "code",
   "execution_count": 43,
   "metadata": {},
   "outputs": [
    {
     "data": {
      "text/html": [
       "<div>\n",
       "<style scoped>\n",
       "    .dataframe tbody tr th:only-of-type {\n",
       "        vertical-align: middle;\n",
       "    }\n",
       "\n",
       "    .dataframe tbody tr th {\n",
       "        vertical-align: top;\n",
       "    }\n",
       "\n",
       "    .dataframe thead th {\n",
       "        text-align: right;\n",
       "    }\n",
       "</style>\n",
       "<table border=\"1\" class=\"dataframe\">\n",
       "  <thead>\n",
       "    <tr style=\"text-align: right;\">\n",
       "      <th></th>\n",
       "      <th>Milk production</th>\n",
       "      <th>Generated</th>\n",
       "    </tr>\n",
       "    <tr>\n",
       "      <th>Month</th>\n",
       "      <th></th>\n",
       "      <th></th>\n",
       "    </tr>\n",
       "  </thead>\n",
       "  <tbody>\n",
       "    <tr>\n",
       "      <th>1975-01-01</th>\n",
       "      <td>834</td>\n",
       "      <td>896.057251</td>\n",
       "    </tr>\n",
       "    <tr>\n",
       "      <th>1975-02-01</th>\n",
       "      <td>782</td>\n",
       "      <td>901.869446</td>\n",
       "    </tr>\n",
       "    <tr>\n",
       "      <th>1975-03-01</th>\n",
       "      <td>892</td>\n",
       "      <td>916.871338</td>\n",
       "    </tr>\n",
       "    <tr>\n",
       "      <th>1975-04-01</th>\n",
       "      <td>903</td>\n",
       "      <td>940.695007</td>\n",
       "    </tr>\n",
       "    <tr>\n",
       "      <th>1975-05-01</th>\n",
       "      <td>966</td>\n",
       "      <td>962.020203</td>\n",
       "    </tr>\n",
       "    <tr>\n",
       "      <th>1975-06-01</th>\n",
       "      <td>937</td>\n",
       "      <td>967.352844</td>\n",
       "    </tr>\n",
       "    <tr>\n",
       "      <th>1975-07-01</th>\n",
       "      <td>896</td>\n",
       "      <td>944.027771</td>\n",
       "    </tr>\n",
       "    <tr>\n",
       "      <th>1975-08-01</th>\n",
       "      <td>858</td>\n",
       "      <td>921.647278</td>\n",
       "    </tr>\n",
       "    <tr>\n",
       "      <th>1975-09-01</th>\n",
       "      <td>817</td>\n",
       "      <td>900.017944</td>\n",
       "    </tr>\n",
       "    <tr>\n",
       "      <th>1975-10-01</th>\n",
       "      <td>827</td>\n",
       "      <td>890.253479</td>\n",
       "    </tr>\n",
       "    <tr>\n",
       "      <th>1975-11-01</th>\n",
       "      <td>797</td>\n",
       "      <td>884.245789</td>\n",
       "    </tr>\n",
       "    <tr>\n",
       "      <th>1975-12-01</th>\n",
       "      <td>843</td>\n",
       "      <td>890.749634</td>\n",
       "    </tr>\n",
       "  </tbody>\n",
       "</table>\n",
       "</div>"
      ],
      "text/plain": [
       "            Milk production   Generated\n",
       "Month                                  \n",
       "1975-01-01              834  896.057251\n",
       "1975-02-01              782  901.869446\n",
       "1975-03-01              892  916.871338\n",
       "1975-04-01              903  940.695007\n",
       "1975-05-01              966  962.020203\n",
       "1975-06-01              937  967.352844\n",
       "1975-07-01              896  944.027771\n",
       "1975-08-01              858  921.647278\n",
       "1975-09-01              817  900.017944\n",
       "1975-10-01              827  890.253479\n",
       "1975-11-01              797  884.245789\n",
       "1975-12-01              843  890.749634"
      ]
     },
     "execution_count": 43,
     "metadata": {},
     "output_type": "execute_result"
    }
   ],
   "source": [
    "test_data"
   ]
  },
  {
   "cell_type": "code",
   "execution_count": 44,
   "metadata": {},
   "outputs": [
    {
     "data": {
      "text/plain": [
       "<matplotlib.axes._subplots.AxesSubplot at 0x7f2144986748>"
      ]
     },
     "execution_count": 44,
     "metadata": {},
     "output_type": "execute_result"
    },
    {
     "data": {
      "image/png": "[encoded data removed]",
      "text/plain": [
       "<Figure size 432x288 with 1 Axes>"
      ]
     },
     "metadata": {},
     "output_type": "display_data"
    }
   ],
   "source": [
    "# plot the data \n",
    "test_data.plot()"
   ]
  },
  {
   "cell_type": "markdown",
   "metadata": {},
   "source": [
    "# note: the model is trained to predict only the next 1 value and its a bit unfair to ask it to give predictions for next 12 months \n"
   ]
  },
  {
   "cell_type": "code",
   "execution_count": null,
   "metadata": {},
   "outputs": [],
   "source": []
  }
 ],
 "metadata": {
  "kernelspec": {
   "display_name": "Python 3",
   "language": "python",
   "name": "python3"
  },
  "language_info": {
   "codemirror_mode": {
    "name": "ipython",
    "version": 3
   },
   "file_extension": ".py",
   "mimetype": "text/x-python",
   "name": "python",
   "nbconvert_exporter": "python",
   "pygments_lexer": "ipython3",
   "version": "3.6.5"
  }
 },
 "nbformat": 4,
 "nbformat_minor": 2
}
